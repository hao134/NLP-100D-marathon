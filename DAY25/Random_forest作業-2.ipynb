{
  "nbformat": 4,
  "nbformat_minor": 0,
  "metadata": {
    "kernelspec": {
      "display_name": "pytorch_env",
      "language": "python",
      "name": "pytorch_env"
    },
    "language_info": {
      "codemirror_mode": {
        "name": "ipython",
        "version": 3
      },
      "file_extension": ".py",
      "mimetype": "text/x-python",
      "name": "python",
      "nbconvert_exporter": "python",
      "pygments_lexer": "ipython3",
      "version": "3.7.3"
    },
    "colab": {
      "name": "Random_forest作業.ipynb",
      "provenance": []
    }
  },
  "cells": [
    {
      "cell_type": "markdown",
      "metadata": {
        "id": "cN_qv9_KlGDw"
      },
      "source": [
        "### 作業目的: 了解何謂Bias-Variance Tradeoff\n",
        "![](https://i.imgur.com/Ib4zKIA.png)"
      ]
    },
    {
      "cell_type": "markdown",
      "metadata": {
        "id": "19flirSxlGD2"
      },
      "source": [
        "### Q1: 一般模型誤差可拆為三部分，這三部分的誤差分別是？\n",
        "\n",
        "Answer: \n",
        "bias,\n",
        "variance,\n",
        "irreducible error"
      ]
    },
    {
      "cell_type": "markdown",
      "metadata": {
        "id": "v_LDcVL3lGD3"
      },
      "source": [
        "### Q2: 請解釋何謂Bias-Variance Tradeoff\n",
        "\n",
        "Answer:\n",
        "\n",
        "High bias -> underfitting\n",
        "\n",
        "High variance -> overfitting\n",
        "\n",
        "low bias with high variance\n",
        "\n",
        "and \n",
        "\n",
        "low variance with high bias\n",
        "\n",
        "tradeoff -> find a balance point not to have high bias and high variance"
      ]
    },
    {
      "cell_type": "code",
      "metadata": {
        "id": "4hUaS6fOlGD3"
      },
      "source": [
        ""
      ],
      "execution_count": null,
      "outputs": []
    }
  ]
}