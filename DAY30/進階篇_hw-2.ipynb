{
  "nbformat": 4,
  "nbformat_minor": 0,
  "metadata": {
    "orig_nbformat": 2,
    "kernelspec": {
      "name": "python3",
      "display_name": "Python 3"
    },
    "colab": {
      "name": "進階篇_hw.ipynb",
      "provenance": [],
      "toc_visible": true
    },
    "widgets": {
      "application/vnd.jupyter.widget-state+json": {
        "c26c65ce793841d289005afef6b89ec1": {
          "model_module": "@jupyter-widgets/controls",
          "model_name": "LabelModel",
          "state": {
            "_view_name": "LabelView",
            "style": "IPY_MODEL_5ca0cf913c034e77bbd8db6d7f648c67",
            "_dom_classes": [],
            "description": "",
            "_model_name": "LabelModel",
            "placeholder": "​",
            "_view_module": "@jupyter-widgets/controls",
            "_model_module_version": "1.5.0",
            "value": " 射\t在\t棄\t出\t到\t置\t源\t以\t電\t映",
            "_view_count": null,
            "_view_module_version": "1.5.0",
            "description_tooltip": null,
            "_model_module": "@jupyter-widgets/controls",
            "layout": "IPY_MODEL_300fdddb48d049c2be614f3562249111"
          }
        },
        "5ca0cf913c034e77bbd8db6d7f648c67": {
          "model_module": "@jupyter-widgets/controls",
          "model_name": "DescriptionStyleModel",
          "state": {
            "_view_name": "StyleView",
            "_model_name": "DescriptionStyleModel",
            "description_width": "",
            "_view_module": "@jupyter-widgets/base",
            "_model_module_version": "1.5.0",
            "_view_count": null,
            "_view_module_version": "1.2.0",
            "_model_module": "@jupyter-widgets/controls"
          }
        },
        "300fdddb48d049c2be614f3562249111": {
          "model_module": "@jupyter-widgets/base",
          "model_name": "LayoutModel",
          "state": {
            "_view_name": "LayoutView",
            "grid_template_rows": null,
            "right": null,
            "justify_content": null,
            "_view_module": "@jupyter-widgets/base",
            "overflow": null,
            "_model_module_version": "1.2.0",
            "_view_count": null,
            "flex_flow": null,
            "width": null,
            "min_width": null,
            "border": null,
            "align_items": null,
            "bottom": null,
            "_model_module": "@jupyter-widgets/base",
            "top": null,
            "grid_column": null,
            "overflow_y": null,
            "overflow_x": null,
            "grid_auto_flow": null,
            "grid_area": null,
            "grid_template_columns": null,
            "flex": null,
            "_model_name": "LayoutModel",
            "justify_items": null,
            "grid_row": null,
            "max_height": null,
            "align_content": null,
            "visibility": null,
            "align_self": null,
            "height": null,
            "min_height": null,
            "padding": null,
            "grid_auto_rows": null,
            "grid_gap": null,
            "max_width": null,
            "order": null,
            "_view_module_version": "1.2.0",
            "grid_template_areas": null,
            "object_position": null,
            "object_fit": null,
            "grid_auto_columns": null,
            "margin": null,
            "display": null,
            "left": null
          }
        },
        "3d5a8108295c41a2a2d3317bee22c277": {
          "model_module": "@jupyter-widgets/controls",
          "model_name": "TextareaModel",
          "state": {
            "_view_name": "TextareaView",
            "style": "IPY_MODEL_8812965ebe074643a8b5bf30fc75a89f",
            "rows": null,
            "_dom_classes": [],
            "description": "",
            "_model_name": "TextareaModel",
            "placeholder": "​",
            "_view_module": "@jupyter-widgets/controls",
            "_model_module_version": "1.5.0",
            "value": "放",
            "_view_count": null,
            "disabled": false,
            "_view_module_version": "1.5.0",
            "continuous_update": true,
            "description_tooltip": null,
            "_model_module": "@jupyter-widgets/controls",
            "layout": "IPY_MODEL_b74c3d90ae4d46ec80708752e32f9a38"
          }
        },
        "8812965ebe074643a8b5bf30fc75a89f": {
          "model_module": "@jupyter-widgets/controls",
          "model_name": "DescriptionStyleModel",
          "state": {
            "_view_name": "StyleView",
            "_model_name": "DescriptionStyleModel",
            "description_width": "",
            "_view_module": "@jupyter-widgets/base",
            "_model_module_version": "1.5.0",
            "_view_count": null,
            "_view_module_version": "1.2.0",
            "_model_module": "@jupyter-widgets/controls"
          }
        },
        "b74c3d90ae4d46ec80708752e32f9a38": {
          "model_module": "@jupyter-widgets/base",
          "model_name": "LayoutModel",
          "state": {
            "_view_name": "LayoutView",
            "grid_template_rows": null,
            "right": null,
            "justify_content": null,
            "_view_module": "@jupyter-widgets/base",
            "overflow": null,
            "_model_module_version": "1.2.0",
            "_view_count": null,
            "flex_flow": null,
            "width": null,
            "min_width": null,
            "border": null,
            "align_items": null,
            "bottom": null,
            "_model_module": "@jupyter-widgets/base",
            "top": null,
            "grid_column": null,
            "overflow_y": null,
            "overflow_x": null,
            "grid_auto_flow": null,
            "grid_area": null,
            "grid_template_columns": null,
            "flex": null,
            "_model_name": "LayoutModel",
            "justify_items": null,
            "grid_row": null,
            "max_height": null,
            "align_content": null,
            "visibility": null,
            "align_self": null,
            "height": null,
            "min_height": null,
            "padding": null,
            "grid_auto_rows": null,
            "grid_gap": null,
            "max_width": null,
            "order": null,
            "_view_module_version": "1.2.0",
            "grid_template_areas": null,
            "object_position": null,
            "object_fit": null,
            "grid_auto_columns": null,
            "margin": null,
            "display": null,
            "left": null
          }
        }
      }
    }
  },
  "cells": [
    {
      "cell_type": "markdown",
      "metadata": {
        "id": "XuGYrTPT9fzJ"
      },
      "source": [
        "# 自製智能中文選字系統  (2)"
      ]
    },
    {
      "cell_type": "code",
      "metadata": {
        "colab": {
          "base_uri": "https://localhost:8080/",
          "height": 37
        },
        "id": "rQv_Stnu9fzM",
        "outputId": "4aec389d-5916-4368-da05-162721ccbb4e"
      },
      "source": [
        "import sys\n",
        "sys.version"
      ],
      "execution_count": 2,
      "outputs": [
        {
          "output_type": "execute_result",
          "data": {
            "application/vnd.google.colaboratory.intrinsic+json": {
              "type": "string"
            },
            "text/plain": [
              "'3.6.9 (default, Oct  8 2020, 12:12:24) \\n[GCC 8.4.0]'"
            ]
          },
          "metadata": {
            "tags": []
          },
          "execution_count": 2
        }
      ]
    },
    {
      "cell_type": "markdown",
      "metadata": {
        "id": "RYan3FuD9fzN"
      },
      "source": [
        "確認版本為 python3"
      ]
    },
    {
      "cell_type": "markdown",
      "metadata": {
        "id": "QWdervqO9fzN"
      },
      "source": [
        "## 資料前處理"
      ]
    },
    {
      "cell_type": "code",
      "metadata": {
        "id": "NdX449aG9fzO"
      },
      "source": [
        "import re"
      ],
      "execution_count": 3,
      "outputs": []
    },
    {
      "cell_type": "code",
      "metadata": {
        "id": "B07xuQWC9fzO"
      },
      "source": [
        "def prepocess_line(line):\n",
        "    chinese_pattern = r'[\\u4E00-\\u9FFF]+'\n",
        "    segments = re.findall(chinese_pattern, line, flags=re.UNICODE)\n",
        "    return segments"
      ],
      "execution_count": 4,
      "outputs": []
    },
    {
      "cell_type": "code",
      "metadata": {
        "tags": [],
        "id": "EHfGEC_U9fzP"
      },
      "source": [
        "segments = []\n",
        "with open('./wiki_zh_small.txt') as fr:\n",
        "    for line in fr.readlines():\n",
        "        segments += prepocess_line(line)"
      ],
      "execution_count": 5,
      "outputs": []
    },
    {
      "cell_type": "markdown",
      "metadata": {
        "id": "m1lT9BaY9fzQ"
      },
      "source": [
        "## 斷詞"
      ]
    },
    {
      "cell_type": "code",
      "metadata": {
        "tags": [],
        "colab": {
          "base_uri": "https://localhost:8080/"
        },
        "id": "jcHrSol99fzQ",
        "outputId": "3300cb48-8ef5-4f2b-8f30-abb698c34e1e"
      },
      "source": [
        "!pip install jieba"
      ],
      "execution_count": 6,
      "outputs": [
        {
          "output_type": "stream",
          "text": [
            "Requirement already satisfied: jieba in /usr/local/lib/python3.6/dist-packages (0.42.1)\n"
          ],
          "name": "stdout"
        }
      ]
    },
    {
      "cell_type": "code",
      "metadata": {
        "id": "o2mcaWkR9fzR"
      },
      "source": [
        "import jieba"
      ],
      "execution_count": 7,
      "outputs": []
    },
    {
      "cell_type": "code",
      "metadata": {
        "tags": [],
        "colab": {
          "base_uri": "https://localhost:8080/"
        },
        "id": "y1OhPAWZ9fzS",
        "outputId": "64f67604-7bbc-4eea-d517-62a1c62d7758"
      },
      "source": [
        "list(jieba.cut_for_search(segments[6001]))"
      ],
      "execution_count": 8,
      "outputs": [
        {
          "output_type": "stream",
          "text": [
            "Building prefix dict from the default dictionary ...\n",
            "Dumping model to file cache /tmp/jieba.cache\n",
            "Loading model cost 0.945 seconds.\n",
            "Prefix dict has been built successfully.\n"
          ],
          "name": "stderr"
        },
        {
          "output_type": "execute_result",
          "data": {
            "text/plain": [
              "['所以', '僅用', '於', '還原', '一些', '貴重', '的', '化合', '化合物']"
            ]
          },
          "metadata": {
            "tags": []
          },
          "execution_count": 8
        }
      ]
    },
    {
      "cell_type": "code",
      "metadata": {
        "tags": [],
        "id": "Yoki3C5c9fzS"
      },
      "source": [
        "cut_segments = []\n",
        "for seg in segments:\n",
        "    # 使用結巴斷詞的 cut_for_search\n",
        "    # YOUR CODE HERE\n",
        "    cut_segments += list(jieba.cut_for_search(seg))\n",
        "    # END YOUR CODE"
      ],
      "execution_count": 15,
      "outputs": []
    },
    {
      "cell_type": "code",
      "metadata": {
        "colab": {
          "base_uri": "https://localhost:8080/"
        },
        "id": "z7NFhvdp-gAu",
        "outputId": "00ed4573-069b-4e53-e56e-6ce7c4808f00"
      },
      "source": [
        "cut_segments[:5]"
      ],
      "execution_count": 16,
      "outputs": [
        {
          "output_type": "execute_result",
          "data": {
            "text/plain": [
              "['英語', '英語', '英語', '又', '稱']"
            ]
          },
          "metadata": {
            "tags": []
          },
          "execution_count": 16
        }
      ]
    },
    {
      "cell_type": "markdown",
      "metadata": {
        "id": "SOdBH--29fzT"
      },
      "source": [
        "## 使用斷詞的結果來作Ngram"
      ]
    },
    {
      "cell_type": "code",
      "metadata": {
        "id": "3-7MttWg9fzT"
      },
      "source": [
        "from collections import Counter\n",
        "\n",
        "class Counters:\n",
        "    def __init__(self, n):\n",
        "        self.n = n\n",
        "        self.counters = [Counter() for _ in range(n + 1)]\n",
        "\n",
        "    def fit(self, segments):\n",
        "        for i in range(1, 1 + self.n):\n",
        "            for segment in segments:\n",
        "                self.counters[i] += Counter(self._skip(segment, i))\n",
        "\n",
        "        base_count = sum(dict(self.counters[1]).values())\n",
        "        self.counters[0] = Counter({'': base_count})\n",
        "\n",
        "    def __getitem__(self, k):\n",
        "        return self.counters[k]\n",
        "\n",
        "    def _skip(self, segment, n):\n",
        "        assert n > 0\n",
        "        if len(segment) < n:\n",
        "            return []\n",
        "        shift = n - 1\n",
        "        for i in range(len(segment) - shift):\n",
        "            yield segment[i:i+shift+1]"
      ],
      "execution_count": 17,
      "outputs": []
    },
    {
      "cell_type": "code",
      "metadata": {
        "id": "5j2fGc9B9fzU"
      },
      "source": [
        "counters = Counters(n=5)\n",
        "counters.fit(cut_segments)"
      ],
      "execution_count": 18,
      "outputs": []
    },
    {
      "cell_type": "code",
      "metadata": {
        "id": "9KFyrVR-9fzV"
      },
      "source": [
        "class Ngram:\n",
        "    def __init__(self, n, counters):\n",
        "        assert n <= counters.n\n",
        "        self.n = n\n",
        "        self.major_counter = counters[n]\n",
        "        self.minor_counter = counters[n-1]\n",
        "\n",
        "    def predict_proba(self, prefix='', top_k=5):\n",
        "        assert len(prefix) >= self.n - 1\n",
        "\n",
        "        reference = prefix[-(self.n - 1):] if self.n > 1 else ''\n",
        "        count_referecne = self.minor_counter[reference]\n",
        "        probs = []\n",
        "        for key, count in dict(self.major_counter).items():\n",
        "            if key.startswith(reference):\n",
        "                prob = count / count_referecne\n",
        "                probs.append((prob, key[-1]))\n",
        "        sorted_probs = sorted(probs, reverse=True)\n",
        "        return sorted_probs[:top_k] if top_k > 0 else sorted_probs\n",
        "\n",
        "    def get_proba_dict(self, prefix=''):\n",
        "        return {word: prob for prob, word in self.predict_proba(prefix, top_k=-1)}"
      ],
      "execution_count": 19,
      "outputs": []
    },
    {
      "cell_type": "code",
      "metadata": {
        "id": "DSZvIq_Y9fzV"
      },
      "source": [
        "ngrams = [Ngram(i, counters) for i in range(1, 6)]"
      ],
      "execution_count": 20,
      "outputs": []
    },
    {
      "cell_type": "markdown",
      "metadata": {
        "id": "eGc-POEq9fzW"
      },
      "source": [
        "## 使用Smoothing of Language Models來建立第二版選字系統"
      ]
    },
    {
      "cell_type": "code",
      "metadata": {
        "id": "4DiTiRqv9fzX"
      },
      "source": [
        "class ChineseWordRecommenderV2:\n",
        "    def __init__(self, ngrams):\n",
        "        self.ngrams = ngrams\n",
        "    \n",
        "    def predict_proba(self, prefix='', top_k=5):\n",
        "        interpolation_lambda = 0.99\n",
        "        proba_dicts = [ngram.get_proba_dict(prefix) for ngram in ngrams[:len(prefix)+1]]\n",
        "\n",
        "        probas = []\n",
        "        # 在此你可以選擇兩種 Smoothing of Language Models 的方法：\n",
        "        # Back-off Smoothing 或 Interpolation Smoothing\n",
        "        # 如果你選擇 Interpolation Smoothing，你可以運用已經準備好的輔助函式\n",
        "        # _get_interpolation_proba 來達到此目的\n",
        "        # YOUR CODE HERE\n",
        "        words = proba_dicts[0].keys()\n",
        "        for word in words:\n",
        "            proba = self._get_interpolation_proba(word, proba_dicts, interpolation_lambda)\n",
        "            probas.append((proba, word))\n",
        "\n",
        "        sorted_probas = sorted(probas, reverse=True)\n",
        "        # END YOUR CODE)\n",
        "        return sorted_probas[:top_k] if top_k > 0 else sorted_probas\n",
        "        \n",
        "        # END YOUR CODE\n",
        "        return sorted_probas[:top_k] if top_k > 0 else sorted_probas\n",
        "    \n",
        "    def _get_interpolation_proba(self, word, proba_dicts, interp_lambda, idx=None):\n",
        "        if idx is None:\n",
        "            idx = len(proba_dicts) - 1\n",
        "        if idx == 0:\n",
        "            return proba_dicts[idx].get(word, 0.)\n",
        "        return interp_lambda * proba_dicts[idx].get(word, 0.) + \\\n",
        "               (1 - interp_lambda) * self._get_interpolation_proba(word, proba_dicts, interp_lambda, idx=idx-1)"
      ],
      "execution_count": 21,
      "outputs": []
    },
    {
      "cell_type": "code",
      "metadata": {
        "id": "_2X7AF_n9fzY"
      },
      "source": [
        "model = ChineseWordRecommenderV2(ngrams)"
      ],
      "execution_count": 22,
      "outputs": []
    },
    {
      "cell_type": "code",
      "metadata": {
        "tags": [],
        "colab": {
          "base_uri": "https://localhost:8080/"
        },
        "id": "EF_8nrIU9fzY",
        "outputId": "6f24f7bf-546b-4e47-ee26-f854b563c07f"
      },
      "source": [
        "probs = model.predict_proba('法', top_k=10)\n",
        "probs"
      ],
      "execution_count": 23,
      "outputs": [
        {
          "output_type": "execute_result",
          "data": {
            "text/plain": [
              "[(0.051904146168121834, '國'),\n",
              " (0.04388616116650217, '律'),\n",
              " (0.029848241612163377, '院'),\n",
              " (0.020222220928179165, '語'),\n",
              " (0.011414997351123958, '蘭'),\n",
              " (0.010549762034510142, '系'),\n",
              " (0.00792383560501087, '定'),\n",
              " (0.007908712635409567, '制'),\n",
              " (0.007072068387587443, '學'),\n",
              " (0.007060356996987107, '西')]"
            ]
          },
          "metadata": {
            "tags": []
          },
          "execution_count": 23
        }
      ]
    },
    {
      "cell_type": "markdown",
      "metadata": {
        "id": "Nfnn-6IU9fzZ"
      },
      "source": [
        "## Demo"
      ]
    },
    {
      "cell_type": "code",
      "metadata": {
        "tags": [],
        "colab": {
          "base_uri": "https://localhost:8080/"
        },
        "id": "bMEVMByd9fza",
        "outputId": "19f75175-341a-4174-f957-9b26d39efe92"
      },
      "source": [
        "!pip install -U pip\n",
        "!pip install -q ipywidgets"
      ],
      "execution_count": 24,
      "outputs": [
        {
          "output_type": "stream",
          "text": [
            "Collecting pip\n",
            "\u001b[?25l  Downloading https://files.pythonhosted.org/packages/54/eb/4a3642e971f404d69d4f6fa3885559d67562801b99d7592487f1ecc4e017/pip-20.3.3-py2.py3-none-any.whl (1.5MB)\n",
            "\u001b[K     |████████████████████████████████| 1.5MB 5.6MB/s \n",
            "\u001b[?25hInstalling collected packages: pip\n",
            "  Found existing installation: pip 19.3.1\n",
            "    Uninstalling pip-19.3.1:\n",
            "      Successfully uninstalled pip-19.3.1\n",
            "Successfully installed pip-20.3.3\n"
          ],
          "name": "stdout"
        }
      ]
    },
    {
      "cell_type": "code",
      "metadata": {
        "colab": {
          "base_uri": "https://localhost:8080/",
          "height": 97,
          "referenced_widgets": [
            "c26c65ce793841d289005afef6b89ec1",
            "5ca0cf913c034e77bbd8db6d7f648c67",
            "300fdddb48d049c2be614f3562249111",
            "3d5a8108295c41a2a2d3317bee22c277",
            "8812965ebe074643a8b5bf30fc75a89f",
            "b74c3d90ae4d46ec80708752e32f9a38"
          ]
        },
        "id": "ry7ZIT6a9fzb",
        "outputId": "4c45a228-e29f-4d81-8ced-4d9d38b76e71"
      },
      "source": [
        "import ipywidgets as widgets\n",
        "\n",
        "text = widgets.Textarea()\n",
        "label = widgets.Label()\n",
        "display(label, text)\n",
        "\n",
        "def func(change):\n",
        "    probs = model.predict_proba(change.new, top_k=10)\n",
        "    label.value = ' ' + '\\t'.join([word for prob, word in probs])\n",
        "\n",
        "text.observe(func, names='value')"
      ],
      "execution_count": 25,
      "outputs": [
        {
          "output_type": "display_data",
          "data": {
            "application/vnd.jupyter.widget-view+json": {
              "model_id": "c26c65ce793841d289005afef6b89ec1",
              "version_minor": 0,
              "version_major": 2
            },
            "text/plain": [
              "Label(value='')"
            ]
          },
          "metadata": {
            "tags": []
          }
        },
        {
          "output_type": "display_data",
          "data": {
            "application/vnd.jupyter.widget-view+json": {
              "model_id": "3d5a8108295c41a2a2d3317bee22c277",
              "version_minor": 0,
              "version_major": 2
            },
            "text/plain": [
              "Textarea(value='')"
            ]
          },
          "metadata": {
            "tags": []
          }
        }
      ]
    },
    {
      "cell_type": "code",
      "metadata": {
        "id": "9d6fv6d39fzc"
      },
      "source": [
        ""
      ],
      "execution_count": null,
      "outputs": []
    }
  ]
}