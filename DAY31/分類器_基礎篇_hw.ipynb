{
  "nbformat": 4,
  "nbformat_minor": 0,
  "metadata": {
    "language_info": {
      "codemirror_mode": {
        "name": "ipython",
        "version": 3
      },
      "file_extension": ".py",
      "mimetype": "text/x-python",
      "name": "python",
      "nbconvert_exporter": "python",
      "pygments_lexer": "ipython3",
      "version": "3.6.8-final"
    },
    "orig_nbformat": 2,
    "kernelspec": {
      "name": "python_defaultSpec_1597541602087",
      "display_name": "Python 3.6.8 64-bit ('ENV': venv)"
    },
    "colab": {
      "name": "分類器_基礎篇_hw.ipynb",
      "provenance": [],
      "toc_visible": true
    },
    "widgets": {
      "application/vnd.jupyter.widget-state+json": {
        "0defe9f3711541f2a634e216f379e47f": {
          "model_module": "@jupyter-widgets/controls",
          "model_name": "HBoxModel",
          "state": {
            "_view_name": "HBoxView",
            "_dom_classes": [],
            "_model_name": "HBoxModel",
            "_view_module": "@jupyter-widgets/controls",
            "_model_module_version": "1.5.0",
            "_view_count": null,
            "_view_module_version": "1.5.0",
            "box_style": "",
            "layout": "IPY_MODEL_863975f3f3e84820abf1c3dbd0ddc379",
            "_model_module": "@jupyter-widgets/controls",
            "children": [
              "IPY_MODEL_28f5b5f71f344fa5ab057ba9e2825a1c",
              "IPY_MODEL_530fb3d7bb7a4efe8c4500f9874c6634"
            ]
          }
        },
        "863975f3f3e84820abf1c3dbd0ddc379": {
          "model_module": "@jupyter-widgets/base",
          "model_name": "LayoutModel",
          "state": {
            "_view_name": "LayoutView",
            "grid_template_rows": null,
            "right": null,
            "justify_content": null,
            "_view_module": "@jupyter-widgets/base",
            "overflow": null,
            "_model_module_version": "1.2.0",
            "_view_count": null,
            "flex_flow": null,
            "width": null,
            "min_width": null,
            "border": null,
            "align_items": null,
            "bottom": null,
            "_model_module": "@jupyter-widgets/base",
            "top": null,
            "grid_column": null,
            "overflow_y": null,
            "overflow_x": null,
            "grid_auto_flow": null,
            "grid_area": null,
            "grid_template_columns": null,
            "flex": null,
            "_model_name": "LayoutModel",
            "justify_items": null,
            "grid_row": null,
            "max_height": null,
            "align_content": null,
            "visibility": null,
            "align_self": null,
            "height": null,
            "min_height": null,
            "padding": null,
            "grid_auto_rows": null,
            "grid_gap": null,
            "max_width": null,
            "order": null,
            "_view_module_version": "1.2.0",
            "grid_template_areas": null,
            "object_position": null,
            "object_fit": null,
            "grid_auto_columns": null,
            "margin": null,
            "display": null,
            "left": null
          }
        },
        "28f5b5f71f344fa5ab057ba9e2825a1c": {
          "model_module": "@jupyter-widgets/controls",
          "model_name": "FloatProgressModel",
          "state": {
            "_view_name": "ProgressView",
            "style": "IPY_MODEL_068a34d1dfa243ef8135e88ccd7fb430",
            "_dom_classes": [],
            "description": "100%",
            "_model_name": "FloatProgressModel",
            "bar_style": "success",
            "max": 1800,
            "_view_module": "@jupyter-widgets/controls",
            "_model_module_version": "1.5.0",
            "value": 1800,
            "_view_count": null,
            "_view_module_version": "1.5.0",
            "orientation": "horizontal",
            "min": 0,
            "description_tooltip": null,
            "_model_module": "@jupyter-widgets/controls",
            "layout": "IPY_MODEL_d9387acf147e42169188c7326face0fa"
          }
        },
        "530fb3d7bb7a4efe8c4500f9874c6634": {
          "model_module": "@jupyter-widgets/controls",
          "model_name": "HTMLModel",
          "state": {
            "_view_name": "HTMLView",
            "style": "IPY_MODEL_ac5700396efd48fa83c5c3bc38021c56",
            "_dom_classes": [],
            "description": "",
            "_model_name": "HTMLModel",
            "placeholder": "​",
            "_view_module": "@jupyter-widgets/controls",
            "_model_module_version": "1.5.0",
            "value": " 1800/1800 [04:51&lt;00:00,  6.17it/s]",
            "_view_count": null,
            "_view_module_version": "1.5.0",
            "description_tooltip": null,
            "_model_module": "@jupyter-widgets/controls",
            "layout": "IPY_MODEL_98750c1a9ac6492f8eb391c073003a11"
          }
        },
        "068a34d1dfa243ef8135e88ccd7fb430": {
          "model_module": "@jupyter-widgets/controls",
          "model_name": "ProgressStyleModel",
          "state": {
            "_view_name": "StyleView",
            "_model_name": "ProgressStyleModel",
            "description_width": "initial",
            "_view_module": "@jupyter-widgets/base",
            "_model_module_version": "1.5.0",
            "_view_count": null,
            "_view_module_version": "1.2.0",
            "bar_color": null,
            "_model_module": "@jupyter-widgets/controls"
          }
        },
        "d9387acf147e42169188c7326face0fa": {
          "model_module": "@jupyter-widgets/base",
          "model_name": "LayoutModel",
          "state": {
            "_view_name": "LayoutView",
            "grid_template_rows": null,
            "right": null,
            "justify_content": null,
            "_view_module": "@jupyter-widgets/base",
            "overflow": null,
            "_model_module_version": "1.2.0",
            "_view_count": null,
            "flex_flow": null,
            "width": null,
            "min_width": null,
            "border": null,
            "align_items": null,
            "bottom": null,
            "_model_module": "@jupyter-widgets/base",
            "top": null,
            "grid_column": null,
            "overflow_y": null,
            "overflow_x": null,
            "grid_auto_flow": null,
            "grid_area": null,
            "grid_template_columns": null,
            "flex": null,
            "_model_name": "LayoutModel",
            "justify_items": null,
            "grid_row": null,
            "max_height": null,
            "align_content": null,
            "visibility": null,
            "align_self": null,
            "height": null,
            "min_height": null,
            "padding": null,
            "grid_auto_rows": null,
            "grid_gap": null,
            "max_width": null,
            "order": null,
            "_view_module_version": "1.2.0",
            "grid_template_areas": null,
            "object_position": null,
            "object_fit": null,
            "grid_auto_columns": null,
            "margin": null,
            "display": null,
            "left": null
          }
        },
        "ac5700396efd48fa83c5c3bc38021c56": {
          "model_module": "@jupyter-widgets/controls",
          "model_name": "DescriptionStyleModel",
          "state": {
            "_view_name": "StyleView",
            "_model_name": "DescriptionStyleModel",
            "description_width": "",
            "_view_module": "@jupyter-widgets/base",
            "_model_module_version": "1.5.0",
            "_view_count": null,
            "_view_module_version": "1.2.0",
            "_model_module": "@jupyter-widgets/controls"
          }
        },
        "98750c1a9ac6492f8eb391c073003a11": {
          "model_module": "@jupyter-widgets/base",
          "model_name": "LayoutModel",
          "state": {
            "_view_name": "LayoutView",
            "grid_template_rows": null,
            "right": null,
            "justify_content": null,
            "_view_module": "@jupyter-widgets/base",
            "overflow": null,
            "_model_module_version": "1.2.0",
            "_view_count": null,
            "flex_flow": null,
            "width": null,
            "min_width": null,
            "border": null,
            "align_items": null,
            "bottom": null,
            "_model_module": "@jupyter-widgets/base",
            "top": null,
            "grid_column": null,
            "overflow_y": null,
            "overflow_x": null,
            "grid_auto_flow": null,
            "grid_area": null,
            "grid_template_columns": null,
            "flex": null,
            "_model_name": "LayoutModel",
            "justify_items": null,
            "grid_row": null,
            "max_height": null,
            "align_content": null,
            "visibility": null,
            "align_self": null,
            "height": null,
            "min_height": null,
            "padding": null,
            "grid_auto_rows": null,
            "grid_gap": null,
            "max_width": null,
            "order": null,
            "_view_module_version": "1.2.0",
            "grid_template_areas": null,
            "object_position": null,
            "object_fit": null,
            "grid_auto_columns": null,
            "margin": null,
            "display": null,
            "left": null
          }
        },
        "a896ae639e5240169f4b19d7a378d4fa": {
          "model_module": "@jupyter-widgets/controls",
          "model_name": "HBoxModel",
          "state": {
            "_view_name": "HBoxView",
            "_dom_classes": [],
            "_model_name": "HBoxModel",
            "_view_module": "@jupyter-widgets/controls",
            "_model_module_version": "1.5.0",
            "_view_count": null,
            "_view_module_version": "1.5.0",
            "box_style": "",
            "layout": "IPY_MODEL_eaa166b6367c4d9489170af4db8bd64f",
            "_model_module": "@jupyter-widgets/controls",
            "children": [
              "IPY_MODEL_e75f8e0f7f814d2e9a999f49f39c3fd8",
              "IPY_MODEL_2581cf90cbf24f1f90efdfa33e61a7ab"
            ]
          }
        },
        "eaa166b6367c4d9489170af4db8bd64f": {
          "model_module": "@jupyter-widgets/base",
          "model_name": "LayoutModel",
          "state": {
            "_view_name": "LayoutView",
            "grid_template_rows": null,
            "right": null,
            "justify_content": null,
            "_view_module": "@jupyter-widgets/base",
            "overflow": null,
            "_model_module_version": "1.2.0",
            "_view_count": null,
            "flex_flow": null,
            "width": null,
            "min_width": null,
            "border": null,
            "align_items": null,
            "bottom": null,
            "_model_module": "@jupyter-widgets/base",
            "top": null,
            "grid_column": null,
            "overflow_y": null,
            "overflow_x": null,
            "grid_auto_flow": null,
            "grid_area": null,
            "grid_template_columns": null,
            "flex": null,
            "_model_name": "LayoutModel",
            "justify_items": null,
            "grid_row": null,
            "max_height": null,
            "align_content": null,
            "visibility": null,
            "align_self": null,
            "height": null,
            "min_height": null,
            "padding": null,
            "grid_auto_rows": null,
            "grid_gap": null,
            "max_width": null,
            "order": null,
            "_view_module_version": "1.2.0",
            "grid_template_areas": null,
            "object_position": null,
            "object_fit": null,
            "grid_auto_columns": null,
            "margin": null,
            "display": null,
            "left": null
          }
        },
        "e75f8e0f7f814d2e9a999f49f39c3fd8": {
          "model_module": "@jupyter-widgets/controls",
          "model_name": "FloatProgressModel",
          "state": {
            "_view_name": "ProgressView",
            "style": "IPY_MODEL_a400d240a2e0401e932faef8b1654a0f",
            "_dom_classes": [],
            "description": "100%",
            "_model_name": "FloatProgressModel",
            "bar_style": "success",
            "max": 600,
            "_view_module": "@jupyter-widgets/controls",
            "_model_module_version": "1.5.0",
            "value": 600,
            "_view_count": null,
            "_view_module_version": "1.5.0",
            "orientation": "horizontal",
            "min": 0,
            "description_tooltip": null,
            "_model_module": "@jupyter-widgets/controls",
            "layout": "IPY_MODEL_4f4bdca66ba44737806b8e8860ea9991"
          }
        },
        "2581cf90cbf24f1f90efdfa33e61a7ab": {
          "model_module": "@jupyter-widgets/controls",
          "model_name": "HTMLModel",
          "state": {
            "_view_name": "HTMLView",
            "style": "IPY_MODEL_b487b4ca28784f34ae5869de29183628",
            "_dom_classes": [],
            "description": "",
            "_model_name": "HTMLModel",
            "placeholder": "​",
            "_view_module": "@jupyter-widgets/controls",
            "_model_module_version": "1.5.0",
            "value": " 600/600 [02:08&lt;00:00,  4.66it/s]",
            "_view_count": null,
            "_view_module_version": "1.5.0",
            "description_tooltip": null,
            "_model_module": "@jupyter-widgets/controls",
            "layout": "IPY_MODEL_5fad6ee3556d4b52973afe3e875985bd"
          }
        },
        "a400d240a2e0401e932faef8b1654a0f": {
          "model_module": "@jupyter-widgets/controls",
          "model_name": "ProgressStyleModel",
          "state": {
            "_view_name": "StyleView",
            "_model_name": "ProgressStyleModel",
            "description_width": "initial",
            "_view_module": "@jupyter-widgets/base",
            "_model_module_version": "1.5.0",
            "_view_count": null,
            "_view_module_version": "1.2.0",
            "bar_color": null,
            "_model_module": "@jupyter-widgets/controls"
          }
        },
        "4f4bdca66ba44737806b8e8860ea9991": {
          "model_module": "@jupyter-widgets/base",
          "model_name": "LayoutModel",
          "state": {
            "_view_name": "LayoutView",
            "grid_template_rows": null,
            "right": null,
            "justify_content": null,
            "_view_module": "@jupyter-widgets/base",
            "overflow": null,
            "_model_module_version": "1.2.0",
            "_view_count": null,
            "flex_flow": null,
            "width": null,
            "min_width": null,
            "border": null,
            "align_items": null,
            "bottom": null,
            "_model_module": "@jupyter-widgets/base",
            "top": null,
            "grid_column": null,
            "overflow_y": null,
            "overflow_x": null,
            "grid_auto_flow": null,
            "grid_area": null,
            "grid_template_columns": null,
            "flex": null,
            "_model_name": "LayoutModel",
            "justify_items": null,
            "grid_row": null,
            "max_height": null,
            "align_content": null,
            "visibility": null,
            "align_self": null,
            "height": null,
            "min_height": null,
            "padding": null,
            "grid_auto_rows": null,
            "grid_gap": null,
            "max_width": null,
            "order": null,
            "_view_module_version": "1.2.0",
            "grid_template_areas": null,
            "object_position": null,
            "object_fit": null,
            "grid_auto_columns": null,
            "margin": null,
            "display": null,
            "left": null
          }
        },
        "b487b4ca28784f34ae5869de29183628": {
          "model_module": "@jupyter-widgets/controls",
          "model_name": "DescriptionStyleModel",
          "state": {
            "_view_name": "StyleView",
            "_model_name": "DescriptionStyleModel",
            "description_width": "",
            "_view_module": "@jupyter-widgets/base",
            "_model_module_version": "1.5.0",
            "_view_count": null,
            "_view_module_version": "1.2.0",
            "_model_module": "@jupyter-widgets/controls"
          }
        },
        "5fad6ee3556d4b52973afe3e875985bd": {
          "model_module": "@jupyter-widgets/base",
          "model_name": "LayoutModel",
          "state": {
            "_view_name": "LayoutView",
            "grid_template_rows": null,
            "right": null,
            "justify_content": null,
            "_view_module": "@jupyter-widgets/base",
            "overflow": null,
            "_model_module_version": "1.2.0",
            "_view_count": null,
            "flex_flow": null,
            "width": null,
            "min_width": null,
            "border": null,
            "align_items": null,
            "bottom": null,
            "_model_module": "@jupyter-widgets/base",
            "top": null,
            "grid_column": null,
            "overflow_y": null,
            "overflow_x": null,
            "grid_auto_flow": null,
            "grid_area": null,
            "grid_template_columns": null,
            "flex": null,
            "_model_name": "LayoutModel",
            "justify_items": null,
            "grid_row": null,
            "max_height": null,
            "align_content": null,
            "visibility": null,
            "align_self": null,
            "height": null,
            "min_height": null,
            "padding": null,
            "grid_auto_rows": null,
            "grid_gap": null,
            "max_width": null,
            "order": null,
            "_view_module_version": "1.2.0",
            "grid_template_areas": null,
            "object_position": null,
            "object_fit": null,
            "grid_auto_columns": null,
            "margin": null,
            "display": null,
            "left": null
          }
        }
      }
    }
  },
  "cells": [
    {
      "cell_type": "code",
      "metadata": {
        "tags": [],
        "colab": {
          "base_uri": "https://localhost:8080/"
        },
        "id": "aI15rjgWSw8u",
        "outputId": "c76cd4e1-ccdc-41ad-9d2e-f54c5ac64ad1"
      },
      "source": [
        "!python --version"
      ],
      "execution_count": 1,
      "outputs": [
        {
          "output_type": "stream",
          "text": [
            "Python 3.6.9\n"
          ],
          "name": "stdout"
        }
      ]
    },
    {
      "cell_type": "code",
      "metadata": {
        "tags": [],
        "id": "SgY_CudMSw88"
      },
      "source": [
        "# !pip install -q -U pip\n",
        "# !pip install -q numpy\n",
        "# !pip install -q pandas\n",
        "!pip install -q ckiptagger\n",
        "# !pip install -q tqdm\n",
        "# !pip install -q tensorflow==1.14.0\n",
        "# !pip install -q ipywidgets"
      ],
      "execution_count": 3,
      "outputs": []
    },
    {
      "cell_type": "code",
      "metadata": {
        "id": "lPNVPmnaSw89"
      },
      "source": [
        "import pandas as pd\n",
        "import numpy as np\n",
        "\n",
        "from ckiptagger import WS, POS\n",
        "from tqdm.notebook import tqdm"
      ],
      "execution_count": 4,
      "outputs": []
    },
    {
      "cell_type": "code",
      "metadata": {
        "id": "lcZFox-OSw8-"
      },
      "source": [
        "df_train = pd.read_csv('news_clustering_train.tsv', sep='\\t')\n",
        "df_test = pd.read_csv('news_clustering_test.tsv', sep='\\t')"
      ],
      "execution_count": 5,
      "outputs": []
    },
    {
      "cell_type": "code",
      "metadata": {
        "colab": {
          "base_uri": "https://localhost:8080/",
          "height": 419
        },
        "id": "tuHWzdqqSw8-",
        "outputId": "eba07c81-ceaa-4240-89b3-aeee21cdaaf0"
      },
      "source": [
        "df_train"
      ],
      "execution_count": 6,
      "outputs": [
        {
          "output_type": "execute_result",
          "data": {
            "text/html": [
              "<div>\n",
              "<style scoped>\n",
              "    .dataframe tbody tr th:only-of-type {\n",
              "        vertical-align: middle;\n",
              "    }\n",
              "\n",
              "    .dataframe tbody tr th {\n",
              "        vertical-align: top;\n",
              "    }\n",
              "\n",
              "    .dataframe thead th {\n",
              "        text-align: right;\n",
              "    }\n",
              "</style>\n",
              "<table border=\"1\" class=\"dataframe\">\n",
              "  <thead>\n",
              "    <tr style=\"text-align: right;\">\n",
              "      <th></th>\n",
              "      <th>index</th>\n",
              "      <th>class</th>\n",
              "      <th>title</th>\n",
              "    </tr>\n",
              "  </thead>\n",
              "  <tbody>\n",
              "    <tr>\n",
              "      <th>0</th>\n",
              "      <td>0</td>\n",
              "      <td>體育</td>\n",
              "      <td>亞洲杯奪冠賠率：日本、伊朗領銜 中國竟與泰國並列</td>\n",
              "    </tr>\n",
              "    <tr>\n",
              "      <th>1</th>\n",
              "      <td>1</td>\n",
              "      <td>體育</td>\n",
              "      <td>9輪4球本土射手僅次武磊 黃紫昌要搶最強U23頭銜</td>\n",
              "    </tr>\n",
              "    <tr>\n",
              "      <th>2</th>\n",
              "      <td>2</td>\n",
              "      <td>體育</td>\n",
              "      <td>如果今年勇士奪冠，下賽季詹姆斯何去何從？</td>\n",
              "    </tr>\n",
              "    <tr>\n",
              "      <th>3</th>\n",
              "      <td>3</td>\n",
              "      <td>體育</td>\n",
              "      <td>超級替補！科斯塔本賽季替補出場貢獻7次助攻</td>\n",
              "    </tr>\n",
              "    <tr>\n",
              "      <th>4</th>\n",
              "      <td>4</td>\n",
              "      <td>體育</td>\n",
              "      <td>騎士6天里發生了啥？從首輪搶七到次輪3-0猛龍</td>\n",
              "    </tr>\n",
              "    <tr>\n",
              "      <th>...</th>\n",
              "      <td>...</td>\n",
              "      <td>...</td>\n",
              "      <td>...</td>\n",
              "    </tr>\n",
              "    <tr>\n",
              "      <th>1795</th>\n",
              "      <td>1795</td>\n",
              "      <td>遊戲</td>\n",
              "      <td>LOL：麻辣香鍋韓服Rank不合成打野刀？電刀巨魔新套路連勝中</td>\n",
              "    </tr>\n",
              "    <tr>\n",
              "      <th>1796</th>\n",
              "      <td>1796</td>\n",
              "      <td>遊戲</td>\n",
              "      <td>穩住，我們能贏！因為我們擁有這種強大的力量</td>\n",
              "    </tr>\n",
              "    <tr>\n",
              "      <th>1797</th>\n",
              "      <td>1797</td>\n",
              "      <td>遊戲</td>\n",
              "      <td>騰訊是怎樣毀掉《鬥戰神》這款可能成神的作品的？</td>\n",
              "    </tr>\n",
              "    <tr>\n",
              "      <th>1798</th>\n",
              "      <td>1798</td>\n",
              "      <td>遊戲</td>\n",
              "      <td>LOL你不知道的黑科技打法！</td>\n",
              "    </tr>\n",
              "    <tr>\n",
              "      <th>1799</th>\n",
              "      <td>1799</td>\n",
              "      <td>遊戲</td>\n",
              "      <td>遊戲拳皇各代的劇情都在講些什麼？</td>\n",
              "    </tr>\n",
              "  </tbody>\n",
              "</table>\n",
              "<p>1800 rows × 3 columns</p>\n",
              "</div>"
            ],
            "text/plain": [
              "      index class                            title\n",
              "0         0    體育         亞洲杯奪冠賠率：日本、伊朗領銜 中國竟與泰國並列\n",
              "1         1    體育        9輪4球本土射手僅次武磊 黃紫昌要搶最強U23頭銜\n",
              "2         2    體育             如果今年勇士奪冠，下賽季詹姆斯何去何從？\n",
              "3         3    體育            超級替補！科斯塔本賽季替補出場貢獻7次助攻\n",
              "4         4    體育          騎士6天里發生了啥？從首輪搶七到次輪3-0猛龍\n",
              "...     ...   ...                              ...\n",
              "1795   1795    遊戲  LOL：麻辣香鍋韓服Rank不合成打野刀？電刀巨魔新套路連勝中\n",
              "1796   1796    遊戲            穩住，我們能贏！因為我們擁有這種強大的力量\n",
              "1797   1797    遊戲          騰訊是怎樣毀掉《鬥戰神》這款可能成神的作品的？\n",
              "1798   1798    遊戲                   LOL你不知道的黑科技打法！\n",
              "1799   1799    遊戲                 遊戲拳皇各代的劇情都在講些什麼？\n",
              "\n",
              "[1800 rows x 3 columns]"
            ]
          },
          "metadata": {
            "tags": []
          },
          "execution_count": 6
        }
      ]
    },
    {
      "cell_type": "code",
      "metadata": {
        "id": "O66uE6boSw8_"
      },
      "source": [
        "train_titles = {row['index']: row['title'] for _, row in df_train.iterrows()}\n",
        "train_classes = {row['index']: row['class'] for _, row in df_train.iterrows()}\n",
        "\n",
        "test_titles = {row['index']: row['title'] for _, row in df_test.iterrows()}\n",
        "test_classes = {row['index']: row['class'] for _, row in df_test.iterrows()}"
      ],
      "execution_count": 9,
      "outputs": []
    },
    {
      "cell_type": "code",
      "metadata": {
        "id": "bjzh0xOvSw9A"
      },
      "source": [
        "all_news_class = ['體育', '財經', '科技', '旅遊', '農業', '遊戲']"
      ],
      "execution_count": 10,
      "outputs": []
    },
    {
      "cell_type": "markdown",
      "metadata": {
        "id": "ZOLWWCDsSw9B"
      },
      "source": [
        "# 斷詞 + POS"
      ]
    },
    {
      "cell_type": "code",
      "metadata": {
        "colab": {
          "base_uri": "https://localhost:8080/"
        },
        "id": "p5Ojg45BYhgT",
        "outputId": "d2ffa2b7-d20c-4d91-ae1e-ffe3f08223a3"
      },
      "source": [
        "from google.colab import drive\n",
        "drive.mount('/content/drive')"
      ],
      "execution_count": 12,
      "outputs": [
        {
          "output_type": "stream",
          "text": [
            "Mounted at /content/drive\n"
          ],
          "name": "stdout"
        }
      ]
    },
    {
      "cell_type": "code",
      "metadata": {
        "id": "B7zCP7LPYsvI"
      },
      "source": [
        "!cp ./drive/MyDrive/NLP_data/data.7z ."
      ],
      "execution_count": 13,
      "outputs": []
    },
    {
      "cell_type": "code",
      "metadata": {
        "colab": {
          "base_uri": "https://localhost:8080/"
        },
        "id": "yHSlQr24ZMEA",
        "outputId": "799dd6a2-3ab5-4e6b-bd88-f537c432d059"
      },
      "source": [
        "!7z x data.7z"
      ],
      "execution_count": 14,
      "outputs": [
        {
          "output_type": "stream",
          "text": [
            "\n",
            "7-Zip [64] 16.02 : Copyright (c) 1999-2016 Igor Pavlov : 2016-05-21\n",
            "p7zip Version 16.02 (locale=en_US.UTF-8,Utf16=on,HugeFiles=on,64 bits,2 CPUs Intel(R) Xeon(R) CPU @ 2.30GHz (306F0),ASM,AES-NI)\n",
            "\n",
            "Scanning the drive for archives:\n",
            "  0M Scan\b\b\b\b\b\b\b\b\b         \b\b\b\b\b\b\b\b\b1 file, 3659454979 bytes (3490 MiB)\n",
            "\n",
            "Extracting archive: data.7z\n",
            "--\n",
            "Path = data.7z\n",
            "Type = 7z\n",
            "Physical Size = 3659454979\n",
            "Headers Size = 691\n",
            "Method = LZMA2:26\n",
            "Solid = +\n",
            "Blocks = 2\n",
            "\n",
            "  0%\b\b\b\b    \b\b\b\b  0% 8 - D07data/embedding.7z\b\b\b\b\b\b\b\b\b\b\b\b\b\b\b\b\b\b\b\b\b\b\b\b\b\b\b\b\b                             \b\b\b\b\b\b\b\b\b\b\b\b\b\b\b\b\b\b\b\b\b\b\b\b\b\b\b\b\b  1% 8 - D07data/embedding.7z\b\b\b\b\b\b\b\b\b\b\b\b\b\b\b\b\b\b\b\b\b\b\b\b\b\b\b\b\b                             \b\b\b\b\b\b\b\b\b\b\b\b\b\b\b\b\b\b\b\b\b\b\b\b\b\b\b\b\b  2% 8 - D07data/embedding.7z\b\b\b\b\b\b\b\b\b\b\b\b\b\b\b\b\b\b\b\b\b\b\b\b\b\b\b\b\b                             \b\b\b\b\b\b\b\b\b\b\b\b\b\b\b\b\b\b\b\b\b\b\b\b\b\b\b\b\b  3% 8 - D07data/embedding.7z\b\b\b\b\b\b\b\b\b\b\b\b\b\b\b\b\b\b\b\b\b\b\b\b\b\b\b\b\b                             \b\b\b\b\b\b\b\b\b\b\b\b\b\b\b\b\b\b\b\b\b\b\b\b\b\b\b\b\b  4% 8 - D07data/embedding.7z\b\b\b\b\b\b\b\b\b\b\b\b\b\b\b\b\b\b\b\b\b\b\b\b\b\b\b\b\b                             \b\b\b\b\b\b\b\b\b\b\b\b\b\b\b\b\b\b\b\b\b\b\b\b\b\b\b\b\b  5% 8 - D07data/embedding.7z\b\b\b\b\b\b\b\b\b\b\b\b\b\b\b\b\b\b\b\b\b\b\b\b\b\b\b\b\b                             \b\b\b\b\b\b\b\b\b\b\b\b\b\b\b\b\b\b\b\b\b\b\b\b\b\b\b\b\b  6% 8 - D07data/embedding.7z\b\b\b\b\b\b\b\b\b\b\b\b\b\b\b\b\b\b\b\b\b\b\b\b\b\b\b\b\b                             \b\b\b\b\b\b\b\b\b\b\b\b\b\b\b\b\b\b\b\b\b\b\b\b\b\b\b\b\b  7% 8 - D07data/embedding.7z\b\b\b\b\b\b\b\b\b\b\b\b\b\b\b\b\b\b\b\b\b\b\b\b\b\b\b\b\b                             \b\b\b\b\b\b\b\b\b\b\b\b\b\b\b\b\b\b\b\b\b\b\b\b\b\b\b\b\b  8% 8 - D07data/embedding.7z\b\b\b\b\b\b\b\b\b\b\b\b\b\b\b\b\b\b\b\b\b\b\b\b\b\b\b\b\b                             \b\b\b\b\b\b\b\b\b\b\b\b\b\b\b\b\b\b\b\b\b\b\b\b\b\b\b\b\b  9% 8 - D07data/embedding.7z\b\b\b\b\b\b\b\b\b\b\b\b\b\b\b\b\b\b\b\b\b\b\b\b\b\b\b\b\b                             \b\b\b\b\b\b\b\b\b\b\b\b\b\b\b\b\b\b\b\b\b\b\b\b\b\b\b\b\b 10% 8 - D07data/embedding.7z\b\b\b\b\b\b\b\b\b\b\b\b\b\b\b\b\b\b\b\b\b\b\b\b\b\b\b\b\b                             \b\b\b\b\b\b\b\b\b\b\b\b\b\b\b\b\b\b\b\b\b\b\b\b\b\b\b\b\b 11% 8 - D07data/embedding.7z\b\b\b\b\b\b\b\b\b\b\b\b\b\b\b\b\b\b\b\b\b\b\b\b\b\b\b\b\b                             \b\b\b\b\b\b\b\b\b\b\b\b\b\b\b\b\b\b\b\b\b\b\b\b\b\b\b\b\b 12% 8 - D07data/embedding.7z\b\b\b\b\b\b\b\b\b\b\b\b\b\b\b\b\b\b\b\b\b\b\b\b\b\b\b\b\b                             \b\b\b\b\b\b\b\b\b\b\b\b\b\b\b\b\b\b\b\b\b\b\b\b\b\b\b\b\b 13% 8 - D07data/embedding.7z\b\b\b\b\b\b\b\b\b\b\b\b\b\b\b\b\b\b\b\b\b\b\b\b\b\b\b\b\b                             \b\b\b\b\b\b\b\b\b\b\b\b\b\b\b\b\b\b\b\b\b\b\b\b\b\b\b\b\b 14% 8 - D07data/embedding.7z\b\b\b\b\b\b\b\b\b\b\b\b\b\b\b\b\b\b\b\b\b\b\b\b\b\b\b\b\b                             \b\b\b\b\b\b\b\b\b\b\b\b\b\b\b\b\b\b\b\b\b\b\b\b\b\b\b\b\b 15% 8 - D07data/embedding.7z\b\b\b\b\b\b\b\b\b\b\b\b\b\b\b\b\b\b\b\b\b\b\b\b\b\b\b\b\b                             \b\b\b\b\b\b\b\b\b\b\b\b\b\b\b\b\b\b\b\b\b\b\b\b\b\b\b\b\b 16% 8 - D07data/embedding.7z\b\b\b\b\b\b\b\b\b\b\b\b\b\b\b\b\b\b\b\b\b\b\b\b\b\b\b\b\b                             \b\b\b\b\b\b\b\b\b\b\b\b\b\b\b\b\b\b\b\b\b\b\b\b\b\b\b\b\b 17% 8 - D07data/embedding.7z\b\b\b\b\b\b\b\b\b\b\b\b\b\b\b\b\b\b\b\b\b\b\b\b\b\b\b\b\b                             \b\b\b\b\b\b\b\b\b\b\b\b\b\b\b\b\b\b\b\b\b\b\b\b\b\b\b\b\b 18% 8 - D07data/embedding.7z\b\b\b\b\b\b\b\b\b\b\b\b\b\b\b\b\b\b\b\b\b\b\b\b\b\b\b\b\b                             \b\b\b\b\b\b\b\b\b\b\b\b\b\b\b\b\b\b\b\b\b\b\b\b\b\b\b\b\b 19% 8 - D07data/embedding.7z\b\b\b\b\b\b\b\b\b\b\b\b\b\b\b\b\b\b\b\b\b\b\b\b\b\b\b\b\b                             \b\b\b\b\b\b\b\b\b\b\b\b\b\b\b\b\b\b\b\b\b\b\b\b\b\b\b\b\b 20% 8 - D07data/embedding.7z\b\b\b\b\b\b\b\b\b\b\b\b\b\b\b\b\b\b\b\b\b\b\b\b\b\b\b\b\b                             \b\b\b\b\b\b\b\b\b\b\b\b\b\b\b\b\b\b\b\b\b\b\b\b\b\b\b\b\b 21% 8 - D07data/embedding.7z\b\b\b\b\b\b\b\b\b\b\b\b\b\b\b\b\b\b\b\b\b\b\b\b\b\b\b\b\b                             \b\b\b\b\b\b\b\b\b\b\b\b\b\b\b\b\b\b\b\b\b\b\b\b\b\b\b\b\b 22% 8 - D07data/embedding.7z\b\b\b\b\b\b\b\b\b\b\b\b\b\b\b\b\b\b\b\b\b\b\b\b\b\b\b\b\b                             \b\b\b\b\b\b\b\b\b\b\b\b\b\b\b\b\b\b\b\b\b\b\b\b\b\b\b\b\b 23% 8 - D07data/embedding.7z\b\b\b\b\b\b\b\b\b\b\b\b\b\b\b\b\b\b\b\b\b\b\b\b\b\b\b\b\b                             \b\b\b\b\b\b\b\b\b\b\b\b\b\b\b\b\b\b\b\b\b\b\b\b\b\b\b\b\b 24% 8 - D07data/embedding.7z\b\b\b\b\b\b\b\b\b\b\b\b\b\b\b\b\b\b\b\b\b\b\b\b\b\b\b\b\b                             \b\b\b\b\b\b\b\b\b\b\b\b\b\b\b\b\b\b\b\b\b\b\b\b\b\b\b\b\b 25% 8 - D07data/embedding.7z\b\b\b\b\b\b\b\b\b\b\b\b\b\b\b\b\b\b\b\b\b\b\b\b\b\b\b\b\b                             \b\b\b\b\b\b\b\b\b\b\b\b\b\b\b\b\b\b\b\b\b\b\b\b\b\b\b\b\b 26% 8 - D07data/embedding.7z\b\b\b\b\b\b\b\b\b\b\b\b\b\b\b\b\b\b\b\b\b\b\b\b\b\b\b\b\b                             \b\b\b\b\b\b\b\b\b\b\b\b\b\b\b\b\b\b\b\b\b\b\b\b\b\b\b\b\b 27% 8 - D07data/embedding.7z\b\b\b\b\b\b\b\b\b\b\b\b\b\b\b\b\b\b\b\b\b\b\b\b\b\b\b\b\b                             \b\b\b\b\b\b\b\b\b\b\b\b\b\b\b\b\b\b\b\b\b\b\b\b\b\b\b\b\b 28% 8 - D07data/embedding.7z\b\b\b\b\b\b\b\b\b\b\b\b\b\b\b\b\b\b\b\b\b\b\b\b\b\b\b\b\b                             \b\b\b\b\b\b\b\b\b\b\b\b\b\b\b\b\b\b\b\b\b\b\b\b\b\b\b\b\b 29% 8 - D07data/embedding.7z\b\b\b\b\b\b\b\b\b\b\b\b\b\b\b\b\b\b\b\b\b\b\b\b\b\b\b\b\b                             \b\b\b\b\b\b\b\b\b\b\b\b\b\b\b\b\b\b\b\b\b\b\b\b\b\b\b\b\b 30% 8 - D07data/embedding.7z\b\b\b\b\b\b\b\b\b\b\b\b\b\b\b\b\b\b\b\b\b\b\b\b\b\b\b\b\b                             \b\b\b\b\b\b\b\b\b\b\b\b\b\b\b\b\b\b\b\b\b\b\b\b\b\b\b\b\b 31% 8 - D07data/embedding.7z\b\b\b\b\b\b\b\b\b\b\b\b\b\b\b\b\b\b\b\b\b\b\b\b\b\b\b\b\b                             \b\b\b\b\b\b\b\b\b\b\b\b\b\b\b\b\b\b\b\b\b\b\b\b\b\b\b\b\b 32% 8 - D07data/embedding.7z\b\b\b\b\b\b\b\b\b\b\b\b\b\b\b\b\b\b\b\b\b\b\b\b\b\b\b\b\b                             \b\b\b\b\b\b\b\b\b\b\b\b\b\b\b\b\b\b\b\b\b\b\b\b\b\b\b\b\b 33% 8 - D07data/embedding.7z\b\b\b\b\b\b\b\b\b\b\b\b\b\b\b\b\b\b\b\b\b\b\b\b\b\b\b\b\b                             \b\b\b\b\b\b\b\b\b\b\b\b\b\b\b\b\b\b\b\b\b\b\b\b\b\b\b\b\b 33% 9 - D07data/embedding_character/token_list.npy\b\b\b\b\b\b\b\b\b\b\b\b\b\b\b\b\b\b\b\b\b\b\b\b\b\b\b\b\b\b\b\b\b\b\b\b\b\b\b\b\b\b\b\b\b\b\b\b\b\b\b                                                   \b\b\b\b\b\b\b\b\b\b\b\b\b\b\b\b\b\b\b\b\b\b\b\b\b\b\b\b\b\b\b\b\b\b\b\b\b\b\b\b\b\b\b\b\b\b\b\b\b\b\b 33% 10 - D07data/embedding_character/vector_list.npy\b\b\b\b\b\b\b\b\b\b\b\b\b\b\b\b\b\b\b\b\b\b\b\b\b\b\b\b\b\b\b\b\b\b\b\b\b\b\b\b\b\b\b\b\b\b\b\b\b\b\b\b\b                                                     \b\b\b\b\b\b\b\b\b\b\b\b\b\b\b\b\b\b\b\b\b\b\b\b\b\b\b\b\b\b\b\b\b\b\b\b\b\b\b\b\b\b\b\b\b\b\b\b\b\b\b\b\b 33% 11 - D07data/embedding_word/token_list.npy\b\b\b\b\b\b\b\b\b\b\b\b\b\b\b\b\b\b\b\b\b\b\b\b\b\b\b\b\b\b\b\b\b\b\b\b\b\b\b\b\b\b\b\b\b\b\b                                               \b\b\b\b\b\b\b\b\b\b\b\b\b\b\b\b\b\b\b\b\b\b\b\b\b\b\b\b\b\b\b\b\b\b\b\b\b\b\b\b\b\b\b\b\b\b\b 35% 11 - D07data/embedding_word/token_list.npy\b\b\b\b\b\b\b\b\b\b\b\b\b\b\b\b\b\b\b\b\b\b\b\b\b\b\b\b\b\b\b\b\b\b\b\b\b\b\b\b\b\b\b\b\b\b\b                                               \b\b\b\b\b\b\b\b\b\b\b\b\b\b\b\b\b\b\b\b\b\b\b\b\b\b\b\b\b\b\b\b\b\b\b\b\b\b\b\b\b\b\b\b\b\b\b 36% 11 - D07data/embedding_word/token_list.npy\b\b\b\b\b\b\b\b\b\b\b\b\b\b\b\b\b\b\b\b\b\b\b\b\b\b\b\b\b\b\b\b\b\b\b\b\b\b\b\b\b\b\b\b\b\b\b                                               \b\b\b\b\b\b\b\b\b\b\b\b\b\b\b\b\b\b\b\b\b\b\b\b\b\b\b\b\b\b\b\b\b\b\b\b\b\b\b\b\b\b\b\b\b\b\b 37% 11 - D07data/embedding_word/token_list.npy\b\b\b\b\b\b\b\b\b\b\b\b\b\b\b\b\b\b\b\b\b\b\b\b\b\b\b\b\b\b\b\b\b\b\b\b\b\b\b\b\b\b\b\b\b\b\b                                               \b\b\b\b\b\b\b\b\b\b\b\b\b\b\b\b\b\b\b\b\b\b\b\b\b\b\b\b\b\b\b\b\b\b\b\b\b\b\b\b\b\b\b\b\b\b\b 38% 11 - D07data/embedding_word/token_list.npy\b\b\b\b\b\b\b\b\b\b\b\b\b\b\b\b\b\b\b\b\b\b\b\b\b\b\b\b\b\b\b\b\b\b\b\b\b\b\b\b\b\b\b\b\b\b\b                                               \b\b\b\b\b\b\b\b\b\b\b\b\b\b\b\b\b\b\b\b\b\b\b\b\b\b\b\b\b\b\b\b\b\b\b\b\b\b\b\b\b\b\b\b\b\b\b 39% 11 - D07data/embedding_word/token_list.npy\b\b\b\b\b\b\b\b\b\b\b\b\b\b\b\b\b\b\b\b\b\b\b\b\b\b\b\b\b\b\b\b\b\b\b\b\b\b\b\b\b\b\b\b\b\b\b                                               \b\b\b\b\b\b\b\b\b\b\b\b\b\b\b\b\b\b\b\b\b\b\b\b\b\b\b\b\b\b\b\b\b\b\b\b\b\b\b\b\b\b\b\b\b\b\b 40% 11 - D07data/embedding_word/token_list.npy\b\b\b\b\b\b\b\b\b\b\b\b\b\b\b\b\b\b\b\b\b\b\b\b\b\b\b\b\b\b\b\b\b\b\b\b\b\b\b\b\b\b\b\b\b\b\b                                               \b\b\b\b\b\b\b\b\b\b\b\b\b\b\b\b\b\b\b\b\b\b\b\b\b\b\b\b\b\b\b\b\b\b\b\b\b\b\b\b\b\b\b\b\b\b\b 41% 11 - D07data/embedding_word/token_list.npy\b\b\b\b\b\b\b\b\b\b\b\b\b\b\b\b\b\b\b\b\b\b\b\b\b\b\b\b\b\b\b\b\b\b\b\b\b\b\b\b\b\b\b\b\b\b\b                                               \b\b\b\b\b\b\b\b\b\b\b\b\b\b\b\b\b\b\b\b\b\b\b\b\b\b\b\b\b\b\b\b\b\b\b\b\b\b\b\b\b\b\b\b\b\b\b 43% 11 - D07data/embedding_word/token_list.npy\b\b\b\b\b\b\b\b\b\b\b\b\b\b\b\b\b\b\b\b\b\b\b\b\b\b\b\b\b\b\b\b\b\b\b\b\b\b\b\b\b\b\b\b\b\b\b                                               \b\b\b\b\b\b\b\b\b\b\b\b\b\b\b\b\b\b\b\b\b\b\b\b\b\b\b\b\b\b\b\b\b\b\b\b\b\b\b\b\b\b\b\b\b\b\b 44% 11 - D07data/embedding_word/token_list.npy\b\b\b\b\b\b\b\b\b\b\b\b\b\b\b\b\b\b\b\b\b\b\b\b\b\b\b\b\b\b\b\b\b\b\b\b\b\b\b\b\b\b\b\b\b\b\b                                               \b\b\b\b\b\b\b\b\b\b\b\b\b\b\b\b\b\b\b\b\b\b\b\b\b\b\b\b\b\b\b\b\b\b\b\b\b\b\b\b\b\b\b\b\b\b\b 45% 11 - D07data/embedding_word/token_list.npy\b\b\b\b\b\b\b\b\b\b\b\b\b\b\b\b\b\b\b\b\b\b\b\b\b\b\b\b\b\b\b\b\b\b\b\b\b\b\b\b\b\b\b\b\b\b\b                                               \b\b\b\b\b\b\b\b\b\b\b\b\b\b\b\b\b\b\b\b\b\b\b\b\b\b\b\b\b\b\b\b\b\b\b\b\b\b\b\b\b\b\b\b\b\b\b 46% 11 - D07data/embedding_word/token_list.npy\b\b\b\b\b\b\b\b\b\b\b\b\b\b\b\b\b\b\b\b\b\b\b\b\b\b\b\b\b\b\b\b\b\b\b\b\b\b\b\b\b\b\b\b\b\b\b                                               \b\b\b\b\b\b\b\b\b\b\b\b\b\b\b\b\b\b\b\b\b\b\b\b\b\b\b\b\b\b\b\b\b\b\b\b\b\b\b\b\b\b\b\b\b\b\b 47% 11 - D07data/embedding_word/token_list.npy\b\b\b\b\b\b\b\b\b\b\b\b\b\b\b\b\b\b\b\b\b\b\b\b\b\b\b\b\b\b\b\b\b\b\b\b\b\b\b\b\b\b\b\b\b\b\b                                               \b\b\b\b\b\b\b\b\b\b\b\b\b\b\b\b\b\b\b\b\b\b\b\b\b\b\b\b\b\b\b\b\b\b\b\b\b\b\b\b\b\b\b\b\b\b\b 47% 12 - D07data/embedding_word/vector_list.npy\b\b\b\b\b\b\b\b\b\b\b\b\b\b\b\b\b\b\b\b\b\b\b\b\b\b\b\b\b\b\b\b\b\b\b\b\b\b\b\b\b\b\b\b\b\b\b\b                                                \b\b\b\b\b\b\b\b\b\b\b\b\b\b\b\b\b\b\b\b\b\b\b\b\b\b\b\b\b\b\b\b\b\b\b\b\b\b\b\b\b\b\b\b\b\b\b\b 48% 12 - D07data/embedding_word/vector_list.npy\b\b\b\b\b\b\b\b\b\b\b\b\b\b\b\b\b\b\b\b\b\b\b\b\b\b\b\b\b\b\b\b\b\b\b\b\b\b\b\b\b\b\b\b\b\b\b\b                                                \b\b\b\b\b\b\b\b\b\b\b\b\b\b\b\b\b\b\b\b\b\b\b\b\b\b\b\b\b\b\b\b\b\b\b\b\b\b\b\b\b\b\b\b\b\b\b\b 49% 12 - D07data/embedding_word/vector_list.npy\b\b\b\b\b\b\b\b\b\b\b\b\b\b\b\b\b\b\b\b\b\b\b\b\b\b\b\b\b\b\b\b\b\b\b\b\b\b\b\b\b\b\b\b\b\b\b\b                                                \b\b\b\b\b\b\b\b\b\b\b\b\b\b\b\b\b\b\b\b\b\b\b\b\b\b\b\b\b\b\b\b\b\b\b\b\b\b\b\b\b\b\b\b\b\b\b\b 50% 12 - D07data/embedding_word/vector_list.npy\b\b\b\b\b\b\b\b\b\b\b\b\b\b\b\b\b\b\b\b\b\b\b\b\b\b\b\b\b\b\b\b\b\b\b\b\b\b\b\b\b\b\b\b\b\b\b\b                                                \b\b\b\b\b\b\b\b\b\b\b\b\b\b\b\b\b\b\b\b\b\b\b\b\b\b\b\b\b\b\b\b\b\b\b\b\b\b\b\b\b\b\b\b\b\b\b\b 51% 12 - D07data/embedding_word/vector_list.npy\b\b\b\b\b\b\b\b\b\b\b\b\b\b\b\b\b\b\b\b\b\b\b\b\b\b\b\b\b\b\b\b\b\b\b\b\b\b\b\b\b\b\b\b\b\b\b\b                                                \b\b\b\b\b\b\b\b\b\b\b\b\b\b\b\b\b\b\b\b\b\b\b\b\b\b\b\b\b\b\b\b\b\b\b\b\b\b\b\b\b\b\b\b\b\b\b\b 52% 12 - D07data/embedding_word/vector_list.npy\b\b\b\b\b\b\b\b\b\b\b\b\b\b\b\b\b\b\b\b\b\b\b\b\b\b\b\b\b\b\b\b\b\b\b\b\b\b\b\b\b\b\b\b\b\b\b\b                                                \b\b\b\b\b\b\b\b\b\b\b\b\b\b\b\b\b\b\b\b\b\b\b\b\b\b\b\b\b\b\b\b\b\b\b\b\b\b\b\b\b\b\b\b\b\b\b\b 53% 12 - D07data/embedding_word/vector_list.npy\b\b\b\b\b\b\b\b\b\b\b\b\b\b\b\b\b\b\b\b\b\b\b\b\b\b\b\b\b\b\b\b\b\b\b\b\b\b\b\b\b\b\b\b\b\b\b\b                                                \b\b\b\b\b\b\b\b\b\b\b\b\b\b\b\b\b\b\b\b\b\b\b\b\b\b\b\b\b\b\b\b\b\b\b\b\b\b\b\b\b\b\b\b\b\b\b\b 54% 12 - D07data/embedding_word/vector_list.npy\b\b\b\b\b\b\b\b\b\b\b\b\b\b\b\b\b\b\b\b\b\b\b\b\b\b\b\b\b\b\b\b\b\b\b\b\b\b\b\b\b\b\b\b\b\b\b\b                                                \b\b\b\b\b\b\b\b\b\b\b\b\b\b\b\b\b\b\b\b\b\b\b\b\b\b\b\b\b\b\b\b\b\b\b\b\b\b\b\b\b\b\b\b\b\b\b\b 55% 12 - D07data/embedding_word/vector_list.npy\b\b\b\b\b\b\b\b\b\b\b\b\b\b\b\b\b\b\b\b\b\b\b\b\b\b\b\b\b\b\b\b\b\b\b\b\b\b\b\b\b\b\b\b\b\b\b\b                                                \b\b\b\b\b\b\b\b\b\b\b\b\b\b\b\b\b\b\b\b\b\b\b\b\b\b\b\b\b\b\b\b\b\b\b\b\b\b\b\b\b\b\b\b\b\b\b\b 56% 12 - D07data/embedding_word/vector_list.npy\b\b\b\b\b\b\b\b\b\b\b\b\b\b\b\b\b\b\b\b\b\b\b\b\b\b\b\b\b\b\b\b\b\b\b\b\b\b\b\b\b\b\b\b\b\b\b\b                                                \b\b\b\b\b\b\b\b\b\b\b\b\b\b\b\b\b\b\b\b\b\b\b\b\b\b\b\b\b\b\b\b\b\b\b\b\b\b\b\b\b\b\b\b\b\b\b\b 57% 12 - D07data/embedding_word/vector_list.npy\b\b\b\b\b\b\b\b\b\b\b\b\b\b\b\b\b\b\b\b\b\b\b\b\b\b\b\b\b\b\b\b\b\b\b\b\b\b\b\b\b\b\b\b\b\b\b\b                                                \b\b\b\b\b\b\b\b\b\b\b\b\b\b\b\b\b\b\b\b\b\b\b\b\b\b\b\b\b\b\b\b\b\b\b\b\b\b\b\b\b\b\b\b\b\b\b\b 58% 12 - D07data/embedding_word/vector_list.npy\b\b\b\b\b\b\b\b\b\b\b\b\b\b\b\b\b\b\b\b\b\b\b\b\b\b\b\b\b\b\b\b\b\b\b\b\b\b\b\b\b\b\b\b\b\b\b\b                                                \b\b\b\b\b\b\b\b\b\b\b\b\b\b\b\b\b\b\b\b\b\b\b\b\b\b\b\b\b\b\b\b\b\b\b\b\b\b\b\b\b\b\b\b\b\b\b\b 59% 12 - D07data/embedding_word/vector_list.npy\b\b\b\b\b\b\b\b\b\b\b\b\b\b\b\b\b\b\b\b\b\b\b\b\b\b\b\b\b\b\b\b\b\b\b\b\b\b\b\b\b\b\b\b\b\b\b\b                                                \b\b\b\b\b\b\b\b\b\b\b\b\b\b\b\b\b\b\b\b\b\b\b\b\b\b\b\b\b\b\b\b\b\b\b\b\b\b\b\b\b\b\b\b\b\b\b\b 60% 12 - D07data/embedding_word/vector_list.npy\b\b\b\b\b\b\b\b\b\b\b\b\b\b\b\b\b\b\b\b\b\b\b\b\b\b\b\b\b\b\b\b\b\b\b\b\b\b\b\b\b\b\b\b\b\b\b\b                                                \b\b\b\b\b\b\b\b\b\b\b\b\b\b\b\b\b\b\b\b\b\b\b\b\b\b\b\b\b\b\b\b\b\b\b\b\b\b\b\b\b\b\b\b\b\b\b\b 61% 12 - D07data/embedding_word/vector_list.npy\b\b\b\b\b\b\b\b\b\b\b\b\b\b\b\b\b\b\b\b\b\b\b\b\b\b\b\b\b\b\b\b\b\b\b\b\b\b\b\b\b\b\b\b\b\b\b\b                                                \b\b\b\b\b\b\b\b\b\b\b\b\b\b\b\b\b\b\b\b\b\b\b\b\b\b\b\b\b\b\b\b\b\b\b\b\b\b\b\b\b\b\b\b\b\b\b\b 62% 12 - D07data/embedding_word/vector_list.npy\b\b\b\b\b\b\b\b\b\b\b\b\b\b\b\b\b\b\b\b\b\b\b\b\b\b\b\b\b\b\b\b\b\b\b\b\b\b\b\b\b\b\b\b\b\b\b\b                                                \b\b\b\b\b\b\b\b\b\b\b\b\b\b\b\b\b\b\b\b\b\b\b\b\b\b\b\b\b\b\b\b\b\b\b\b\b\b\b\b\b\b\b\b\b\b\b\b 63% 12 - D07data/embedding_word/vector_list.npy\b\b\b\b\b\b\b\b\b\b\b\b\b\b\b\b\b\b\b\b\b\b\b\b\b\b\b\b\b\b\b\b\b\b\b\b\b\b\b\b\b\b\b\b\b\b\b\b                                                \b\b\b\b\b\b\b\b\b\b\b\b\b\b\b\b\b\b\b\b\b\b\b\b\b\b\b\b\b\b\b\b\b\b\b\b\b\b\b\b\b\b\b\b\b\b\b\b 64% 12 - D07data/embedding_word/vector_list.npy\b\b\b\b\b\b\b\b\b\b\b\b\b\b\b\b\b\b\b\b\b\b\b\b\b\b\b\b\b\b\b\b\b\b\b\b\b\b\b\b\b\b\b\b\b\b\b\b                                                \b\b\b\b\b\b\b\b\b\b\b\b\b\b\b\b\b\b\b\b\b\b\b\b\b\b\b\b\b\b\b\b\b\b\b\b\b\b\b\b\b\b\b\b\b\b\b\b 65% 12 - D07data/embedding_word/vector_list.npy\b\b\b\b\b\b\b\b\b\b\b\b\b\b\b\b\b\b\b\b\b\b\b\b\b\b\b\b\b\b\b\b\b\b\b\b\b\b\b\b\b\b\b\b\b\b\b\b                                                \b\b\b\b\b\b\b\b\b\b\b\b\b\b\b\b\b\b\b\b\b\b\b\b\b\b\b\b\b\b\b\b\b\b\b\b\b\b\b\b\b\b\b\b\b\b\b\b 66% 12 - D07data/embedding_word/vector_list.npy\b\b\b\b\b\b\b\b\b\b\b\b\b\b\b\b\b\b\b\b\b\b\b\b\b\b\b\b\b\b\b\b\b\b\b\b\b\b\b\b\b\b\b\b\b\b\b\b                                                \b\b\b\b\b\b\b\b\b\b\b\b\b\b\b\b\b\b\b\b\b\b\b\b\b\b\b\b\b\b\b\b\b\b\b\b\b\b\b\b\b\b\b\b\b\b\b\b 67% 12 - D07data/embedding_word/vector_list.npy\b\b\b\b\b\b\b\b\b\b\b\b\b\b\b\b\b\b\b\b\b\b\b\b\b\b\b\b\b\b\b\b\b\b\b\b\b\b\b\b\b\b\b\b\b\b\b\b                                                \b\b\b\b\b\b\b\b\b\b\b\b\b\b\b\b\b\b\b\b\b\b\b\b\b\b\b\b\b\b\b\b\b\b\b\b\b\b\b\b\b\b\b\b\b\b\b\b 68% 12 - D07data/embedding_word/vector_list.npy\b\b\b\b\b\b\b\b\b\b\b\b\b\b\b\b\b\b\b\b\b\b\b\b\b\b\b\b\b\b\b\b\b\b\b\b\b\b\b\b\b\b\b\b\b\b\b\b                                                \b\b\b\b\b\b\b\b\b\b\b\b\b\b\b\b\b\b\b\b\b\b\b\b\b\b\b\b\b\b\b\b\b\b\b\b\b\b\b\b\b\b\b\b\b\b\b\b 69% 12 - D07data/embedding_word/vector_list.npy\b\b\b\b\b\b\b\b\b\b\b\b\b\b\b\b\b\b\b\b\b\b\b\b\b\b\b\b\b\b\b\b\b\b\b\b\b\b\b\b\b\b\b\b\b\b\b\b                                                \b\b\b\b\b\b\b\b\b\b\b\b\b\b\b\b\b\b\b\b\b\b\b\b\b\b\b\b\b\b\b\b\b\b\b\b\b\b\b\b\b\b\b\b\b\b\b\b 70% 12 - D07data/embedding_word/vector_list.npy\b\b\b\b\b\b\b\b\b\b\b\b\b\b\b\b\b\b\b\b\b\b\b\b\b\b\b\b\b\b\b\b\b\b\b\b\b\b\b\b\b\b\b\b\b\b\b\b                                                \b\b\b\b\b\b\b\b\b\b\b\b\b\b\b\b\b\b\b\b\b\b\b\b\b\b\b\b\b\b\b\b\b\b\b\b\b\b\b\b\b\b\b\b\b\b\b\b 71% 12 - D07data/embedding_word/vector_list.npy\b\b\b\b\b\b\b\b\b\b\b\b\b\b\b\b\b\b\b\b\b\b\b\b\b\b\b\b\b\b\b\b\b\b\b\b\b\b\b\b\b\b\b\b\b\b\b\b                                                \b\b\b\b\b\b\b\b\b\b\b\b\b\b\b\b\b\b\b\b\b\b\b\b\b\b\b\b\b\b\b\b\b\b\b\b\b\b\b\b\b\b\b\b\b\b\b\b 72% 12 - D07data/embedding_word/vector_list.npy\b\b\b\b\b\b\b\b\b\b\b\b\b\b\b\b\b\b\b\b\b\b\b\b\b\b\b\b\b\b\b\b\b\b\b\b\b\b\b\b\b\b\b\b\b\b\b\b                                                \b\b\b\b\b\b\b\b\b\b\b\b\b\b\b\b\b\b\b\b\b\b\b\b\b\b\b\b\b\b\b\b\b\b\b\b\b\b\b\b\b\b\b\b\b\b\b\b 73% 12 - D07data/embedding_word/vector_list.npy\b\b\b\b\b\b\b\b\b\b\b\b\b\b\b\b\b\b\b\b\b\b\b\b\b\b\b\b\b\b\b\b\b\b\b\b\b\b\b\b\b\b\b\b\b\b\b\b                                                \b\b\b\b\b\b\b\b\b\b\b\b\b\b\b\b\b\b\b\b\b\b\b\b\b\b\b\b\b\b\b\b\b\b\b\b\b\b\b\b\b\b\b\b\b\b\b\b 74% 12 - D07data/embedding_word/vector_list.npy\b\b\b\b\b\b\b\b\b\b\b\b\b\b\b\b\b\b\b\b\b\b\b\b\b\b\b\b\b\b\b\b\b\b\b\b\b\b\b\b\b\b\b\b\b\b\b\b                                                \b\b\b\b\b\b\b\b\b\b\b\b\b\b\b\b\b\b\b\b\b\b\b\b\b\b\b\b\b\b\b\b\b\b\b\b\b\b\b\b\b\b\b\b\b\b\b\b 75% 12 - D07data/embedding_word/vector_list.npy\b\b\b\b\b\b\b\b\b\b\b\b\b\b\b\b\b\b\b\b\b\b\b\b\b\b\b\b\b\b\b\b\b\b\b\b\b\b\b\b\b\b\b\b\b\b\b\b                                                \b\b\b\b\b\b\b\b\b\b\b\b\b\b\b\b\b\b\b\b\b\b\b\b\b\b\b\b\b\b\b\b\b\b\b\b\b\b\b\b\b\b\b\b\b\b\b\b 76% 12 - D07data/embedding_word/vector_list.npy\b\b\b\b\b\b\b\b\b\b\b\b\b\b\b\b\b\b\b\b\b\b\b\b\b\b\b\b\b\b\b\b\b\b\b\b\b\b\b\b\b\b\b\b\b\b\b\b                                                \b\b\b\b\b\b\b\b\b\b\b\b\b\b\b\b\b\b\b\b\b\b\b\b\b\b\b\b\b\b\b\b\b\b\b\b\b\b\b\b\b\b\b\b\b\b\b\b 77% 12 - D07data/embedding_word/vector_list.npy\b\b\b\b\b\b\b\b\b\b\b\b\b\b\b\b\b\b\b\b\b\b\b\b\b\b\b\b\b\b\b\b\b\b\b\b\b\b\b\b\b\b\b\b\b\b\b\b                                                \b\b\b\b\b\b\b\b\b\b\b\b\b\b\b\b\b\b\b\b\b\b\b\b\b\b\b\b\b\b\b\b\b\b\b\b\b\b\b\b\b\b\b\b\b\b\b\b 78% 12 - D07data/embedding_word/vector_list.npy\b\b\b\b\b\b\b\b\b\b\b\b\b\b\b\b\b\b\b\b\b\b\b\b\b\b\b\b\b\b\b\b\b\b\b\b\b\b\b\b\b\b\b\b\b\b\b\b                                                \b\b\b\b\b\b\b\b\b\b\b\b\b\b\b\b\b\b\b\b\b\b\b\b\b\b\b\b\b\b\b\b\b\b\b\b\b\b\b\b\b\b\b\b\b\b\b\b 79% 12 - D07data/embedding_word/vector_list.npy\b\b\b\b\b\b\b\b\b\b\b\b\b\b\b\b\b\b\b\b\b\b\b\b\b\b\b\b\b\b\b\b\b\b\b\b\b\b\b\b\b\b\b\b\b\b\b\b                                                \b\b\b\b\b\b\b\b\b\b\b\b\b\b\b\b\b\b\b\b\b\b\b\b\b\b\b\b\b\b\b\b\b\b\b\b\b\b\b\b\b\b\b\b\b\b\b\b 80% 12 - D07data/embedding_word/vector_list.npy\b\b\b\b\b\b\b\b\b\b\b\b\b\b\b\b\b\b\b\b\b\b\b\b\b\b\b\b\b\b\b\b\b\b\b\b\b\b\b\b\b\b\b\b\b\b\b\b                                                \b\b\b\b\b\b\b\b\b\b\b\b\b\b\b\b\b\b\b\b\b\b\b\b\b\b\b\b\b\b\b\b\b\b\b\b\b\b\b\b\b\b\b\b\b\b\b\b 81% 12 - D07data/embedding_word/vector_list.npy\b\b\b\b\b\b\b\b\b\b\b\b\b\b\b\b\b\b\b\b\b\b\b\b\b\b\b\b\b\b\b\b\b\b\b\b\b\b\b\b\b\b\b\b\b\b\b\b                                                \b\b\b\b\b\b\b\b\b\b\b\b\b\b\b\b\b\b\b\b\b\b\b\b\b\b\b\b\b\b\b\b\b\b\b\b\b\b\b\b\b\b\b\b\b\b\b\b 82% 12 - D07data/embedding_word/vector_list.npy\b\b\b\b\b\b\b\b\b\b\b\b\b\b\b\b\b\b\b\b\b\b\b\b\b\b\b\b\b\b\b\b\b\b\b\b\b\b\b\b\b\b\b\b\b\b\b\b                                                \b\b\b\b\b\b\b\b\b\b\b\b\b\b\b\b\b\b\b\b\b\b\b\b\b\b\b\b\b\b\b\b\b\b\b\b\b\b\b\b\b\b\b\b\b\b\b\b 83% 12 - D07data/embedding_word/vector_list.npy\b\b\b\b\b\b\b\b\b\b\b\b\b\b\b\b\b\b\b\b\b\b\b\b\b\b\b\b\b\b\b\b\b\b\b\b\b\b\b\b\b\b\b\b\b\b\b\b                                                \b\b\b\b\b\b\b\b\b\b\b\b\b\b\b\b\b\b\b\b\b\b\b\b\b\b\b\b\b\b\b\b\b\b\b\b\b\b\b\b\b\b\b\b\b\b\b\b 84% 12 - D07data/embedding_word/vector_list.npy\b\b\b\b\b\b\b\b\b\b\b\b\b\b\b\b\b\b\b\b\b\b\b\b\b\b\b\b\b\b\b\b\b\b\b\b\b\b\b\b\b\b\b\b\b\b\b\b                                                \b\b\b\b\b\b\b\b\b\b\b\b\b\b\b\b\b\b\b\b\b\b\b\b\b\b\b\b\b\b\b\b\b\b\b\b\b\b\b\b\b\b\b\b\b\b\b\b 84% 13 - D07data/model.7z\b\b\b\b\b\b\b\b\b\b\b\b\b\b\b\b\b\b\b\b\b\b\b\b\b\b                          \b\b\b\b\b\b\b\b\b\b\b\b\b\b\b\b\b\b\b\b\b\b\b\b\b\b 85% 13 - D07data/model.7z\b\b\b\b\b\b\b\b\b\b\b\b\b\b\b\b\b\b\b\b\b\b\b\b\b\b                          \b\b\b\b\b\b\b\b\b\b\b\b\b\b\b\b\b\b\b\b\b\b\b\b\b\b 86% 13 - D07data/model.7z\b\b\b\b\b\b\b\b\b\b\b\b\b\b\b\b\b\b\b\b\b\b\b\b\b\b                          \b\b\b\b\b\b\b\b\b\b\b\b\b\b\b\b\b\b\b\b\b\b\b\b\b\b 87% 13 - D07data/model.7z\b\b\b\b\b\b\b\b\b\b\b\b\b\b\b\b\b\b\b\b\b\b\b\b\b\b                          \b\b\b\b\b\b\b\b\b\b\b\b\b\b\b\b\b\b\b\b\b\b\b\b\b\b 88% 13 - D07data/model.7z\b\b\b\b\b\b\b\b\b\b\b\b\b\b\b\b\b\b\b\b\b\b\b\b\b\b                          \b\b\b\b\b\b\b\b\b\b\b\b\b\b\b\b\b\b\b\b\b\b\b\b\b\b 89% 13 - D07data/model.7z\b\b\b\b\b\b\b\b\b\b\b\b\b\b\b\b\b\b\b\b\b\b\b\b\b\b                          \b\b\b\b\b\b\b\b\b\b\b\b\b\b\b\b\b\b\b\b\b\b\b\b\b\b 90% 13 - D07data/model.7z\b\b\b\b\b\b\b\b\b\b\b\b\b\b\b\b\b\b\b\b\b\b\b\b\b\b                          \b\b\b\b\b\b\b\b\b\b\b\b\b\b\b\b\b\b\b\b\b\b\b\b\b\b 91% 13 - D07data/model.7z\b\b\b\b\b\b\b\b\b\b\b\b\b\b\b\b\b\b\b\b\b\b\b\b\b\b                          \b\b\b\b\b\b\b\b\b\b\b\b\b\b\b\b\b\b\b\b\b\b\b\b\b\b 91% 14 - D07data/model_ner/label_list.txt\b\b\b\b\b\b\b\b\b\b\b\b\b\b\b\b\b\b\b\b\b\b\b\b\b\b\b\b\b\b\b\b\b\b\b\b\b\b\b\b\b\b                                          \b\b\b\b\b\b\b\b\b\b\b\b\b\b\b\b\b\b\b\b\b\b\b\b\b\b\b\b\b\b\b\b\b\b\b\b\b\b\b\b\b\b 91% 15 - D07data/model_ner/model_ontoch . ch128-run1.data-00000-of-00001\b\b\b\b\b\b\b\b\b\b\b\b\b\b\b\b\b\b\b\b\b\b\b\b\b\b\b\b\b\b\b\b\b\b\b\b\b\b\b\b\b\b\b\b\b\b\b\b\b\b\b\b\b\b\b\b\b\b\b\b\b\b\b\b\b\b\b\b\b\b\b\b\b                                                                         \b\b\b\b\b\b\b\b\b\b\b\b\b\b\b\b\b\b\b\b\b\b\b\b\b\b\b\b\b\b\b\b\b\b\b\b\b\b\b\b\b\b\b\b\b\b\b\b\b\b\b\b\b\b\b\b\b\b\b\b\b\b\b\b\b\b\b\b\b\b\b\b\b 92% 15 - D07data/model_ner/model_ontoch . ch128-run1.data-00000-of-00001\b\b\b\b\b\b\b\b\b\b\b\b\b\b\b\b\b\b\b\b\b\b\b\b\b\b\b\b\b\b\b\b\b\b\b\b\b\b\b\b\b\b\b\b\b\b\b\b\b\b\b\b\b\b\b\b\b\b\b\b\b\b\b\b\b\b\b\b\b\b\b\b\b                                                                         \b\b\b\b\b\b\b\b\b\b\b\b\b\b\b\b\b\b\b\b\b\b\b\b\b\b\b\b\b\b\b\b\b\b\b\b\b\b\b\b\b\b\b\b\b\b\b\b\b\b\b\b\b\b\b\b\b\b\b\b\b\b\b\b\b\b\b\b\b\b\b\b\b 93% 15 - D07data/model_ner/model_ontoch . ch128-run1.data-00000-of-00001\b\b\b\b\b\b\b\b\b\b\b\b\b\b\b\b\b\b\b\b\b\b\b\b\b\b\b\b\b\b\b\b\b\b\b\b\b\b\b\b\b\b\b\b\b\b\b\b\b\b\b\b\b\b\b\b\b\b\b\b\b\b\b\b\b\b\b\b\b\b\b\b\b                                                                         \b\b\b\b\b\b\b\b\b\b\b\b\b\b\b\b\b\b\b\b\b\b\b\b\b\b\b\b\b\b\b\b\b\b\b\b\b\b\b\b\b\b\b\b\b\b\b\b\b\b\b\b\b\b\b\b\b\b\b\b\b\b\b\b\b\b\b\b\b\b\b\b\b 94% 15 - D07data/model_ner/model_ontoch . ch128-run1.data-00000-of-00001\b\b\b\b\b\b\b\b\b\b\b\b\b\b\b\b\b\b\b\b\b\b\b\b\b\b\b\b\b\b\b\b\b\b\b\b\b\b\b\b\b\b\b\b\b\b\b\b\b\b\b\b\b\b\b\b\b\b\b\b\b\b\b\b\b\b\b\b\b\b\b\b\b                                                                         \b\b\b\b\b\b\b\b\b\b\b\b\b\b\b\b\b\b\b\b\b\b\b\b\b\b\b\b\b\b\b\b\b\b\b\b\b\b\b\b\b\b\b\b\b\b\b\b\b\b\b\b\b\b\b\b\b\b\b\b\b\b\b\b\b\b\b\b\b\b\b\b\b 94% 16 - D07data/model_ner/model_ontochin . _BiLSTM-2-500_batch128-run1.index\b\b\b\b\b\b\b\b\b\b\b\b\b\b\b\b\b\b\b\b\b\b\b\b\b\b\b\b\b\b\b\b\b\b\b\b\b\b\b\b\b\b\b\b\b\b\b\b\b\b\b\b\b\b\b\b\b\b\b\b\b\b\b\b\b\b\b\b\b\b\b\b\b\b\b\b\b\b                                                                              \b\b\b\b\b\b\b\b\b\b\b\b\b\b\b\b\b\b\b\b\b\b\b\b\b\b\b\b\b\b\b\b\b\b\b\b\b\b\b\b\b\b\b\b\b\b\b\b\b\b\b\b\b\b\b\b\b\b\b\b\b\b\b\b\b\b\b\b\b\b\b\b\b\b\b\b\b\b 94% 20\b\b\b\b\b\b\b       \b\b\b\b\b\b\b 94% 20 - D07data/model_pos/model_asbc_At . atch256-run1.data-00000-of-00001\b\b\b\b\b\b\b\b\b\b\b\b\b\b\b\b\b\b\b\b\b\b\b\b\b\b\b\b\b\b\b\b\b\b\b\b\b\b\b\b\b\b\b\b\b\b\b\b\b\b\b\b\b\b\b\b\b\b\b\b\b\b\b\b\b\b\b\b\b\b\b\b\b\b\b\b                                                                            \b\b\b\b\b\b\b\b\b\b\b\b\b\b\b\b\b\b\b\b\b\b\b\b\b\b\b\b\b\b\b\b\b\b\b\b\b\b\b\b\b\b\b\b\b\b\b\b\b\b\b\b\b\b\b\b\b\b\b\b\b\b\b\b\b\b\b\b\b\b\b\b\b\b\b\b 95% 20 - D07data/model_pos/model_asbc_At . atch256-run1.data-00000-of-00001\b\b\b\b\b\b\b\b\b\b\b\b\b\b\b\b\b\b\b\b\b\b\b\b\b\b\b\b\b\b\b\b\b\b\b\b\b\b\b\b\b\b\b\b\b\b\b\b\b\b\b\b\b\b\b\b\b\b\b\b\b\b\b\b\b\b\b\b\b\b\b\b\b\b\b\b                                                                            \b\b\b\b\b\b\b\b\b\b\b\b\b\b\b\b\b\b\b\b\b\b\b\b\b\b\b\b\b\b\b\b\b\b\b\b\b\b\b\b\b\b\b\b\b\b\b\b\b\b\b\b\b\b\b\b\b\b\b\b\b\b\b\b\b\b\b\b\b\b\b\b\b\b\b\b 96% 20 - D07data/model_pos/model_asbc_At . atch256-run1.data-00000-of-00001\b\b\b\b\b\b\b\b\b\b\b\b\b\b\b\b\b\b\b\b\b\b\b\b\b\b\b\b\b\b\b\b\b\b\b\b\b\b\b\b\b\b\b\b\b\b\b\b\b\b\b\b\b\b\b\b\b\b\b\b\b\b\b\b\b\b\b\b\b\b\b\b\b\b\b\b                                                                            \b\b\b\b\b\b\b\b\b\b\b\b\b\b\b\b\b\b\b\b\b\b\b\b\b\b\b\b\b\b\b\b\b\b\b\b\b\b\b\b\b\b\b\b\b\b\b\b\b\b\b\b\b\b\b\b\b\b\b\b\b\b\b\b\b\b\b\b\b\b\b\b\b\b\b\b 97% 20 - D07data/model_pos/model_asbc_At . atch256-run1.data-00000-of-00001\b\b\b\b\b\b\b\b\b\b\b\b\b\b\b\b\b\b\b\b\b\b\b\b\b\b\b\b\b\b\b\b\b\b\b\b\b\b\b\b\b\b\b\b\b\b\b\b\b\b\b\b\b\b\b\b\b\b\b\b\b\b\b\b\b\b\b\b\b\b\b\b\b\b\b\b                                                                            \b\b\b\b\b\b\b\b\b\b\b\b\b\b\b\b\b\b\b\b\b\b\b\b\b\b\b\b\b\b\b\b\b\b\b\b\b\b\b\b\b\b\b\b\b\b\b\b\b\b\b\b\b\b\b\b\b\b\b\b\b\b\b\b\b\b\b\b\b\b\b\b\b\b\b\b 97% 21 - D07data/model_pos/model_asbc_Att-0_BiLSTM-2-500_batch256-run1.index\b\b\b\b\b\b\b\b\b\b\b\b\b\b\b\b\b\b\b\b\b\b\b\b\b\b\b\b\b\b\b\b\b\b\b\b\b\b\b\b\b\b\b\b\b\b\b\b\b\b\b\b\b\b\b\b\b\b\b\b\b\b\b\b\b\b\b\b\b\b\b\b\b\b\b\b\b                                                                             \b\b\b\b\b\b\b\b\b\b\b\b\b\b\b\b\b\b\b\b\b\b\b\b\b\b\b\b\b\b\b\b\b\b\b\b\b\b\b\b\b\b\b\b\b\b\b\b\b\b\b\b\b\b\b\b\b\b\b\b\b\b\b\b\b\b\b\b\b\b\b\b\b\b\b\b\b 97% 23 - D07data/model_ws/model_asbc_A . ch128-run1.data-00000-of-00001\b\b\b\b\b\b\b\b\b\b\b\b\b\b\b\b\b\b\b\b\b\b\b\b\b\b\b\b\b\b\b\b\b\b\b\b\b\b\b\b\b\b\b\b\b\b\b\b\b\b\b\b\b\b\b\b\b\b\b\b\b\b\b\b\b\b\b\b\b\b\b\b                                                                        \b\b\b\b\b\b\b\b\b\b\b\b\b\b\b\b\b\b\b\b\b\b\b\b\b\b\b\b\b\b\b\b\b\b\b\b\b\b\b\b\b\b\b\b\b\b\b\b\b\b\b\b\b\b\b\b\b\b\b\b\b\b\b\b\b\b\b\b\b\b\b\b 98% 23 - D07data/model_ws/model_asbc_A . ch128-run1.data-00000-of-00001\b\b\b\b\b\b\b\b\b\b\b\b\b\b\b\b\b\b\b\b\b\b\b\b\b\b\b\b\b\b\b\b\b\b\b\b\b\b\b\b\b\b\b\b\b\b\b\b\b\b\b\b\b\b\b\b\b\b\b\b\b\b\b\b\b\b\b\b\b\b\b\b                                                                        \b\b\b\b\b\b\b\b\b\b\b\b\b\b\b\b\b\b\b\b\b\b\b\b\b\b\b\b\b\b\b\b\b\b\b\b\b\b\b\b\b\b\b\b\b\b\b\b\b\b\b\b\b\b\b\b\b\b\b\b\b\b\b\b\b\b\b\b\b\b\b\b 99% 23 - D07data/model_ws/model_asbc_A . ch128-run1.data-00000-of-00001\b\b\b\b\b\b\b\b\b\b\b\b\b\b\b\b\b\b\b\b\b\b\b\b\b\b\b\b\b\b\b\b\b\b\b\b\b\b\b\b\b\b\b\b\b\b\b\b\b\b\b\b\b\b\b\b\b\b\b\b\b\b\b\b\b\b\b\b\b\b\b\b                                                                        \b\b\b\b\b\b\b\b\b\b\b\b\b\b\b\b\b\b\b\b\b\b\b\b\b\b\b\b\b\b\b\b\b\b\b\b\b\b\b\b\b\b\b\b\b\b\b\b\b\b\b\b\b\b\b\b\b\b\b\b\b\b\b\b\b\b\b\b\b\b\b\b 99% 24 - D07data/model_ws/model_asbc_Att . -cross-2-500_batch128-run1.index\b\b\b\b\b\b\b\b\b\b\b\b\b\b\b\b\b\b\b\b\b\b\b\b\b\b\b\b\b\b\b\b\b\b\b\b\b\b\b\b\b\b\b\b\b\b\b\b\b\b\b\b\b\b\b\b\b\b\b\b\b\b\b\b\b\b\b\b\b\b\b\b\b\b\b\b                                                                            \b\b\b\b\b\b\b\b\b\b\b\b\b\b\b\b\b\b\b\b\b\b\b\b\b\b\b\b\b\b\b\b\b\b\b\b\b\b\b\b\b\b\b\b\b\b\b\b\b\b\b\b\b\b\b\b\b\b\b\b\b\b\b\b\b\b\b\b\b\b\b\b\b\b\b\bEverything is Ok\n",
            "\n",
            "Folders: 6\n",
            "Files: 20\n",
            "Size:       4445213888\n",
            "Compressed: 3659454979\n"
          ],
          "name": "stdout"
        }
      ]
    },
    {
      "cell_type": "code",
      "metadata": {
        "tags": [],
        "colab": {
          "base_uri": "https://localhost:8080/"
        },
        "id": "M4-dtIzZSw9B",
        "outputId": "78c03644-572f-4285-e7b2-18d687054c76"
      },
      "source": [
        "ws = WS('./D07data/')\n",
        "pos = POS('./D07data/')"
      ],
      "execution_count": 15,
      "outputs": [
        {
          "output_type": "stream",
          "text": [
            "/usr/local/lib/python3.6/dist-packages/tensorflow/python/keras/layers/legacy_rnn/rnn_cell_impl.py:903: UserWarning: `tf.nn.rnn_cell.LSTMCell` is deprecated and will be removed in a future version. This class is equivalent as `tf.keras.layers.LSTMCell`, and will be replaced by that in Tensorflow 2.0.\n",
            "  warnings.warn(\"`tf.nn.rnn_cell.LSTMCell` is deprecated and will be \"\n",
            "/usr/local/lib/python3.6/dist-packages/tensorflow/python/keras/engine/base_layer_v1.py:1727: UserWarning: `layer.add_variable` is deprecated and will be removed in a future version. Please use `layer.add_weight` method instead.\n",
            "  warnings.warn('`layer.add_variable` is deprecated and '\n"
          ],
          "name": "stderr"
        }
      ]
    },
    {
      "cell_type": "code",
      "metadata": {
        "tags": [],
        "colab": {
          "base_uri": "https://localhost:8080/",
          "height": 66,
          "referenced_widgets": [
            "0defe9f3711541f2a634e216f379e47f",
            "863975f3f3e84820abf1c3dbd0ddc379",
            "28f5b5f71f344fa5ab057ba9e2825a1c",
            "530fb3d7bb7a4efe8c4500f9874c6634",
            "068a34d1dfa243ef8135e88ccd7fb430",
            "d9387acf147e42169188c7326face0fa",
            "ac5700396efd48fa83c5c3bc38021c56",
            "98750c1a9ac6492f8eb391c073003a11"
          ]
        },
        "id": "ifGWdeevSw9C",
        "outputId": "195aa462-b572-49f4-a662-5775587948e2"
      },
      "source": [
        "train_title_cuts = {}\n",
        "for index, title in tqdm(train_titles.items()):\n",
        "    # YOUR CODE HERE\n",
        "    word_s = ws([title])\n",
        "    word_p = pos(word_s)\n",
        "    # END YOUR CODE\n",
        "    train_title_cuts[index] = list(zip(word_s[0], word_p[0]))"
      ],
      "execution_count": 17,
      "outputs": [
        {
          "output_type": "display_data",
          "data": {
            "application/vnd.jupyter.widget-view+json": {
              "model_id": "0defe9f3711541f2a634e216f379e47f",
              "version_minor": 0,
              "version_major": 2
            },
            "text/plain": [
              "HBox(children=(FloatProgress(value=0.0, max=1800.0), HTML(value='')))"
            ]
          },
          "metadata": {
            "tags": []
          }
        },
        {
          "output_type": "stream",
          "text": [
            "\n"
          ],
          "name": "stdout"
        }
      ]
    },
    {
      "cell_type": "code",
      "metadata": {
        "tags": [],
        "colab": {
          "base_uri": "https://localhost:8080/",
          "height": 66,
          "referenced_widgets": [
            "a896ae639e5240169f4b19d7a378d4fa",
            "eaa166b6367c4d9489170af4db8bd64f",
            "e75f8e0f7f814d2e9a999f49f39c3fd8",
            "2581cf90cbf24f1f90efdfa33e61a7ab",
            "a400d240a2e0401e932faef8b1654a0f",
            "4f4bdca66ba44737806b8e8860ea9991",
            "b487b4ca28784f34ae5869de29183628",
            "5fad6ee3556d4b52973afe3e875985bd"
          ]
        },
        "id": "T_ktG9s-Sw9D",
        "outputId": "f43c895c-ff88-4c5e-a232-e05e59ac5025"
      },
      "source": [
        "test_title_cuts = {}\n",
        "for index, title in tqdm(test_titles.items()):\n",
        "    # YOUR CODE HERE\n",
        "    word_s = ws([title])\n",
        "    word_p = pos(word_s)\n",
        "    # END YOUR CODE\n",
        "    test_title_cuts[index] = list(zip(word_s[0], word_p[0]))"
      ],
      "execution_count": 19,
      "outputs": [
        {
          "output_type": "display_data",
          "data": {
            "application/vnd.jupyter.widget-view+json": {
              "model_id": "a896ae639e5240169f4b19d7a378d4fa",
              "version_minor": 0,
              "version_major": 2
            },
            "text/plain": [
              "HBox(children=(FloatProgress(value=0.0, max=600.0), HTML(value='')))"
            ]
          },
          "metadata": {
            "tags": []
          }
        },
        {
          "output_type": "stream",
          "text": [
            "\n"
          ],
          "name": "stdout"
        }
      ]
    },
    {
      "cell_type": "code",
      "metadata": {
        "colab": {
          "base_uri": "https://localhost:8080/"
        },
        "id": "glPgljQhSw9E",
        "outputId": "b18c9c10-a294-4ebb-caaa-fb12ff3e2c7e"
      },
      "source": [
        "train_title_cuts[120]"
      ],
      "execution_count": 20,
      "outputs": [
        {
          "output_type": "execute_result",
          "data": {
            "text/plain": [
              "[('國腳', 'Na'),\n",
              " ('張呈棟', 'Nb'),\n",
              " ('：', 'COLONCATEGORY'),\n",
              " ('從', 'D'),\n",
              " ('沒', 'D'),\n",
              " ('想', 'VE'),\n",
              " ('過', 'Di'),\n",
              " ('自己', 'Nh'),\n",
              " ('會', 'D'),\n",
              " ('出', 'VC'),\n",
              " ('一', 'Neu'),\n",
              " ('本', 'Nf'),\n",
              " ('書', 'Na')]"
            ]
          },
          "metadata": {
            "tags": []
          },
          "execution_count": 20
        }
      ]
    },
    {
      "cell_type": "markdown",
      "metadata": {
        "id": "EEteramESw9F"
      },
      "source": [
        "# Bag of Words (BOW)"
      ]
    },
    {
      "cell_type": "code",
      "metadata": {
        "id": "wbw3dZMrSw9G"
      },
      "source": [
        "word2index = {}\n",
        "index2word = {}\n",
        "# 產生字與index對應的關係\n",
        "# YOUR CODE HERE\n",
        "n = 0\n",
        "for index in train_title_cuts:\n",
        "  for word, flag in train_title_cuts[index]:\n",
        "    if word in word2index:\n",
        "      continue\n",
        "    word2index[word] = n\n",
        "    index2word[n] = word \n",
        "    n += 1\n",
        "\n",
        "# END YOUR CODE"
      ],
      "execution_count": 23,
      "outputs": []
    },
    {
      "cell_type": "code",
      "metadata": {
        "colab": {
          "base_uri": "https://localhost:8080/"
        },
        "id": "y2emNqZdSw9G",
        "outputId": "c5f1d442-8896-4593-e4a5-51d5c489a407"
      },
      "source": [
        "word2index['溫暖']"
      ],
      "execution_count": 24,
      "outputs": [
        {
          "output_type": "execute_result",
          "data": {
            "text/plain": [
              "1520"
            ]
          },
          "metadata": {
            "tags": []
          },
          "execution_count": 24
        }
      ]
    },
    {
      "cell_type": "code",
      "metadata": {
        "colab": {
          "base_uri": "https://localhost:8080/",
          "height": 37
        },
        "id": "k0cuFSsESw9H",
        "outputId": "9dca748f-2d40-4bcc-95da-f0f5654d8f8e"
      },
      "source": [
        "index2word[1520]"
      ],
      "execution_count": 25,
      "outputs": [
        {
          "output_type": "execute_result",
          "data": {
            "application/vnd.google.colaboratory.intrinsic+json": {
              "type": "string"
            },
            "text/plain": [
              "'溫暖'"
            ]
          },
          "metadata": {
            "tags": []
          },
          "execution_count": 25
        }
      ]
    },
    {
      "cell_type": "code",
      "metadata": {
        "id": "aOROeekTSw9I"
      },
      "source": [
        "def get_bow_vector(pairs, word2index):\n",
        "    # YOUR CODE HERE\n",
        "    vector = np.zeros(len(word2index))\n",
        "    for word, flag in pairs:\n",
        "      if word in word2index:\n",
        "        vector[word2index[word]] += 1\n",
        "\n",
        "    # END YOUR CODE\n",
        "    return vector"
      ],
      "execution_count": 26,
      "outputs": []
    },
    {
      "cell_type": "code",
      "metadata": {
        "colab": {
          "base_uri": "https://localhost:8080/"
        },
        "id": "SHvShPxySw9K",
        "outputId": "2cbab950-0630-4b77-bf38-f0dcead96282"
      },
      "source": [
        "get_bow_vector(train_title_cuts[120], word2index)"
      ],
      "execution_count": 27,
      "outputs": [
        {
          "output_type": "execute_result",
          "data": {
            "text/plain": [
              "array([0., 0., 0., ..., 0., 0., 0.])"
            ]
          },
          "metadata": {
            "tags": []
          },
          "execution_count": 27
        }
      ]
    },
    {
      "cell_type": "markdown",
      "metadata": {
        "id": "MaWduio7Sw9L"
      },
      "source": [
        "# 排除較無意義的詞性"
      ]
    },
    {
      "cell_type": "code",
      "metadata": {
        "tags": [],
        "colab": {
          "base_uri": "https://localhost:8080/"
        },
        "id": "vDWPxeGqSw9L",
        "outputId": "efc89304-8ac3-451f-d949-c936933686d9"
      },
      "source": [
        "pos_analysis = {}\n",
        "for _, pairs in train_title_cuts.items():\n",
        "    for word, flag in pairs:\n",
        "        if flag not in pos_analysis:\n",
        "            pos_analysis[flag] = set()\n",
        "        pos_analysis[flag].add(word)\n",
        "\n",
        "for flag, words in pos_analysis.items():\n",
        "    print(flag, ':', list(words)[:100])\n",
        "    print('=======================')"
      ],
      "execution_count": 28,
      "outputs": [
        {
          "output_type": "stream",
          "text": [
            "Nb : ['扎堆', '趙雲', '卡納瓦羅', '力帆', '伯德', '建聯', '維韋杜詹霍', '本澤馬', '張本智和', '迪士尼', '帕克成', '拳皇', '游玄德', '弗格森', '劉國梁', '李白', '男乒', '雲聯惠', '埃姆雷', '王楚欽', '惠若琪', '凱爾特', '卓爾', '恆大', '朱嘯虎', '馬克', '綠軍', 'm15', '景泰石', '猛', '卡帥', '招行', '小強', '哈登', '大智慧', '世界杯', '賈躍亭', '亞亞·圖雷', '卡拉斯科', '餘額寶', '谷歌', '劉集', '夢琪', '萊萬', '秦緒文', '維亞利', '恆生', '埃爾克森', '瓜迪奧拉', '蓋倫', '安卓', '陶華碧', '堪比比薩', '多浪', '章澤天', '四阿哥', '勒布朗詹姆斯', '隆多', '德羅', '泰倫', '盼保', '林員', 'G3，76', 'S10', '比格利亞', '李嘉誠', '聯發科', '裴擒虎', '伊亞', '郎平', '奧尼爾', '楊智', '埃梅里', '里皮', '許', '德甲', '海因克斯 萊萬多夫斯基', '埃米爾岡', '溫格', '老詹', '樂福', '龔方雄', '張大仙', '騰訊', '馬龍', '韓信', '李盈瑩', '胤禛', '丘誠', '刷安徒恩', '加威廉', '權健', '安迪爾森', '宇通', '內馬爾', '英超', '蘇群', '黃希揚', '韓長賦', '洛瑞']\n",
            "=======================\n",
            "VC : ['誘', '生產', '撿', '測', '飲', '搭配', '關掉', '參觀', '開啓', '面試', '吸收', '踐行', '拿下', '零售', '通策', '計算', '破除', '考', '觀賞', '燒烤', '打理', '實施', '體驗', '爆存', '毀掉', '解決', '重演', '關閉', '衝刺', '攢', '投身', '增收', '燒', '指認', '包里', '產', '操作', '服務', '數', '扣', '唱', '掛', '弄', '看待', '反擊', '影響', '催收', '助推', '叫出', '動用', '等到', '佔領', '拍完', '玩上', '發展', '覲見', '攜驅', '檢驗', '戰釀', '打開', '買到', '合併', '綁定', '改造', '摔', '淘汰', '踢到', '改動', '更換', '融入', '等', '學習', '招', '坑害', '安裝', '加', '生', '帶上', '刷到', '設置', '招待', '輸出', '承受', '撿到', '加速', '拋售', '逗', '保留', '送走', '表現', '開好', '量', '創新', '拉開', '表揚', '發行', '砍', '吃完', '聯繫', '回購']\n",
            "=======================\n",
            "Na : ['湯', '樂趣', '智慧', '大氣', '活動', '分文', '莧菜', '人家', '刀塔', '心意', '頻道', '光伏', '銷量', '樹葉', '盆景', '感情', '有效期', '傳奇', '飛機票', '驚夢', '全民健身', '劍魂', '標華', '墊腳', '女子', '承壓', '世外桃源', '警句', '潛質', '最多值', '絕壁', '樓房', '套路貸', '產', '日漫', '產蛋率', '水漂', '熱點', '指南', '貓神', '成本', '影響力', '股份', '損失', '麒麟', '風潮', '意圖', '果苗', '彩禮', '成交額', '概念股', '對手', '獅', '因素', '物品', '收付款', '不鏽鋼', '生態', '詞語', '水墨石林', '奶爸', '排他性', '天津權', '原理', '珍品', '黃龍火', '預警', '隊員', '鴨', '採購商', '素質', '歷史', '紅柿', '土雞蛋', '全民', '魔獸', '越南語', '老婦人', '表現', '事項', '人物', '榜單', '天選', '洋眼', '姓', '超聯賽', '定局', '高手', '身高', '女足', '含金量', '里皮', '攻略', '大話', '媽媽', '中小盤', '空投里', '日媒', '房產證', '山貨']\n",
            "=======================\n",
            "COLONCATEGORY : [':', '：']\n",
            "=======================\n",
            "Nc : ['台南', '銀行', '天空', '蕩漾湖', '京郊', '加拿大', '以色列', '委員會', '嵐山', '海景驛站', '畢節', '北侖', '楚河', '債市', '佛山', '北川', '陽江', '珠寶店', '緬甸', '萬寧', '北海地', '雲南', '鹽城', '小學', '法國', '轄區', '舟山', '瀋陽', '分區', '國', '寶安', '拉薩', '斯里蘭卡', '荒山', '亞馬遜', '海口', '農行', '招行', '建行', '長沙', '農資店', '德國', '長白山', '水果店', '維希', '漁場', '高校', '商鋪', '風景區', '波密', '培田', '網站', '懸崖', '冠豸山', '湖州', '神壇', '浦江茜溪', '武林', '南極', '浦口', '陷泥潭', '吉林', '鮁魚圈區', '集市', '宿城', '火山口', '體壇', '江西', '盱眙', '家地', '寶雞', '華鎣', '永城', '趙集鎮', '營口', '主題店', '柏林', '日本', '聖堂山', '雲端', '中心', '青島', '德', '羅馬', '影視城', '旗下', '洋溪鎮', '四川', '海外', '小丘鎮', '遼寧省', '雷區', '古鎮', '浩特', '洗車店', '市', '南粵', '天津', '桂林', '三亞']\n",
            "=======================\n",
            "PAUSECATEGORY : ['、']\n",
            "=======================\n",
            "VB : ['收回來', '定位', '應對', '充飢', '助威', '上架', '分紅', '分組', '領銜', '分段', '再見', '加冕', '罵屌絲', '罰款', '扣分', '解惑', '解密', '效力', '一網打盡', '導航', '護航', '拍照', '計算出來', '開戰', '站台', '充氣', '執教', '抓來', '退款', '解體', '退改', '融資', '加起來', '解圍', '相比', '加工', '入賬', '通話', '騙錢', '加油', '復仇', '代打', '鋪平', '退貨', '加持', '鍍金', '提前']\n",
            "=======================\n",
            "WHITESPACE : [' ']\n",
            "=======================\n",
            "D : ['一起', '早', '驟然', '現', '無可', '絕', '分別', '接著', '重新', '偶爾', '大規模', '難以', '怎樣', '直', '一手', '哈哈', '也', '屢', '能', '屢屢', '已經', '率先', '為啥', '再', '會不會', '一直', '專職', '迫不及待', '剛', '時刻', '到處', '又', '趁早', '隨', '大都', '更', '來', '進一步', '連續', '會', '再次', '居然', '全面', '如何', '經常', '必須', '沒', '完全', '應該', '大幅', '在', '一', '何以', '趕緊', '自', '曾經', '都', '相', '可能', '很少', '盡情', '雙雙', '急劇', '為什麼', '即將', '本', '不可', '得', '依然', '其實', '好在', '不應該', '卻', '初', '攜手', '差點', '為何', '竟', '可否', '只有', '已然', '多', '凌空', '聯合', '當下', '恐怕', '天南地北', '依舊', '立即', '少', '皆', '只是', '大力', '全程', '一般', '一一', '曾', '亂', '隆', '互']\n",
            "=======================\n",
            "P : ['對', '幫', '按', '跟', '離', '靠', '從', '關於', '直至', '趁', '除了', '比如', '往', '趁著', '把', '將', '憑', '向', '以', '如', '除', '和', '根據', '自從', '隨', '與', '於', '為了', '臨', '至', '針對', '比', '當', '遭', '為', '被', '因', '距離', '在', '就', '用', '自', '像', '給', '隨了', '等', '繼', '慘遭', '受', '到', '待']\n",
            "=======================\n",
            "VG : ['酷似', '等於', '作為', '屬於', '並列', '變', '封號', '美成', '改造成', '類似', '戰成', '集成', '排行', '排名', '做', '似', '當作', '疑似', '建成', '當上', '變成', '成為', '非', '應聘', '理解為', '猶如', '算', '算是', '姓', '成', '如', '名叫', '投票成', '化', '評選', '竟是', '譽為', '堪稱', '彷彿', '叫做', '合成', '當', '叫', '為', '當成', '稱得上', '形成', '像', '升任', '充當', '誤認成', '做成', '賣成', '稱為', '稱', '排', '居', '稱作', '屈居']\n",
            "=======================\n",
            "Neu : ['3.5', '：76', '第三', '1.23億', '400萬', '第3', '1', '42', '第二', '200', '3000', '56', '91', '5萬', '5.5', '1099', '9-0', '2599', '16', '0:3', '4', '29', '4G+64', '3:1', '億', '1-2', '兩', '幾', '24.8億', '120萬', '2000萬', '零', '幾百', '兩萬', '30萬', '2018千', '2200', '5.7', '00', '三百', '1000', '715', '六', '七八千', '第四十四', '5.6', '二', '3-1', '6800', '47億', '第36', '10', '幾千', '七', '0.2', '一', '47', '21', '(00926)', '300萬', '10010', '38', '5.6千三', '392億', '8萬', '1.3萬', '7億', '30000億', '十多萬', '第一！', '2400', '2', '2018', '4000萬', '1699', '300', '三十', '甲', '1.1.2', '15.60', '3000萬', '2.37億', '第九', '500', '500萬', '835', '1.8億', '2.5', '100', '13888', 'b120', '十萬', '3', '百', '730萬', '12', '450億', '5', '3:0', '13']\n",
            "=======================\n",
            "Nf : ['刻', '塊', '批', '歲', '局', '台', '隊', '關', '日', '度', '方', '輛', '戶', '畝', '部', '步', '分鐘', '筆', '個', '片', '條', '號', '英吋', '層', '只', '棵', '次', '鍋', '週', '本', '股', '掛', '路', '群', '名', '把', '株', '米', '篇', '處', '秒', '場', '港元', '門', '屆', '招', '級', '對', '項', '套', '晚', '美元', '年', '班', '番', '槍', '些', '句', '樣', '支', 'K', '碗', '道', '毛', '座', '回', '周', '頭', '口', '類', '則', '斤', '隻', '節', '種', '款', '期', '盤', '噸', '輪', '色', '分', '串', '所', '公里', '行', '元', '胎', '頁', '位', '件', '袋', '檔', '點', '張', '天', '票', '遍', '頓', '家']\n",
            "=======================\n",
            "VJ : ['恭喜', '看懂', '贊同', '領先', '大勝', '認', '達到', '充', '高達', '偏愛', '懷念', '羨慕', '關注', '順應', '緊缺', '珍惜', '共有', '抗', '不理', '惜', '曬', '遭遇', '認識', '錯失', '符合', '吃上', '恪守', '僅次', '為', '沒', '佔', '歸屬於', '衝', '同情', '發揮', '忽略', '輸掉', '不到', '忘懷', '遺傳', '受', '受到', '失', '擁有', '得', '負', '靠', '入選', '含有', '翻倍', '優於', '看不過去', '來自', '冷落', '缺少', '吸引', '身臨', '出於', '降至', '近', '蘊藏', '減持', '贏下', '連接', '獲', '賽', '歡迎', '曝限', '耗', '強過', '發生', '不如', '無', '超', '經歷', '晉級', '共享', '懼怕', '喪失', '要價', '看好', '缺', '逾', '適應', '服', '獨佔', '熱心', '值', '失去', '達', '年入', '煥發', '脫', '贏得', '虧損', '痛失', '分享', '適用', '負於', '超過']\n",
            "=======================\n",
            "VD : ['禁售', '交付', '補繳', '提供', '發給', '售', '輸給', '補貼', '分', '贏', '支付', '貸款', '配', '搶', '寄予', '發放', '輸', '轉讓', '傳', '郵給', '拒賠', '賣', '貸', '借', '借貸', '發', '給予', '還', '白送', '給', '收費', '速遞', '予', '清繳', '欠', '付', '送', '坑', '供應']\n",
            "=======================\n",
            "Dfa : ['不大', '極', '多', '最', '還要', '如此', '更為', '十分', '頗', '有點', '同樣', '有些', '更', '好', '過', '太', '這麼', '還', '非常', '較', '比較', '很', '遠', '遠遠', '過於', '超', '越來越']\n",
            "=======================\n",
            "VH : ['怒', '閃崩', '平平無奇', '分夠', '現', '這麼多', '不善', '值得', '慘敗', '怎樣', '缺席', '恍然大悟', '開啓', '決裂', '力輓狂瀾', '轉型', '功不可', '出名', '投機', '粉', '別具一格', '關門大吉', '面世', '破局', '可期', '悲壯', '濕潤', '低', '窘', '熱刺托大', '墮落', '實用', '呆', '超出口', '大漲', '機智', '極好', '升級', '史無前例', '崩盤', '美好', '高度', '徹底', '正式', '竊喜', '公平', '不得了', '乾淨', '安全', '大減產', '曝光', '受益匪淺', '潰敗', '相關', '奇怪', '高新', '下課', '轉旺', '假', '高', '猛', '充足', '簡單', '出線', '少', '不當', '久', '近', '低調', '廉價', '沸騰', '穩膽', '貧困', '滯銷', '豐收', '這麼', '辛勞', '著急', '全自動', '富', '原創', '看呆', '疲軟', '出色', '公正', '理智', '實在', '泛濫成災', '可以', '下跌', '富有', '好用', '完勝', '小', '重要', '為時已晚', '勝利', '隆多', '真不少', '精心']\n",
            "=======================\n",
            "Cbb : ['但', '不管', '假如', '不然', '要是', '並且', '另外', '縱使', '只有', '不過', '若', '並', '跟著', '如果', '因為', '連', '反而', '但是', '既', '而', '可是', '因', '而是', '雖然', '不如', '即使', '還不如', '就算', '只要', '不僅', '既然', '否則']\n",
            "=======================\n",
            "Nd : ['雍正', '5月份', '過去', '今天', '文化節', '最近', '5日', '15年', '2018年度', '首日', '晚間', '6旬', '當時', '明年', '7日', '5.7日', '秋季', '季', '2017年', '2035年', '六', '夏日', '三國', '幾月份', '一會', '7號', '初夏', '後期', '一日', '那時', '明晚', '如今', '隔年', '2018', '昨天', '四月', '晚清', '臨時', '一大早', '不久', '以前', '夏窗', '週末', '23日', '後來', '1點', '寒武紀', '夏天', '下旬', '五月', '5號', '長期', '2019年', '狗年', '正月', '春', '今日', '4月', '近日', '未來', '8月', '短期', '熱天', '今年', '花季', '秋', '週二', '七月份', '13點', '昔日', '夏', '目前', '半夜', '31號', '6日', '春天', '現代', '荒古', '旺季', '中旬', '2019', '90年', '季度', '月季', '大中', '3月', '早晨', '周', '19年', '今夏', '一下', '當前', '1日', '小時候', '06日', '15日', '夏季', '以後', '現在', '2020年']\n",
            "=======================\n",
            "VA : ['逆襲', '掛機', '報關', '開門紅', '打工', '轉會', '充值', '出欄', '開啓', '求生', '遊園', '聊天', '問世', '觀戰', '起飛', '墊腳', '探秘', '轉農', '控股', '代言', '倒計', '唱空', '掃碼', '上班', '結婚', '來臨', '睡', '放大招', '溢出', '違規', '出場', '健身', '震蕩', '怒吼', '過閘', '生財', '閉嘴', '出門', '犯規', '徵信', '開王', '反轉', '戰', '登場', '保級', '對陣', '晨跑', '偷腥', '出擊', '坐穩', '出台', '違法', '格鬥', '鬥勇', '攻堅', '飆車', '旅遊', '進城', '遠行', '入院', '開業', '亮相', '封卡', '上雙', '行走', '出單', '幹什麼', '神杯', '賺錢', '鬥米', '下滑', '創業', '掙扎', '自殺', '消費', '下場', '造假', '代工', '懷孕', '脫坑', '爭冠', '划溝', '倒流', '翻身', '大小便', '追債', '跪', '拍案叫絕', '點球', '出貨', '回家', '跳舞', '競技', '遊玩', '共贏', '續交', '潛伏', '啓動', '結果', '存在']\n",
            "=======================\n",
            "COMMACATEGORY : ['，', ',']\n",
            "=======================\n",
            "Nes : ['本', '何', '該', '前', '同', '下', '貴', '首', '另', '每', '各', '近', '上', '後', '頭', '某']\n",
            "=======================\n",
            "QUESTIONCATEGORY : ['？']\n",
            "=======================\n",
            "EXCLAMATIONCATEGORY : ['！', '!']\n",
            "=======================\n",
            "Di : ['了', '個', '著', '過', '起來']\n",
            "=======================\n",
            "Nep : ['其中', '啥', '此', '這', '什麼', '其', '哪', '那']\n",
            "=======================\n",
            "Caa : ['或是', '和', 'VS', '或者', '又', '跟', '及', '或', '與', '至', '還是', '比', '到', '暨']\n",
            "=======================\n",
            "VCL : ['退出', '走進', '重回', '到達', '走過', '穿透', '住', '盤踞', '進入', '抵達', '上', '赴', '存進', '蒞臨', '回歸', '往', '走到', '出發到', '玩遍', '跌至', '走訪', '遠離', '度過', '來到', '深入', '前往', '穿越', '暗渡', '進', '跌出', '路過', '去', '回', '過', '用於', '前來', '回到', '直達', '穿過', '遊覽', '走下', '登陸', '在', '入', '出', '重返', '橫掃', '留在', '升至', '栽進', '到']\n",
            "=======================\n",
            "Neqa : ['這些', '有的', '不少', '哪些', '一半', '大多數', '這麼多', '無數', '更多', '三分之一', '大多', '多', '許多', '一些', '10%', '100%', '部分', '多少', '任何', '個個', '1%', '四成', '0.8%', '9.89%', '百分之八十', '41.8%', '一切', '15%', '步步', '句句', '1/4', '8%', '80%', '一處處', '多點', '所有', '大量', '有些', '那些', '其他', '很多', '全', '67%', '20%', '其它', '半', '12%', '6%', '30%', '一點', '遍', '滴滴', '90%']\n",
            "=======================\n",
            "Nh : ['自身', '他們', '我', '誰', '他', '私人', '我們', '你們', '它', '人家', '她', '父子倆', '自己', '本人', '各位', '大家', '各自', '別人', '對方', '您', '自我', '屌絲', '小眾', '她們', '俺們', '一方', '你', '個人', '它們', '雙方']\n",
            "=======================\n",
            "FW : ['SUP', 'XQ', 'BTC', 'G', 'VR ', 'Cotswolds', 'RPG', 'mAh+', 'adc', 'mix2', 'Nvidia', 'LOL：', '5A', 'OB', 'AWM', 'AMD', '9A91', 'OV', 'Aurum ', 'note5', 'cpu', 'SSR', '：AG', 'Day', 'MARVEL X', 'FOF', 'iPad', 'Aloha', 'pro7', 'CFPL', 'G3', 'Rank', '｜', '4AM', 'OPPO R', 'DNF ', 'LPL', 'U23', 'AI', 'NPC', '~', 'kpl', '/', 'Fullestop', 'AIC', 'N+1', ' vs 利物浦', 'TPP', 'bad boy', 'T+0', 'FPP', 'B', 'Pro', 'VR', 'numb', '│', 'e', 'iPhone7', '2', 'iPhone X', 'SIo', 'Oeanc', 'Mc', 'DNF：', 'QGhappy', 'AP', ' 比', 'CFO', 'T', '丨', 'SSG', 'PS4/NS', 'ipad', 'NBA ', 'ban', 'LOL：MSI', 'UZI', 'steam', 'TT', 'iPhone X Plus', 'MSI', 'LOL', 'ADC', '6G+', 'N7', ' VS ', 'QQ', 'KPL', 'etc', 'EOS', 'S', 'vs', 'l ', 'RNG', 'dnf', 'PK', 'Xbox ', 'cosplay', 'PPP', 'i7']\n",
            "=======================\n",
            "SHI : ['是', '像是']\n",
            "=======================\n",
            "VE : ['調研', '告訴', '允許', '准', '防止', '討說', '查找', '揭曉', '想', '感嘆', '研究', '鑒定', '傳聞', '避免', '看出', '判罰', '認為', '慶祝', '賭約', '預計', '廣播', '公認', '問', '估值', '看清楚', '精准', '稱', '提', '披露', '提到', '聽到', '幻想', '自嘲', '聯想', '預防', '公告', '看到', '聽', '公示', '以為', '證明', '訴說', '公佈', '提起', '探討', '證', '聊', '想到', '猜', '商量', '設想', '檢測', '確認', '限制', '預期', '炫耀', '查看', '呼', '查', '判斷', '預測', '預定', '算', '探索', '回顧', '講', '發佈', '識別', '想好', '考慮', '說', '知詢', '發誓', '預告', '申卡', '形容', '見', '聽說', '做到', '回答', '想要', '禁止', '爆料', '見證', '談', '示範', '暗示', '發現', '判定', '安排', '承諾', '想起', '宣佈', '要', '樂見', '見到', '反對', '說明', '盛贊', '提醒']\n",
            "=======================\n",
            "DE : ['地', '之', '得', '的']\n",
            "=======================\n",
            "VHC : ['可憐', '陷', '暫停', '肥', '增強', '開', '穩定', '愁壞', '煩', '破', '斷', '震驚', '辛苦', '加快', '麻煩', '普及', '降低', '縮小', '增 ', '感動', '豐富', '公開', '國際化', '增長', '增加', '告破', '團結', '恢復', '壞', '平衡', '現代化', '結束', '下來', '規模化', '熱', '愁死', '強化', '凍', '擴張', '繁榮', '滿足', '產生', '機構化', '傷', '變動', '減少', '還原', '淡化', '停', '智能化', '冷卻', '溫暖', '優化']\n",
            "=======================\n",
            "Ng : ['以後', '外', '而言', '前', '以上', '以來', '初', '起', '上', '間', '後', '中', '之後', '之前', '之外', '之內', '底', '之中', '下', '為止', '裡', '之下', '內', '來', '之上', '時', '之間', '般', '左右', '以下', '以外']\n",
            "=======================\n",
            "VK : ['堅持', '懂得', '需要', '流傳', '遺憾', '感受', '奇怪', '懷疑', '需', '欲', '盼', '放心', '注意', '不忘', '依賴', '曲解', '顯示', '知', '忘記', '討厭', '理解', '感謝', '覺得', '遇', '覺', '願', '希望', '想見', '所謂', '回憶', '擔心', '知道', '害怕', '懂', '瞭解', '指望', '期待', '面臨', '怕', '介意', '有利於', '感覺到', '不滿', '信', '肯定', '意想不到', '喜歡', '感覺', '恨', '小心', '意外', '抱歉', '忘', '願意', '同意', '明白', '確定', '意味', '恐']\n",
            "=======================\n",
            "Ncd : ['外', '中間', '東部', '西', '哪', '上', '間', '北', '中', '哪下', '邊', '中部', '旁邊', '上方', '兩旁', '方', '哪裡', '當中', '前沿', '哪兒', '畔', '東', '東西部', '上面', '底部', '下', '裡面', '裡', '內', '一帶', '外面', '末端', '那裡', '西部', '那邊', '這裡', '以下', '對面', '東方']\n",
            "=======================\n",
            "A : ['唯一', '地下', '基層', '優質', '二手', '獨家', '眾', '火紅', '重磅', '超級', '中', '總', '碧藍', '必備', '現役', '綜合', '單', '額外', '歐式', '同等', '非', '寶有', '多餘', '後置', '野生', '新一代', '一般', '同一', '主', '雙', '頭號', '共同', '前置', '中西', '彩色', '最佳', '大幅度', '獨角', '原', '麻辣', '獨門', '乒乓', '上上', '常務', '高度', '真正', '業餘', '小本', '現行', '長途', '基礎', '國產', '新興', '超']\n",
            "=======================\n",
            "V_2 : ['有']\n",
            "=======================\n",
            "VL : ['後悔', '導致', '愛好', '敢', '甘願', '開始', '能', '不惜', '用來', '使得', '愛', '讓', '故意', '令', '致', '便利', '習慣', '趨於', '持續', '肯', '喜好', '使']\n",
            "=======================\n",
            "T : ['咯', '吧', '嗎', '了', '啊', '麼', '去', '來', '呢', '哦', '哪', '啦', '嘛', '的', '矣']\n",
            "=======================\n",
            "VI : ['著稱', '專用', '傾心', '取勝', '驚艷']\n",
            "=======================\n",
            "DASHCATEGORY : ['—', '-']\n",
            "=======================\n",
            "I : ['瑪法里奧', '哦']\n",
            "=======================\n",
            "Dk : ['結果', '反過來', '想不到', '據說', '據聞', '那麼', '那', '外傳']\n",
            "=======================\n",
            "VF : ['策劃', '逼', '告誡', '推選', '勸說', '請', '判', '邀', '準備', '催', '率領', '試', '打算', '停止', '鼓勵', '帶領', '拒', '試試', '申請', '止住', '勸住', '叫', '要求', '擬', '圖', '繼續', '助', '拒絕']\n",
            "=======================\n",
            "Da : ['足足', '共', '正好', '只', '不下', '才', '唯獨', '光', '幾乎', '約', '最多', '將近', '幾近', '近', '僅']\n",
            "=======================\n",
            "PARENTHESISCATEGORY : ['）', '（', '「', '》', '《', '(', '」']\n",
            "=======================\n",
            "Nv : ['錄制', '護髮', '生產', '組合', '解救', '絕殺', '崩潰', '配置', '灌籃', '登山', '訴訟', '旅遊', '抗戰', '回歸', '銷售', '供電', '燃燒', '疊加', '研究', '兼職', '射擊', '管理', '買單', '工作', '度假', '判罰', '增發', '私募', '關聯', '分銷', '體驗', '營銷', '惡搞', '推薦', '批發', '問', '代理', '開發', '創業', '思考', '防治', '翻譯', '輔助', '航海', '遊樂', '經歷']\n",
            "=======================\n",
            "PERIODCATEGORY : ['。', '·']\n",
            "=======================\n",
            "VAC : ['上演', '推進', '集合', '移動', '蒸發', '動']\n",
            "=======================\n",
            "Dfb : ['一點', '些', '極了']\n",
            "=======================\n",
            "Cab : ['等', '等等']\n",
            "=======================\n",
            "SEMICOLONCATEGORY : ['；']\n",
            "=======================\n",
            "Neqb : ['以上', '多', '半', '幾']\n",
            "=======================\n",
            "ETCCATEGORY : ['…']\n",
            "=======================\n",
            "Cba : ['的話']\n",
            "=======================\n",
            "DOTCATEGORY : ['.']\n",
            "=======================\n"
          ],
          "name": "stdout"
        }
      ]
    },
    {
      "cell_type": "markdown",
      "metadata": {
        "id": "QP3OebKMSw9M"
      },
      "source": [
        "|         Type        |     Description    |\n",
        "|:-------------------:|:------------------:|\n",
        "| A                   | 非謂形容詞         |\n",
        "| Caa                 | 對等連接詞         |\n",
        "| Cab                 | 連接詞，如：等等   |\n",
        "| Cba                 | 連接詞，如：的話   |\n",
        "| Cbb                 | 關聯連接詞         |\n",
        "| D                   | 副詞               |\n",
        "| Da                  | 數量副詞           |\n",
        "| Dfa                 | 動詞前程度副詞     |\n",
        "| Dfb                 | 動詞後程度副詞     |\n",
        "| Di                  | 時態標記           |\n",
        "| Dk                  | 句副詞             |\n",
        "| DM                  | 定量式             |\n",
        "| I                   | 感嘆詞             |\n",
        "| Na                  | 普通名詞           |\n",
        "| Nb                  | 專有名詞           |\n",
        "| Nc                  | 地方詞             |\n",
        "| Ncd                 | 位置詞             |\n",
        "| Nd                  | 時間詞             |\n",
        "| Nep                 | 指代定詞           |\n",
        "| Neqa                | 數量定詞           |\n",
        "| Neqb                | 後置數量定詞       |\n",
        "| Nes                 | 特指定詞           |\n",
        "| Neu                 | 數詞定詞           |\n",
        "| Nf                  | 量詞               |\n",
        "| Ng                  | 後置詞             |\n",
        "| Nh                  | 代名詞             |\n",
        "| Nv                  | 名物化動詞         |\n",
        "| P                   | 介詞               |\n",
        "| T                   | 語助詞             |\n",
        "| VA                  | 動作不及物動詞     |\n",
        "| VAC                 | 動作使動動詞       |\n",
        "| VB                  | 動作類及物動詞     |\n",
        "| VC                  | 動作及物動詞       |\n",
        "| VCL                 | 動作接地方賓語動詞 |\n",
        "| VD                  | 雙賓動詞           |\n",
        "| VF                  | 動作謂賓動詞       |\n",
        "| VE                  | 動作句賓動詞       |\n",
        "| VG                  | 分類動詞           |\n",
        "| VH                  | 狀態不及物動詞     |\n",
        "| VHC                 | 狀態使動動詞       |\n",
        "| VI                  | 狀態類及物動詞     |\n",
        "| VJ                  | 狀態及物動詞       |\n",
        "| VK                  | 狀態句賓動詞       |\n",
        "| VL                  | 狀態謂賓動詞       |\n",
        "| V_2                 | 有                 |\n",
        "|                     |                    |\n",
        "| DE                  | 的之得地           |\n",
        "| SHI                 | 是                 |\n",
        "| FW                  | 外文               |\n",
        "|                     |                    |\n",
        "| COLONCATEGORY       | 冒號               |\n",
        "| COMMACATEGORY       | 逗號               |\n",
        "| DASHCATEGORY        | 破折號             |\n",
        "| DOTCATEGORY         | 點號               |\n",
        "| ETCCATEGORY         | 刪節號             |\n",
        "| EXCLAMATIONCATEGORY | 驚嘆號             |\n",
        "| PARENTHESISCATEGORY | 括號               |\n",
        "| PAUSECATEGORY       | 頓號               |\n",
        "| PERIODCATEGORY      | 句號               |\n",
        "| QUESTIONCATEGORY    | 問號               |\n",
        "| SEMICOLONCATEGORY   | 分號               |\n",
        "| SPCHANGECATEGORY    | 雙直線             |\n",
        "| WHITESPACE          | 空白               |"
      ]
    },
    {
      "cell_type": "code",
      "metadata": {
        "id": "ZrPkjm5VSw9N"
      },
      "source": [
        "def get_bow_vector_with_selection(pairs, word2index):\n",
        "    excluded_flags = [\n",
        "        # 根據以上列舉出來的文字以及詞性表，請列出想要排除的詞性\n",
        "        # YOUR CODE HERE\n",
        "        'Nh', 'Nep', 'Nes', 'DE', 'T', 'P', 'V_2', 'SHI',\n",
        "        'Dfa', 'Dfb', 'Da', 'Di', 'Dk',\n",
        "        'Caa', 'Cab', 'Cba', 'Cbb',\n",
        "        'COLONCATEGORY', 'COMMACATEGORY', 'DASHCATEGORY', 'DOTCATEGORY', 'ETCCATEGORY', 'EXCLAMATIONCATEGORY',\n",
        "        'PARENTHESISCATEGORY', 'PAUSECATEGORY', 'PERIODCATEGORY', 'QUESTIONCATEGORY', 'SEMICOLONCATEGORY',\n",
        "        'SPCHANGECATEGORY', 'WHITESPACE'\n",
        "\n",
        "        # END YOUR CODE\n",
        "    ]\n",
        "    vector = np.zeros(len(word2index))\n",
        "    for word, flag in pairs:\n",
        "        if word in word2index and flag not in excluded_flags:\n",
        "            vector[word2index[word]] += 1\n",
        "    return vector"
      ],
      "execution_count": 29,
      "outputs": []
    },
    {
      "cell_type": "markdown",
      "metadata": {
        "id": "0XnhH0LzSw9O"
      },
      "source": [
        "# Cosine Similarity"
      ]
    },
    {
      "cell_type": "code",
      "metadata": {
        "id": "YvlD3oAmSw9O"
      },
      "source": [
        "def cosine_similarity(bow1, bow2):\n",
        "    # YOUR CODE HERE\n",
        "    len_bow1 = np.sqrt(np.sum(np.square(bow1)))\n",
        "    len_bow2 = np.sqrt(np.sum(np.square(bow2)))\n",
        "    similarity = np.sum(bow1 * bow2) / (len_bow1 * len_bow2)\n",
        "    # END YOUR CODE\n",
        "    return similarity"
      ],
      "execution_count": 30,
      "outputs": []
    },
    {
      "cell_type": "code",
      "metadata": {
        "colab": {
          "base_uri": "https://localhost:8080/"
        },
        "id": "S5Tnabc4Sw9P",
        "outputId": "bcdb3bbd-acad-4475-fa12-f68012b5585c"
      },
      "source": [
        "bow1 = get_bow_vector(train_title_cuts[100], word2index)\n",
        "bow2 = get_bow_vector(train_title_cuts[130], word2index)\n",
        "cosine_similarity(bow1, bow2)"
      ],
      "execution_count": 31,
      "outputs": [
        {
          "output_type": "execute_result",
          "data": {
            "text/plain": [
              "0.08703882797784893"
            ]
          },
          "metadata": {
            "tags": []
          },
          "execution_count": 31
        }
      ]
    },
    {
      "cell_type": "code",
      "metadata": {
        "colab": {
          "base_uri": "https://localhost:8080/"
        },
        "id": "sXxKQfndSw9P",
        "outputId": "5364ebb8-08c8-4f06-9ba5-3965ce371874"
      },
      "source": [
        "train_title_cuts[100]"
      ],
      "execution_count": 32,
      "outputs": [
        {
          "output_type": "execute_result",
          "data": {
            "text/plain": [
              "[('山東', 'Nc'),\n",
              " ('魯能', 'Nb'),\n",
              " ('有沒有', 'D'),\n",
              " ('可能', 'D'),\n",
              " ('拿到', 'VC'),\n",
              " ('今年', 'Nd'),\n",
              " ('的', 'DE'),\n",
              " ('中', 'A'),\n",
              " ('超', 'A'),\n",
              " ('冠軍', 'Na'),\n",
              " ('？', 'QUESTIONCATEGORY')]"
            ]
          },
          "metadata": {
            "tags": []
          },
          "execution_count": 32
        }
      ]
    },
    {
      "cell_type": "code",
      "metadata": {
        "colab": {
          "base_uri": "https://localhost:8080/"
        },
        "id": "YNWcIPoFSw9Q",
        "outputId": "d9ceeb61-a7b8-4f5c-8a36-b4ced9d90990"
      },
      "source": [
        "train_title_cuts[130]"
      ],
      "execution_count": 33,
      "outputs": [
        {
          "output_type": "execute_result",
          "data": {
            "text/plain": [
              "[('NBA', 'Nb'),\n",
              " ('和', 'Caa'),\n",
              " ('CBA', 'FW'),\n",
              " ('差距', 'Na'),\n",
              " ('在', 'P'),\n",
              " ('哪裡', 'Ncd'),\n",
              " ('？', 'QUESTIONCATEGORY'),\n",
              " ('6', 'Neu'),\n",
              " ('張', 'Nf'),\n",
              " ('圖', 'VF'),\n",
              " ('一目瞭然', 'VH'),\n",
              " ('！', 'EXCLAMATIONCATEGORY')]"
            ]
          },
          "metadata": {
            "tags": []
          },
          "execution_count": 33
        }
      ]
    },
    {
      "cell_type": "markdown",
      "metadata": {
        "id": "sA2PhC8QSw9R"
      },
      "source": [
        "# Group mean vector"
      ]
    },
    {
      "cell_type": "code",
      "metadata": {
        "colab": {
          "base_uri": "https://localhost:8080/"
        },
        "id": "Worj0RgoSw9R",
        "outputId": "049166cf-cc06-4740-b905-af30388d59ef"
      },
      "source": [
        "group_vectors = {news_class: [] for news_class in all_news_class}\n",
        "for index, pairs in sorted(train_title_cuts.items()):\n",
        "    vector = get_bow_vector_with_selection(pairs, word2index)\n",
        "    news_class = train_classes[index]\n",
        "    group_vectors[news_class].append(vector)\n",
        "\n",
        "group_mean_vector = {}\n",
        "for news_class, vectors in group_vectors.items():\n",
        "    group_mean_vector[news_class] = np.mean(vectors, axis=0)\n",
        "group_mean_vector"
      ],
      "execution_count": 34,
      "outputs": [
        {
          "output_type": "execute_result",
          "data": {
            "text/plain": [
              "{'旅遊': array([0., 0., 0., ..., 0., 0., 0.]),\n",
              " '科技': array([0., 0., 0., ..., 0., 0., 0.]),\n",
              " '財經': array([0., 0., 0., ..., 0., 0., 0.]),\n",
              " '農業': array([0., 0., 0., ..., 0., 0., 0.]),\n",
              " '遊戲': array([0.        , 0.        , 0.        , ..., 0.00333333, 0.00333333,\n",
              "        0.00333333]),\n",
              " '體育': array([0.04      , 0.01333333, 0.00333333, ..., 0.        , 0.        ,\n",
              "        0.        ])}"
            ]
          },
          "metadata": {
            "tags": []
          },
          "execution_count": 34
        }
      ]
    },
    {
      "cell_type": "markdown",
      "metadata": {
        "id": "YSYKxfmVSw9S"
      },
      "source": [
        "# Group mean vector: 測試"
      ]
    },
    {
      "cell_type": "code",
      "metadata": {
        "tags": [],
        "id": "gzCwsz7wSw9S"
      },
      "source": [
        "classification = {news_class: [] for news_class in all_news_class}\n",
        "for index, pairs in sorted(test_title_cuts.items()):\n",
        "    vector = get_bow_vector_with_selection(pairs, word2index)\n",
        "    if np.sum(np.square(vector)) == 0:\n",
        "        continue\n",
        "\n",
        "    max_val = -2.0\n",
        "    max_class = None\n",
        "    for news_class, ref_vector in group_mean_vector.items():\n",
        "        val = cosine_similarity(ref_vector, vector)\n",
        "        if val > max_val:\n",
        "            max_class = news_class\n",
        "            max_val = val\n",
        "\n",
        "    classification[max_class].append(index)"
      ],
      "execution_count": 35,
      "outputs": []
    },
    {
      "cell_type": "code",
      "metadata": {
        "tags": [],
        "colab": {
          "base_uri": "https://localhost:8080/"
        },
        "id": "-yX8FKTCSw9T",
        "outputId": "3f384731-ab03-40e5-e61b-fb64bba23b20"
      },
      "source": [
        "from collections import Counter\n",
        "\n",
        "for group, ids in classification.items():\n",
        "    counter = Counter([test_classes[id] for id in ids])\n",
        "    print('predict', group, ': ', counter)"
      ],
      "execution_count": 36,
      "outputs": [
        {
          "output_type": "stream",
          "text": [
            "predict 體育 :  Counter({'體育': 73, '遊戲': 8, '財經': 6, '旅遊': 6, '農業': 6, '科技': 3})\n",
            "predict 財經 :  Counter({'財經': 67, '科技': 18, '體育': 6, '旅遊': 6, '遊戲': 6, '農業': 5})\n",
            "predict 科技 :  Counter({'科技': 62, '財經': 13, '體育': 10, '農業': 6, '遊戲': 6, '旅遊': 2})\n",
            "predict 旅遊 :  Counter({'旅遊': 70, '農業': 11, '財經': 6, '科技': 3, '遊戲': 2})\n",
            "predict 農業 :  Counter({'農業': 70, '旅遊': 9, '科技': 6, '體育': 5, '財經': 4, '遊戲': 3})\n",
            "predict 遊戲 :  Counter({'遊戲': 75, '科技': 7, '旅遊': 5, '體育': 4, '財經': 4, '農業': 1})\n"
          ],
          "name": "stdout"
        }
      ]
    },
    {
      "cell_type": "code",
      "metadata": {
        "id": "nW2ImKAKkCta"
      },
      "source": [
        ""
      ],
      "execution_count": null,
      "outputs": []
    }
  ]
}