{
  "nbformat": 4,
  "nbformat_minor": 0,
  "metadata": {
    "kernelspec": {
      "display_name": "Python 3",
      "language": "python",
      "name": "python3"
    },
    "language_info": {
      "codemirror_mode": {
        "name": "ipython",
        "version": 3
      },
      "file_extension": ".py",
      "mimetype": "text/x-python",
      "name": "python",
      "nbconvert_exporter": "python",
      "pygments_lexer": "ipython3",
      "version": "3.7.4"
    },
    "colab": {
      "name": "Day11- jieba作業.ipynb",
      "provenance": [],
      "toc_visible": true
    }
  },
  "cells": [
    {
      "cell_type": "markdown",
      "metadata": {
        "id": "PdLONqVwjqLp"
      },
      "source": [
        "## 作業目標：運用課程所學，操作字串達到預期輸出"
      ]
    },
    {
      "cell_type": "markdown",
      "metadata": {
        "id": "LQhLrrk8jqLp"
      },
      "source": [
        "* 自行尋找一篇超過100字的文章\n",
        "    * 首先運用結巴斷詞，自行新增字典使得斷詞更為正確\n",
        "    * 使用jieba 完成 PoS Taggin\n",
        "    * 新增的詞也必須賦予詞性"
      ]
    },
    {
      "cell_type": "code",
      "metadata": {
        "colab": {
          "base_uri": "https://localhost:8080/"
        },
        "id": "uSBNWHQTj__G",
        "outputId": "bb381574-5672-439a-e277-f411871bb32f"
      },
      "source": [
        "!7z x D11data.7z"
      ],
      "execution_count": 1,
      "outputs": [
        {
          "output_type": "stream",
          "text": [
            "\n",
            "7-Zip [64] 16.02 : Copyright (c) 1999-2016 Igor Pavlov : 2016-05-21\n",
            "p7zip Version 16.02 (locale=en_US.UTF-8,Utf16=on,HugeFiles=on,64 bits,2 CPUs Intel(R) Xeon(R) CPU @ 2.30GHz (306F0),ASM,AES-NI)\n",
            "\n",
            "Scanning the drive for archives:\n",
            "  0M Scan\b\b\b\b\b\b\b\b\b         \b\b\b\b\b\b\b\b\b1 file, 1202803 bytes (1175 KiB)\n",
            "\n",
            "Extracting archive: D11data.7z\n",
            "--\n",
            "Path = D11data.7z\n",
            "Type = 7z\n",
            "Physical Size = 1202803\n",
            "Headers Size = 318\n",
            "Method = LZMA2:6m\n",
            "Solid = +\n",
            "Blocks = 1\n",
            "\n",
            "  0%\b\b\b\b    \b\b\b\bEverything is Ok\n",
            "\n",
            "Files: 6\n",
            "Size:       4239482\n",
            "Compressed: 1202803\n"
          ],
          "name": "stdout"
        }
      ]
    },
    {
      "cell_type": "markdown",
      "metadata": {
        "id": "NyPaCHfTjqLp"
      },
      "source": [
        "---"
      ]
    },
    {
      "cell_type": "code",
      "metadata": {
        "id": "EWQtOM-kjqLq"
      },
      "source": [
        "import jieba\n",
        "import jieba.posseg as pseg\n",
        "jieba.set_dictionary('./dict.txt')"
      ],
      "execution_count": 2,
      "outputs": []
    },
    {
      "cell_type": "markdown",
      "metadata": {
        "id": "SiaIu-7QjqLq"
      },
      "source": [
        "---"
      ]
    },
    {
      "cell_type": "code",
      "metadata": {
        "id": "3FE3sRm4jqLq"
      },
      "source": [
        "sentence = '''這是敘述近年來，AI 應用已無所不在，不論在新創或是傳產領域，都可能透過機器學習解決過去難以解決的問題。但目前台灣企業在 AI 導入的腳步仍然緩慢，除了人才嚴重短缺，教育資源無法即時跟上產業變異也是原因之一。因此，我們發起了「 機器學習 百日馬拉松 」教練陪跑計劃，翻轉傳統上課模式，以自主練習為主，幫助你獲得最大學習成效，搶先一步進入 AI 人工智能領域。'''"
      ],
      "execution_count": 3,
      "outputs": []
    },
    {
      "cell_type": "code",
      "metadata": {
        "colab": {
          "base_uri": "https://localhost:8080/"
        },
        "id": "w4x6oA-tjqLq",
        "outputId": "18bd6228-66a7-49f3-af50-97c1a99b876c"
      },
      "source": [
        "print(sentence)"
      ],
      "execution_count": 4,
      "outputs": [
        {
          "output_type": "stream",
          "text": [
            "這是敘述近年來，AI 應用已無所不在，不論在新創或是傳產領域，都可能透過機器學習解決過去難以解決的問題。但目前台灣企業在 AI 導入的腳步仍然緩慢，除了人才嚴重短缺，教育資源無法即時跟上產業變異也是原因之一。因此，我們發起了「 機器學習 百日馬拉松 」教練陪跑計劃，翻轉傳統上課模式，以自主練習為主，幫助你獲得最大學習成效，搶先一步進入 AI 人工智能領域。\n"
          ],
          "name": "stdout"
        }
      ]
    },
    {
      "cell_type": "code",
      "metadata": {
        "colab": {
          "base_uri": "https://localhost:8080/"
        },
        "id": "RVIvnpMWjqLr",
        "outputId": "222681e4-775f-436a-b48c-4a2d71a7d4f3"
      },
      "source": [
        "print(\"output 精準模式： {}\".format('|'.join(jieba.cut(sentence, cut_all = False, HMM = False))))"
      ],
      "execution_count": 8,
      "outputs": [
        {
          "output_type": "stream",
          "text": [
            "output 精準模式： 這是|敘述|近年|來|，|AI| |應用|已|無所不在|，|不論|在|新創|或是|傳產|領域|，|都|可能|透過|機器|學習|解決|過去|難以|解決|的|問題|。|但|目前|台灣|企業|在| |AI| |導入|的|腳步|仍然|緩慢|，|除了|人才|嚴重|短缺|，|教育|資源|無法|即時|跟上|產業|變異|也|是|原因|之|一|。|因此|，|我們|發起|了|「| |機器|學習| |百日|馬拉松| |」|教練|陪跑|計劃|，|翻轉|傳統|上課|模式|，|以|自主|練習|為主|，|幫助|你|獲得|最|大|學習|成效|，|搶先|一步|進入| |AI| |人工|智能|領域|。\n"
          ],
          "name": "stdout"
        }
      ]
    },
    {
      "cell_type": "markdown",
      "metadata": {
        "id": "-fZbgHUwjqLs"
      },
      "source": [
        "## 新增字典"
      ]
    },
    {
      "cell_type": "code",
      "metadata": {
        "id": "_kqBHoFRjqLs"
      },
      "source": [
        "new_words = '教練陪跑計劃 2 n\\n百日馬拉松 2 n\\n機器學習 2 n\\n人工智能 2 n\\n翻轉 2 v'\n",
        "with open('adding.txt', 'w') as file:\n",
        "    file.write(new_words)\n"
      ],
      "execution_count": 9,
      "outputs": []
    },
    {
      "cell_type": "code",
      "metadata": {
        "colab": {
          "base_uri": "https://localhost:8080/"
        },
        "id": "RA4N7nc1jqLs",
        "outputId": "781837d0-22b7-4db4-e0a6-b22dfc566373"
      },
      "source": [
        "print(\"output 精確模式: {}\".format('|'.join(jieba.cut(sentence, cut_all=False, HMM=False))))"
      ],
      "execution_count": 10,
      "outputs": [
        {
          "output_type": "stream",
          "text": [
            "output 精確模式: 這是|敘述|近年|來|，|AI| |應用|已|無所不在|，|不論|在|新創|或是|傳產|領域|，|都|可能|透過|機器|學習|解決|過去|難以|解決|的|問題|。|但|目前|台灣|企業|在| |AI| |導入|的|腳步|仍然|緩慢|，|除了|人才|嚴重|短缺|，|教育|資源|無法|即時|跟上|產業|變異|也|是|原因|之|一|。|因此|，|我們|發起|了|「| |機器|學習| |百日|馬拉松| |」|教練|陪跑|計劃|，|翻轉|傳統|上課|模式|，|以|自主|練習|為主|，|幫助|你|獲得|最|大|學習|成效|，|搶先|一步|進入| |AI| |人工|智能|領域|。\n"
          ],
          "name": "stdout"
        }
      ]
    },
    {
      "cell_type": "markdown",
      "metadata": {
        "id": "f7i-kYBpjqLs"
      },
      "source": [
        "## Taggin"
      ]
    },
    {
      "cell_type": "code",
      "metadata": {
        "colab": {
          "base_uri": "https://localhost:8080/"
        },
        "id": "UcfqIw6ljqLs",
        "outputId": "b2c2d719-9fad-4070-a09e-16f1a4f9c674"
      },
      "source": [
        "words = pseg.cut(sentence,)\n",
        "for word, flag in words:\n",
        "    print(word, flag)"
      ],
      "execution_count": 11,
      "outputs": [
        {
          "output_type": "stream",
          "text": [
            "這是 x\n",
            "敘述 x\n",
            "近年 t\n",
            "來 zg\n",
            "， x\n",
            "AI eng\n",
            "  x\n",
            "應用 x\n",
            "已 d\n",
            "無所不在 x\n",
            "， x\n",
            "不論 x\n",
            "在 p\n",
            "新創 x\n",
            "或是 c\n",
            "傳產 x\n",
            "領域 x\n",
            "， x\n",
            "都 d\n",
            "可能 v\n",
            "透過 x\n",
            "機器 x\n",
            "學習 x\n",
            "解決 x\n",
            "過去 x\n",
            "難以 x\n",
            "解決 x\n",
            "的 uj\n",
            "問題 x\n",
            "。 x\n",
            "但 c\n",
            "目前 t\n",
            "台灣 x\n",
            "企業 x\n",
            "在 p\n",
            "  x\n",
            "AI eng\n",
            "  x\n",
            "導入 x\n",
            "的 uj\n",
            "腳步 x\n",
            "仍然 d\n",
            "緩慢 x\n",
            "， x\n",
            "除了 p\n",
            "人才 n\n",
            "嚴重 x\n",
            "短缺 a\n",
            "， x\n",
            "教育 vn\n",
            "資源 x\n",
            "無法 x\n",
            "即時 x\n",
            "跟上 f\n",
            "產業 x\n",
            "變異 x\n",
            "也 d\n",
            "是 v\n",
            "原因 n\n",
            "之一 r\n",
            "。 x\n",
            "因此 c\n",
            "， x\n",
            "我們 x\n",
            "發起 x\n",
            "了 ul\n",
            "「 x\n",
            "  x\n",
            "機器 x\n",
            "學習 x\n",
            "  x\n",
            "百日 m\n",
            "馬拉松 x\n",
            "  x\n",
            "」 x\n",
            "教練 x\n",
            "陪跑 x\n",
            "計劃 x\n",
            "， x\n",
            "翻轉 x\n",
            "傳統 x\n",
            "上課 x\n",
            "模式 n\n",
            "， x\n",
            "以 p\n",
            "自主 v\n",
            "練習 x\n",
            "為主 x\n",
            "， x\n",
            "幫助 x\n",
            "你 r\n",
            "獲得 x\n",
            "最 d\n",
            "大 a\n",
            "學習 x\n",
            "成效 a\n",
            "， x\n",
            "搶先 x\n",
            "一步 m\n",
            "進入 x\n",
            "  x\n",
            "AI eng\n",
            "  x\n",
            "人工 n\n",
            "智能 n\n",
            "領域 x\n",
            "。 x\n"
          ],
          "name": "stdout"
        }
      ]
    },
    {
      "cell_type": "code",
      "metadata": {
        "id": "MfdhXwvAjqLt"
      },
      "source": [
        ""
      ],
      "execution_count": null,
      "outputs": []
    }
  ]
}