{
  "nbformat": 4,
  "nbformat_minor": 0,
  "metadata": {
    "language_info": {
      "codemirror_mode": {
        "name": "ipython",
        "version": 3
      },
      "file_extension": ".py",
      "mimetype": "text/x-python",
      "name": "python",
      "nbconvert_exporter": "python",
      "pygments_lexer": "ipython3",
      "version": "3.6.5-final"
    },
    "orig_nbformat": 2,
    "kernelspec": {
      "name": "python36564bitc3c936632e8a4243a25c20fc16c690eb",
      "display_name": "Python 3.6.5 64-bit"
    },
    "colab": {
      "name": "基礎篇_hw.ipynb",
      "provenance": [],
      "toc_visible": true
    },
    "widgets": {
      "application/vnd.jupyter.widget-state+json": {
        "5102e231c9f64cc6860ce14645fb829c": {
          "model_module": "@jupyter-widgets/controls",
          "model_name": "LabelModel",
          "state": {
            "_view_name": "LabelView",
            "style": "IPY_MODEL_a0819cc5e1cd4abeb4c93963ce3d11d0",
            "_dom_classes": [],
            "description": "",
            "_model_name": "LabelModel",
            "placeholder": "​",
            "_view_module": "@jupyter-widgets/controls",
            "_model_module_version": "1.5.0",
            "value": " ",
            "_view_count": null,
            "_view_module_version": "1.5.0",
            "description_tooltip": null,
            "_model_module": "@jupyter-widgets/controls",
            "layout": "IPY_MODEL_63115e2b4ab0455faddb69d7690d0381"
          }
        },
        "a0819cc5e1cd4abeb4c93963ce3d11d0": {
          "model_module": "@jupyter-widgets/controls",
          "model_name": "DescriptionStyleModel",
          "state": {
            "_view_name": "StyleView",
            "_model_name": "DescriptionStyleModel",
            "description_width": "",
            "_view_module": "@jupyter-widgets/base",
            "_model_module_version": "1.5.0",
            "_view_count": null,
            "_view_module_version": "1.2.0",
            "_model_module": "@jupyter-widgets/controls"
          }
        },
        "63115e2b4ab0455faddb69d7690d0381": {
          "model_module": "@jupyter-widgets/base",
          "model_name": "LayoutModel",
          "state": {
            "_view_name": "LayoutView",
            "grid_template_rows": null,
            "right": null,
            "justify_content": null,
            "_view_module": "@jupyter-widgets/base",
            "overflow": null,
            "_model_module_version": "1.2.0",
            "_view_count": null,
            "flex_flow": null,
            "width": null,
            "min_width": null,
            "border": null,
            "align_items": null,
            "bottom": null,
            "_model_module": "@jupyter-widgets/base",
            "top": null,
            "grid_column": null,
            "overflow_y": null,
            "overflow_x": null,
            "grid_auto_flow": null,
            "grid_area": null,
            "grid_template_columns": null,
            "flex": null,
            "_model_name": "LayoutModel",
            "justify_items": null,
            "grid_row": null,
            "max_height": null,
            "align_content": null,
            "visibility": null,
            "align_self": null,
            "height": null,
            "min_height": null,
            "padding": null,
            "grid_auto_rows": null,
            "grid_gap": null,
            "max_width": null,
            "order": null,
            "_view_module_version": "1.2.0",
            "grid_template_areas": null,
            "object_position": null,
            "object_fit": null,
            "grid_auto_columns": null,
            "margin": null,
            "display": null,
            "left": null
          }
        },
        "e2c8afd925544dbb8ca6793a1af699e2": {
          "model_module": "@jupyter-widgets/controls",
          "model_name": "TextareaModel",
          "state": {
            "_view_name": "TextareaView",
            "style": "IPY_MODEL_3ea29d94a7d04df6ad3d00ff64052416",
            "rows": null,
            "_dom_classes": [],
            "description": "",
            "_model_name": "TextareaModel",
            "placeholder": "​",
            "_view_module": "@jupyter-widgets/controls",
            "_model_module_version": "1.5.0",
            "value": "誒",
            "_view_count": null,
            "disabled": false,
            "_view_module_version": "1.5.0",
            "continuous_update": true,
            "description_tooltip": null,
            "_model_module": "@jupyter-widgets/controls",
            "layout": "IPY_MODEL_7695f8d4ccf8495393f2ec14c2627335"
          }
        },
        "3ea29d94a7d04df6ad3d00ff64052416": {
          "model_module": "@jupyter-widgets/controls",
          "model_name": "DescriptionStyleModel",
          "state": {
            "_view_name": "StyleView",
            "_model_name": "DescriptionStyleModel",
            "description_width": "",
            "_view_module": "@jupyter-widgets/base",
            "_model_module_version": "1.5.0",
            "_view_count": null,
            "_view_module_version": "1.2.0",
            "_model_module": "@jupyter-widgets/controls"
          }
        },
        "7695f8d4ccf8495393f2ec14c2627335": {
          "model_module": "@jupyter-widgets/base",
          "model_name": "LayoutModel",
          "state": {
            "_view_name": "LayoutView",
            "grid_template_rows": null,
            "right": null,
            "justify_content": null,
            "_view_module": "@jupyter-widgets/base",
            "overflow": null,
            "_model_module_version": "1.2.0",
            "_view_count": null,
            "flex_flow": null,
            "width": null,
            "min_width": null,
            "border": null,
            "align_items": null,
            "bottom": null,
            "_model_module": "@jupyter-widgets/base",
            "top": null,
            "grid_column": null,
            "overflow_y": null,
            "overflow_x": null,
            "grid_auto_flow": null,
            "grid_area": null,
            "grid_template_columns": null,
            "flex": null,
            "_model_name": "LayoutModel",
            "justify_items": null,
            "grid_row": null,
            "max_height": null,
            "align_content": null,
            "visibility": null,
            "align_self": null,
            "height": null,
            "min_height": null,
            "padding": null,
            "grid_auto_rows": null,
            "grid_gap": null,
            "max_width": null,
            "order": null,
            "_view_module_version": "1.2.0",
            "grid_template_areas": null,
            "object_position": null,
            "object_fit": null,
            "grid_auto_columns": null,
            "margin": null,
            "display": null,
            "left": null
          }
        }
      }
    }
  },
  "cells": [
    {
      "cell_type": "markdown",
      "metadata": {
        "id": "dpYyaBgoJLR4"
      },
      "source": [
        "# 自製智能中文選字系統  (1)"
      ]
    },
    {
      "cell_type": "code",
      "metadata": {
        "tags": [],
        "id": "xuRTq3ptJLR6",
        "colab": {
          "base_uri": "https://localhost:8080/",
          "height": 198
        },
        "outputId": "24d51c8b-86c5-492a-a979-a45861e7de80"
      },
      "source": [
        "segments = []\n",
        "with open('./wiki_zh_small.txt') as fr:\n",
        "    for line in fr.readlines():\n",
        "        segments += prepocess_line(line)"
      ],
      "execution_count": 1,
      "outputs": [
        {
          "output_type": "error",
          "ename": "NameError",
          "evalue": "ignored",
          "traceback": [
            "\u001b[0;31m---------------------------------------------------------------------------\u001b[0m",
            "\u001b[0;31mNameError\u001b[0m                                 Traceback (most recent call last)",
            "\u001b[0;32m<ipython-input-1-42442f449c7a>\u001b[0m in \u001b[0;36m<module>\u001b[0;34m()\u001b[0m\n\u001b[1;32m      2\u001b[0m \u001b[0;32mwith\u001b[0m \u001b[0mopen\u001b[0m\u001b[0;34m(\u001b[0m\u001b[0;34m'./wiki_zh_small.txt'\u001b[0m\u001b[0;34m)\u001b[0m \u001b[0;32mas\u001b[0m \u001b[0mfr\u001b[0m\u001b[0;34m:\u001b[0m\u001b[0;34m\u001b[0m\u001b[0;34m\u001b[0m\u001b[0m\n\u001b[1;32m      3\u001b[0m     \u001b[0;32mfor\u001b[0m \u001b[0mline\u001b[0m \u001b[0;32min\u001b[0m \u001b[0mfr\u001b[0m\u001b[0;34m.\u001b[0m\u001b[0mreadlines\u001b[0m\u001b[0;34m(\u001b[0m\u001b[0;34m)\u001b[0m\u001b[0;34m:\u001b[0m\u001b[0;34m\u001b[0m\u001b[0;34m\u001b[0m\u001b[0m\n\u001b[0;32m----> 4\u001b[0;31m         \u001b[0msegments\u001b[0m \u001b[0;34m+=\u001b[0m \u001b[0mprepocess_line\u001b[0m\u001b[0;34m(\u001b[0m\u001b[0mline\u001b[0m\u001b[0;34m)\u001b[0m\u001b[0;34m\u001b[0m\u001b[0;34m\u001b[0m\u001b[0m\n\u001b[0m",
            "\u001b[0;31mNameError\u001b[0m: name 'prepocess_line' is not defined"
          ]
        }
      ]
    },
    {
      "cell_type": "code",
      "metadata": {
        "id": "6dC4iuglJLSB",
        "colab": {
          "base_uri": "https://localhost:8080/",
          "height": 37
        },
        "outputId": "59fbc438-be24-4997-b0f7-2e1477d63881"
      },
      "source": [
        "import sys\n",
        "sys.version"
      ],
      "execution_count": 2,
      "outputs": [
        {
          "output_type": "execute_result",
          "data": {
            "application/vnd.google.colaboratory.intrinsic+json": {
              "type": "string"
            },
            "text/plain": [
              "'3.6.9 (default, Oct  8 2020, 12:12:24) \\n[GCC 8.4.0]'"
            ]
          },
          "metadata": {
            "tags": []
          },
          "execution_count": 2
        }
      ]
    },
    {
      "cell_type": "markdown",
      "metadata": {
        "id": "9fQnVHVmJLSH"
      },
      "source": [
        "## 資料前處理"
      ]
    },
    {
      "cell_type": "markdown",
      "metadata": {
        "id": "aQIl0BP5JLSH"
      },
      "source": [
        "確認版本為 python3"
      ]
    },
    {
      "cell_type": "code",
      "metadata": {
        "id": "8wG3IWB2JLSI"
      },
      "source": [
        "import re"
      ],
      "execution_count": 4,
      "outputs": []
    },
    {
      "cell_type": "code",
      "metadata": {
        "id": "xZXcaXMRJLSL"
      },
      "source": [
        "def prepocess_line(line):\n",
        "    # 僅僅挑出中文字元，並且斷開不連續的中文字\n",
        "    # YOUR CODE HERE\n",
        "    chinese_pattern = r'[\\u4E00-\\u9FFF]+'\n",
        "    segments = re.findall(chinese_pattern, line, flags = re.UNICODE)\n",
        "    \n",
        "    # END YOUR CODE\n",
        "    return segments"
      ],
      "execution_count": 5,
      "outputs": []
    },
    {
      "cell_type": "code",
      "metadata": {
        "id": "1V1YPovTJLSO",
        "colab": {
          "base_uri": "https://localhost:8080/"
        },
        "outputId": "25b677c0-1d78-404b-887b-906d2df8b157"
      },
      "source": [
        "prepocess_line('“英語”一詞源於遷居英格蘭的日耳曼部落盎格魯（），而“盎格魯”得名於')  \n",
        "# 應該為：['英語', '一詞源於遷居英格蘭的日耳曼部落盎格魯', '而', '盎格魯', '得名於']"
      ],
      "execution_count": 6,
      "outputs": [
        {
          "output_type": "execute_result",
          "data": {
            "text/plain": [
              "['英語', '一詞源於遷居英格蘭的日耳曼部落盎格魯', '而', '盎格魯', '得名於']"
            ]
          },
          "metadata": {
            "tags": []
          },
          "execution_count": 6
        }
      ]
    },
    {
      "cell_type": "code",
      "metadata": {
        "id": "el_1rbYSv_dR"
      },
      "source": [
        "segments = []\n",
        "with open('./wiki_zh_small.txt') as fr:\n",
        "    for line in fr.readlines():\n",
        "        segments += prepocess_line(line)"
      ],
      "execution_count": 7,
      "outputs": []
    },
    {
      "cell_type": "code",
      "metadata": {
        "colab": {
          "base_uri": "https://localhost:8080/"
        },
        "id": "_mb99gCcwA2K",
        "outputId": "64de1b20-b0b9-4ced-b007-fad12eb44213"
      },
      "source": [
        "segments[:5]"
      ],
      "execution_count": 9,
      "outputs": [
        {
          "output_type": "execute_result",
          "data": {
            "text/plain": [
              "['英語', '英語英語', '又稱爲英文', '是一種西日耳曼語言', '誕生於中世紀早期的英格蘭']"
            ]
          },
          "metadata": {
            "tags": []
          },
          "execution_count": 9
        }
      ]
    },
    {
      "cell_type": "markdown",
      "metadata": {
        "id": "N-E0XU7lJLSQ"
      },
      "source": [
        "## Ngram\n",
        "\n",
        "一開始要先計算字詞出現的次數"
      ]
    },
    {
      "cell_type": "code",
      "metadata": {
        "id": "U0GNtfVnJLSR"
      },
      "source": [
        "from collections import Counter\n",
        "\n",
        "class Counters:\n",
        "    def __init__(self, n):\n",
        "        self.n = n\n",
        "        self.counters = [Counter() for _ in range(n + 1)]  # 分別代表計算0、1、...個字的出現次數\n",
        "\n",
        "    def fit(self, segments):\n",
        "        # 因為 self.counters 分別代表計算0、1、...個字的出現次數\n",
        "        # 請在此實作利用 segments 以及函式 _skip 來統計次數\n",
        "        # YOUR CODE HERE\n",
        "        for i in range(1, 1 + self.n):\n",
        "          for segment in segments:\n",
        "            self.counters[i] += Counter(self._skip(segment, i))\n",
        "        base_count = sum(dict(self.counters[1]).values())\n",
        "        self.counters[0] = Counter({\"\":base_count})\n",
        "        # END YOUR CODE\n",
        "\n",
        "    def __getitem__(self, k):\n",
        "        return self.counters[k]\n",
        "\n",
        "    def _skip(self, segment, n):\n",
        "        assert n > 0\n",
        "        if len(segment) < n:\n",
        "            return []\n",
        "        shift = n - 1\n",
        "        for i in range(len(segment) - shift):\n",
        "            yield segment[i:i+shift+1]"
      ],
      "execution_count": 15,
      "outputs": []
    },
    {
      "cell_type": "code",
      "metadata": {
        "id": "F4-d0YiMJLSU"
      },
      "source": [
        "counters = Counters(n=3)\n",
        "counters.fit(segments)"
      ],
      "execution_count": 16,
      "outputs": []
    },
    {
      "cell_type": "code",
      "metadata": {
        "id": "UpCDHjXHJLSW",
        "colab": {
          "base_uri": "https://localhost:8080/"
        },
        "outputId": "4cae132b-af82-45d5-e842-c4a98d5a41c5"
      },
      "source": [
        "counters[0]\n",
        "# 應該為： Counter({'': 371373})"
      ],
      "execution_count": 17,
      "outputs": [
        {
          "output_type": "execute_result",
          "data": {
            "text/plain": [
              "Counter({'': 371373})"
            ]
          },
          "metadata": {
            "tags": []
          },
          "execution_count": 17
        }
      ]
    },
    {
      "cell_type": "code",
      "metadata": {
        "id": "x2gOKTEyJLSY"
      },
      "source": [
        "class Ngram:\n",
        "    def __init__(self, n, counters):\n",
        "        assert n <= counters.n\n",
        "        self.n = n\n",
        "        self.major_counter = counters[n]\n",
        "        self.minor_counter = counters[n-1]\n",
        "\n",
        "    def predict_proba(self, prefix='', top_k=5):\n",
        "        assert len(prefix) >= self.n - 1\n",
        "        # 使用 Ngram 的公式計算出下一個字出現的機率\n",
        "        # 輸出為機率與字的tuple列表，詳見下方輸出範例\n",
        "        # YOUR CODE HERE\n",
        "        reference = prefix[-(self.n -1):] if self.n > 1 else ''\n",
        "        count_reference = self.minor_counter[reference]\n",
        "        probs = []\n",
        "        for key, count in dict(self.major_counter).items():\n",
        "          if key.startswith(reference):\n",
        "            prob = count / count_reference\n",
        "            probs.append((prob, key[-1]))\n",
        "        sorted_probs = sorted(probs, reverse = True)\n",
        "        \n",
        "        # END YOUR CODE\n",
        "        return sorted_probs[:top_k] if top_k > 0 else sorted_probs\n",
        "\n",
        "    def get_proba_dict(self, prefix=''):\n",
        "        return {word: prob for prob, word in self.predict_proba(prefix, top_k=-1)}\n"
      ],
      "execution_count": 18,
      "outputs": []
    },
    {
      "cell_type": "code",
      "metadata": {
        "id": "mErL4AtjJLSc"
      },
      "source": [
        "unigram = Ngram(1, counters)"
      ],
      "execution_count": 19,
      "outputs": []
    },
    {
      "cell_type": "code",
      "metadata": {
        "tags": [],
        "id": "M8BZcC7lJLSe",
        "colab": {
          "base_uri": "https://localhost:8080/"
        },
        "outputId": "f45d7d6d-9050-4acf-829c-674b4943cf5b"
      },
      "source": [
        "unigram.predict_proba('我思')\n",
        "# 應該為：[(0.035732269174118744, '的'),\n",
        "#         (0.012927703414087723, '國'),\n",
        "#         (0.010620050461395955, '中'),\n",
        "#         (0.009984570768472667, '在'),\n",
        "#         (0.009852627950874188, '一')]"
      ],
      "execution_count": 20,
      "outputs": [
        {
          "output_type": "execute_result",
          "data": {
            "text/plain": [
              "[(0.035732269174118744, '的'),\n",
              " (0.012927703414087723, '國'),\n",
              " (0.010620050461395955, '中'),\n",
              " (0.009984570768472667, '在'),\n",
              " (0.009852627950874188, '一')]"
            ]
          },
          "metadata": {
            "tags": []
          },
          "execution_count": 20
        }
      ]
    },
    {
      "cell_type": "code",
      "metadata": {
        "id": "vYRqughPJLSh"
      },
      "source": [
        "bigram = Ngram(2, counters)\n",
        "trigram = Ngram(3, counters)"
      ],
      "execution_count": 21,
      "outputs": []
    },
    {
      "cell_type": "markdown",
      "metadata": {
        "id": "lG6TV-8iJLSj"
      },
      "source": [
        "## 使用Ngram來建立第一版選字系統"
      ]
    },
    {
      "cell_type": "code",
      "metadata": {
        "id": "Ak-zlXIGJLSk"
      },
      "source": [
        "class ChineseWordRecommenderV1:\n",
        "    def __init__(self, unigram, bigram, trigram):\n",
        "        self.unigram = unigram\n",
        "        self.bigram = bigram\n",
        "        self.trigram = trigram\n",
        "    \n",
        "    def predict_proba(self, prefix='', top_k=5):\n",
        "        # 使用Ngram來建立選字系統\n",
        "        # YOUR CODE HERE\n",
        "        if len(prefix) > 1:\n",
        "          return self.trigram.predict_proba(prefix, top_k)\n",
        "        elif len(prefix) > 0:\n",
        "          return self.bigram.predict_proba(prefix, top_k)\n",
        "        else:\n",
        "          return self.unigram.predict_proba(prefix, top_k)\n",
        "        \n",
        "        # END YOUR CODE"
      ],
      "execution_count": 22,
      "outputs": []
    },
    {
      "cell_type": "code",
      "metadata": {
        "id": "0LS4xO4XJLSl"
      },
      "source": [
        "model = ChineseWordRecommenderV1(unigram, bigram, trigram)"
      ],
      "execution_count": 23,
      "outputs": []
    },
    {
      "cell_type": "code",
      "metadata": {
        "tags": [],
        "id": "j8pziwHnJLSn",
        "colab": {
          "base_uri": "https://localhost:8080/"
        },
        "outputId": "35f248d6-2713-4a51-d862-9aa847265edb"
      },
      "source": [
        "probs = model.predict_proba('我思', top_k=10)\n",
        "probs"
      ],
      "execution_count": 24,
      "outputs": [
        {
          "output_type": "execute_result",
          "data": {
            "text/plain": [
              "[(0.75, '故'), (0.25, '維')]"
            ]
          },
          "metadata": {
            "tags": []
          },
          "execution_count": 24
        }
      ]
    },
    {
      "cell_type": "markdown",
      "metadata": {
        "id": "sM7_WCTmJLSq"
      },
      "source": [
        "## Demo"
      ]
    },
    {
      "cell_type": "code",
      "metadata": {
        "tags": [],
        "id": "8zOHOeYLJLSq",
        "colab": {
          "base_uri": "https://localhost:8080/"
        },
        "outputId": "a89356c8-b0f7-4b3a-ce4c-ee9d93ee7a43"
      },
      "source": [
        "!pip install -U pip\n",
        "!pip install -q ipywidgets"
      ],
      "execution_count": 25,
      "outputs": [
        {
          "output_type": "stream",
          "text": [
            "Collecting pip\n",
            "\u001b[?25l  Downloading https://files.pythonhosted.org/packages/54/eb/4a3642e971f404d69d4f6fa3885559d67562801b99d7592487f1ecc4e017/pip-20.3.3-py2.py3-none-any.whl (1.5MB)\n",
            "\u001b[K     |████████████████████████████████| 1.5MB 5.4MB/s \n",
            "\u001b[?25hInstalling collected packages: pip\n",
            "  Found existing installation: pip 19.3.1\n",
            "    Uninstalling pip-19.3.1:\n",
            "      Successfully uninstalled pip-19.3.1\n",
            "Successfully installed pip-20.3.3\n"
          ],
          "name": "stdout"
        }
      ]
    },
    {
      "cell_type": "code",
      "metadata": {
        "id": "Qsupw9BoJLSs",
        "colab": {
          "base_uri": "https://localhost:8080/",
          "height": 67,
          "referenced_widgets": [
            "5102e231c9f64cc6860ce14645fb829c",
            "a0819cc5e1cd4abeb4c93963ce3d11d0",
            "63115e2b4ab0455faddb69d7690d0381",
            "e2c8afd925544dbb8ca6793a1af699e2",
            "3ea29d94a7d04df6ad3d00ff64052416",
            "7695f8d4ccf8495393f2ec14c2627335"
          ]
        },
        "outputId": "30509b04-7f3a-44ac-d5ae-9842cf12f788"
      },
      "source": [
        "import ipywidgets as widgets\n",
        "\n",
        "text = widgets.Textarea()\n",
        "label = widgets.Label()\n",
        "display(label, text)\n",
        "\n",
        "def func(change):\n",
        "    probs = model.predict_proba(change.new, top_k=10)\n",
        "    label.value = ' ' + '\\t'.join([word for prob, word in probs])\n",
        "\n",
        "text.observe(func, names='value')"
      ],
      "execution_count": 26,
      "outputs": [
        {
          "output_type": "display_data",
          "data": {
            "application/vnd.jupyter.widget-view+json": {
              "model_id": "5102e231c9f64cc6860ce14645fb829c",
              "version_minor": 0,
              "version_major": 2
            },
            "text/plain": [
              "Label(value='')"
            ]
          },
          "metadata": {
            "tags": []
          }
        },
        {
          "output_type": "display_data",
          "data": {
            "application/vnd.jupyter.widget-view+json": {
              "model_id": "e2c8afd925544dbb8ca6793a1af699e2",
              "version_minor": 0,
              "version_major": 2
            },
            "text/plain": [
              "Textarea(value='')"
            ]
          },
          "metadata": {
            "tags": []
          }
        }
      ]
    },
    {
      "cell_type": "code",
      "metadata": {
        "id": "pLrjn44rJLSu"
      },
      "source": [
        ""
      ],
      "execution_count": null,
      "outputs": []
    },
    {
      "cell_type": "code",
      "metadata": {
        "id": "2ezmZB9cJLSw"
      },
      "source": [
        ""
      ],
      "execution_count": null,
      "outputs": []
    }
  ]
}