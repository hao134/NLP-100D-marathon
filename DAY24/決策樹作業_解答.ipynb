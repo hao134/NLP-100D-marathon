{
 "cells": [
  {
   "cell_type": "markdown",
   "metadata": {},
   "source": [
    "### 作業目的:了解決策樹的節點分支依據\n",
    "本次作業可參考簡報中的延伸閱讀[訊息增益](https://medium.com/jameslearningnote/%E8%B3%87%E6%96%99%E5%88%86%E6%9E%90-%E6%A9%9F%E5%99%A8%E5%AD%B8%E7%BF%92-%E7%AC%AC3-5%E8%AC%9B-%E6%B1%BA%E7%AD%96%E6%A8%B9-decision-tree-%E4%BB%A5%E5%8F%8A%E9%9A%A8%E6%A9%9F%E6%A3%AE%E6%9E%97-random-forest-%E4%BB%8B%E7%B4%B9-7079b0ddfbda)部分"
   ]
  },
  {
   "cell_type": "markdown",
   "metadata": {},
   "source": [
    "#### Question:\n",
    "若你是決策樹，下列兩種分類狀況(a,b)，你會選擇哪種做分類？為什麼？\n",
    "\n",
    "<img src='hw_1.png' style='width:500px'>"
   ]
  },
  {
   "cell_type": "markdown",
   "metadata": {},
   "source": [
    "### Answer:\n",
    "\n",
    "透過Gini做計算的話，選擇(a)較為合理\n",
    "以下以Gini作為計算訊息增益:\n",
    "\n",
    "* Gini:\n",
    "\n",
    "A:\n",
    "\n",
    "$$\n",
    "\\begin{aligned}\n",
    "&I_G(D_p) = 1 - (0.5^2 + 0.5^2) = 0.5 \\\\\n",
    "&I_G(D_{left}) = 1 - ((\\frac{3}{4})^2 + (\\frac{1}{4})^2) = 0.375 \\\\\n",
    "&I_G(D_{right}) = 1 - ((\\frac{1}{4})^2 + (\\frac{3}{4})^2) = 0.375 \\\\\n",
    "&I_G = 0.5 - \\frac{2}{4}*0.375 - \\frac{2}{4}*0.375 = 0.125\n",
    "\\end{aligned}\n",
    "$$\n",
    "\n",
    "B:\n",
    "\n",
    "$$\n",
    "\\begin{aligned}\n",
    "&I_G(D_p) = 1 - (0.5^2 + 0.5^2) = 0.5 \\\\\n",
    "&I_G(D_{left}) = 1 - ((\\frac{3}{7})^2 + (\\frac{4}{7})^2) = 0.49 \\\\\n",
    "&I_G(D_{right}) = 1 - ((\\frac{5}{5})^2 + (\\frac{0}{5})^2) = 0 \\\\\n",
    "&I_G = 0.5 - \\frac{7}{8}*0.49 - \\frac{5}{8}*0 = 0.07125\n",
    "\\end{aligned}\n",
    "$$\n",
    "\n",
    "可以發現(a)的訊息增益較高，所以選擇(a)較合理\n",
    "(有興趣的同學可以試著計算Entropy的訊息增益)"
   ]
  },
  {
   "cell_type": "markdown",
   "metadata": {},
   "source": [
    "### 閱讀作業\n",
    "\n",
    "決策樹根據計算分割準則的不同(ex: Entropy, Gini, Gain ratio)，可分為ID3, C4.5, CART樹的算法，請同學閱讀下列文章，來更加了解決策樹的算法。\n",
    "\n",
    "[決策樹(ID3, C4.5, CART)](https://blog.csdn.net/u010089444/article/details/53241218)"
   ]
  }
 ],
 "metadata": {
  "kernelspec": {
   "display_name": "cupoy_env",
   "language": "python",
   "name": "cupoy_env"
  },
  "language_info": {
   "codemirror_mode": {
    "name": "ipython",
    "version": 3
   },
   "file_extension": ".py",
   "mimetype": "text/x-python",
   "name": "python",
   "nbconvert_exporter": "python",
   "pygments_lexer": "ipython3",
   "version": "3.7.3"
  }
 },
 "nbformat": 4,
 "nbformat_minor": 2
}
