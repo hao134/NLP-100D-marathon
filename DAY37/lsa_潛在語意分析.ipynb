{
  "nbformat": 4,
  "nbformat_minor": 0,
  "metadata": {
    "colab": {
      "name": "lsa_潛在語意分析.ipynb",
      "provenance": []
    },
    "kernelspec": {
      "name": "python3",
      "display_name": "Python 3"
    }
  },
  "cells": [
    {
      "cell_type": "code",
      "metadata": {
        "id": "bHcyV3OSaHhU"
      },
      "source": [
        "from __future__ import print_function, division\n",
        "from builtins import range\n",
        "\n",
        "\n",
        "\n",
        "import nltk\n",
        "import numpy as np\n",
        "import matplotlib.pyplot as plt\n",
        "from nltk.stem import WordNetLemmatizer\n",
        "from sklearn.decomposition import TruncatedSVD"
      ],
      "execution_count": 1,
      "outputs": []
    },
    {
      "cell_type": "code",
      "metadata": {
        "id": "CCKsH_swaaEd"
      },
      "source": [
        "wordnet_lemmatizer = WordNetLemmatizer()\n",
        "\n",
        "titles = [line.rstrip() for line in open('./all_book_titles.txt')]\n",
        "\n",
        "# 和情緒分析用一樣的tokenizer\n",
        "stopwords = set(w.rstrip() for w in open('./stopwords.txt'))\n",
        "\n",
        "# 也可嘗試以nltk處理 stopwords 的方式\n",
        "# from nltk.corpus import stopwords\n",
        "# stopwords.words('english')\n",
        "\n",
        "# 增加處理這問題必要的 stopwords\n",
        "stopwords = stopwords.union({\n",
        "    'introduction', 'edition', 'series', 'application',\n",
        "    'approach', 'card', 'access', 'package', 'plus', 'etext',\n",
        "    'brief', 'vol', 'fundamental', 'guide', 'essential', 'printed',\n",
        "    'third', 'second', 'fourth', })\n",
        "def my_tokenizer(s):\n",
        "    s = s.lower() # downcase\n",
        "    tokens = nltk.tokenize.word_tokenize(s) # 字串變單字 (tokens)\n",
        "    tokens = [t for t in tokens if len(t) > 2] # 移除短字\n",
        "    tokens = [wordnet_lemmatizer.lemmatize(t) for t in tokens] # 只取英文基本型\n",
        "    tokens = [t for t in tokens if t not in stopwords] # 移除 stopwords\n",
        "    tokens = [t for t in tokens if not any(c.isdigit() for c in t)] # 移除數字，比方 \"3rd edition\"\n",
        "    return tokens"
      ],
      "execution_count": 2,
      "outputs": []
    },
    {
      "cell_type": "code",
      "metadata": {
        "colab": {
          "base_uri": "https://localhost:8080/"
        },
        "id": "77Lnwviha4Wp",
        "outputId": "3a855b6f-fb64-44af-8b41-991a74d35e0b"
      },
      "source": [
        "nltk.download('punkt')\n",
        "#nltk.download('wordnet')"
      ],
      "execution_count": 3,
      "outputs": [
        {
          "output_type": "stream",
          "text": [
            "[nltk_data] Downloading package punkt to /root/nltk_data...\n",
            "[nltk_data]   Package punkt is already up-to-date!\n"
          ],
          "name": "stdout"
        },
        {
          "output_type": "execute_result",
          "data": {
            "text/plain": [
              "True"
            ]
          },
          "metadata": {
            "tags": []
          },
          "execution_count": 3
        }
      ]
    },
    {
      "cell_type": "code",
      "metadata": {
        "id": "46E8KqoQbv9t"
      },
      "source": [
        "# 先產生 word-to-index map 再產生 word-frequency vectors\n",
        "# 同時儲存 tokenized 版本未來不需再做 tokenization\n",
        "word_index_map = {}\n",
        "current_index = 0\n",
        "all_tokens = []\n",
        "all_titles = []\n",
        "index_word_map = []\n",
        "error_count = 0\n",
        "for title in titles:\n",
        "    try:\n",
        "        title = title.encode('ascii', 'ignore').decode('utf-8') # this will throw exception if bad characters\n",
        "        all_titles.append(title)\n",
        "        tokens = my_tokenizer(title)\n",
        "        all_tokens.append(tokens)\n",
        "        for token in tokens:\n",
        "            if token not in word_index_map:\n",
        "                word_index_map[token] = current_index\n",
        "                current_index += 1\n",
        "                index_word_map.append(token)\n",
        "    except Exception as e:\n",
        "        print(e)\n",
        "        print(title)\n"
      ],
      "execution_count": 4,
      "outputs": []
    },
    {
      "cell_type": "code",
      "metadata": {
        "colab": {
          "base_uri": "https://localhost:8080/"
        },
        "id": "eN6d1yBCoNPJ",
        "outputId": "25184676-ef2d-4aae-f176-7569a7d7b55e"
      },
      "source": [
        "print(\"Number of errors parsing file:\", error_count, \"number of lines in file:\", len(titles))\n",
        "if error_count == len(titles):\n",
        "    print(\"There is no data to do anything with! Quitting...\")\n",
        "    exit()"
      ],
      "execution_count": 5,
      "outputs": [
        {
          "output_type": "stream",
          "text": [
            "Number of errors parsing file: 0 number of lines in file: 2373\n"
          ],
          "name": "stdout"
        }
      ]
    },
    {
      "cell_type": "code",
      "metadata": {
        "colab": {
          "base_uri": "https://localhost:8080/",
          "height": 265
        },
        "id": "9zMZi6Luizp5",
        "outputId": "8bc28b58-0f49-4370-8bfc-c45ccba0eaf6"
      },
      "source": [
        "# 產生輸入矩陣 - 是否出現(indicator)較比例(proportions)更準\n",
        "def tokens_to_vector(tokens):\n",
        "    x = np.zeros(len(word_index_map))\n",
        "    for t in tokens:\n",
        "        i = word_index_map[t]\n",
        "        x[i] = 1\n",
        "    return x\n",
        "N = len(all_tokens)\n",
        "D = len(word_index_map)\n",
        "X = np.zeros((D, N)) # 字彙是列, 文件是行\n",
        "i = 0\n",
        "for tokens in all_tokens:\n",
        "    X[:,i] = tokens_to_vector(tokens)\n",
        "    i += 1\n",
        "\n",
        "def main():\n",
        "    svd = TruncatedSVD()\n",
        "    Z = svd.fit_transform(X)\n",
        "    plt.scatter(Z[:,0], Z[:,1])\n",
        "    for i in range(D):\n",
        "        plt.annotate(s=index_word_map[i], xy=(Z[i,0], Z[i,1]))\n",
        "    plt.show()\n",
        "\n",
        "if __name__ == '__main__':\n",
        "    main()"
      ],
      "execution_count": 6,
      "outputs": [
        {
          "output_type": "display_data",
          "data": {
            "image/png": "[encoded data removed]",
            "text/plain": [
              "<Figure size 432x288 with 1 Axes>"
            ]
          },
          "metadata": {
            "tags": [],
            "needs_background": "light"
          }
        }
      ]
    },
    {
      "cell_type": "code",
      "metadata": {
        "colab": {
          "base_uri": "https://localhost:8080/"
        },
        "id": "D_zKuUYWmLM1",
        "outputId": "090585bb-c755-4497-c5b3-cbe287c6b932"
      },
      "source": [
        "all_tokens"
      ],
      "execution_count": 17,
      "outputs": [
        {
          "output_type": "execute_result",
          "data": {
            "text/plain": [
              "[]"
            ]
          },
          "metadata": {
            "tags": []
          },
          "execution_count": 17
        }
      ]
    },
    {
      "cell_type": "code",
      "metadata": {
        "id": "Mz7X7AL7mpGv"
      },
      "source": [
        ""
      ],
      "execution_count": null,
      "outputs": []
    }
  ]
}