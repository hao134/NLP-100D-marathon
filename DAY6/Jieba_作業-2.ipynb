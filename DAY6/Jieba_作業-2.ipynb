{
  "nbformat": 4,
  "nbformat_minor": 0,
  "metadata": {
    "kernelspec": {
      "display_name": "cupoy_env",
      "language": "python",
      "name": "cupoy_env"
    },
    "language_info": {
      "codemirror_mode": {
        "name": "ipython",
        "version": 3
      },
      "file_extension": ".py",
      "mimetype": "text/x-python",
      "name": "python",
      "nbconvert_exporter": "python",
      "pygments_lexer": "ipython3",
      "version": "3.7.3"
    },
    "colab": {
      "name": "Jieba_作業.ipynb",
      "provenance": [],
      "toc_visible": true
    }
  },
  "cells": [
    {
      "cell_type": "markdown",
      "metadata": {
        "id": "7Hah1bKlcZm8"
      },
      "source": [
        "## 作業目標: 使用Jieba進行各項的斷詞操作\n",
        "\n",
        "這份作業我們會使用中文飯店評論資料集來作為斷詞練習。 [資料集:ChnSentiCorp_htl_all](https://github.com/SophonPlus/ChineseNlpCorpus)"
      ]
    },
    {
      "cell_type": "markdown",
      "metadata": {
        "id": "zwuc_K9vcZm8"
      },
      "source": [
        "### 讀入文本資料"
      ]
    },
    {
      "cell_type": "code",
      "metadata": {
        "colab": {
          "base_uri": "https://localhost:8080/",
          "height": 204
        },
        "id": "1CIYOe3NcZm8",
        "outputId": "9ec88ea2-f9a6-41bb-d855-63a4030abee5"
      },
      "source": [
        "import pandas as pd\n",
        "\n",
        "# hint: 可利用pandas讀取CSV\n",
        "###<your code>###\n",
        "pd_corpus = pd.read_csv('./ChnSentiCorp_htl_all.csv')\n",
        "\n",
        "pd_corpus.head(5)"
      ],
      "execution_count": 10,
      "outputs": [
        {
          "output_type": "execute_result",
          "data": {
            "text/html": [
              "<div>\n",
              "<style scoped>\n",
              "    .dataframe tbody tr th:only-of-type {\n",
              "        vertical-align: middle;\n",
              "    }\n",
              "\n",
              "    .dataframe tbody tr th {\n",
              "        vertical-align: top;\n",
              "    }\n",
              "\n",
              "    .dataframe thead th {\n",
              "        text-align: right;\n",
              "    }\n",
              "</style>\n",
              "<table border=\"1\" class=\"dataframe\">\n",
              "  <thead>\n",
              "    <tr style=\"text-align: right;\">\n",
              "      <th></th>\n",
              "      <th>label</th>\n",
              "      <th>review</th>\n",
              "    </tr>\n",
              "  </thead>\n",
              "  <tbody>\n",
              "    <tr>\n",
              "      <th>0</th>\n",
              "      <td>1</td>\n",
              "      <td>距离川沙公路较近,但是公交指示不对,如果是\"蔡陆线\"的话,会非常麻烦.建议用别的路线.房间较...</td>\n",
              "    </tr>\n",
              "    <tr>\n",
              "      <th>1</th>\n",
              "      <td>1</td>\n",
              "      <td>商务大床房，房间很大，床有2M宽，整体感觉经济实惠不错!</td>\n",
              "    </tr>\n",
              "    <tr>\n",
              "      <th>2</th>\n",
              "      <td>1</td>\n",
              "      <td>早餐太差，无论去多少人，那边也不加食品的。酒店应该重视一下这个问题了。房间本身很好。</td>\n",
              "    </tr>\n",
              "    <tr>\n",
              "      <th>3</th>\n",
              "      <td>1</td>\n",
              "      <td>宾馆在小街道上，不大好找，但还好北京热心同胞很多~宾馆设施跟介绍的差不多，房间很小，确实挺小...</td>\n",
              "    </tr>\n",
              "    <tr>\n",
              "      <th>4</th>\n",
              "      <td>1</td>\n",
              "      <td>CBD中心,周围没什么店铺,说5星有点勉强.不知道为什么卫生间没有电吹风</td>\n",
              "    </tr>\n",
              "  </tbody>\n",
              "</table>\n",
              "</div>"
            ],
            "text/plain": [
              "   label                                             review\n",
              "0      1  距离川沙公路较近,但是公交指示不对,如果是\"蔡陆线\"的话,会非常麻烦.建议用别的路线.房间较...\n",
              "1      1                       商务大床房，房间很大，床有2M宽，整体感觉经济实惠不错!\n",
              "2      1         早餐太差，无论去多少人，那边也不加食品的。酒店应该重视一下这个问题了。房间本身很好。\n",
              "3      1  宾馆在小街道上，不大好找，但还好北京热心同胞很多~宾馆设施跟介绍的差不多，房间很小，确实挺小...\n",
              "4      1               CBD中心,周围没什么店铺,说5星有点勉强.不知道为什么卫生间没有电吹风"
            ]
          },
          "metadata": {
            "tags": []
          },
          "execution_count": 10
        }
      ]
    },
    {
      "cell_type": "code",
      "metadata": {
        "colab": {
          "base_uri": "https://localhost:8080/",
          "height": 419
        },
        "id": "XTTVkhBfgv5Y",
        "outputId": "74943256-0cbe-46be-c23f-57ca698d29c6"
      },
      "source": [
        "pd_corpus.loc[pd_corpus['label'] == 1]"
      ],
      "execution_count": 11,
      "outputs": [
        {
          "output_type": "execute_result",
          "data": {
            "text/html": [
              "<div>\n",
              "<style scoped>\n",
              "    .dataframe tbody tr th:only-of-type {\n",
              "        vertical-align: middle;\n",
              "    }\n",
              "\n",
              "    .dataframe tbody tr th {\n",
              "        vertical-align: top;\n",
              "    }\n",
              "\n",
              "    .dataframe thead th {\n",
              "        text-align: right;\n",
              "    }\n",
              "</style>\n",
              "<table border=\"1\" class=\"dataframe\">\n",
              "  <thead>\n",
              "    <tr style=\"text-align: right;\">\n",
              "      <th></th>\n",
              "      <th>label</th>\n",
              "      <th>review</th>\n",
              "    </tr>\n",
              "  </thead>\n",
              "  <tbody>\n",
              "    <tr>\n",
              "      <th>0</th>\n",
              "      <td>1</td>\n",
              "      <td>距离川沙公路较近,但是公交指示不对,如果是\"蔡陆线\"的话,会非常麻烦.建议用别的路线.房间较...</td>\n",
              "    </tr>\n",
              "    <tr>\n",
              "      <th>1</th>\n",
              "      <td>1</td>\n",
              "      <td>商务大床房，房间很大，床有2M宽，整体感觉经济实惠不错!</td>\n",
              "    </tr>\n",
              "    <tr>\n",
              "      <th>2</th>\n",
              "      <td>1</td>\n",
              "      <td>早餐太差，无论去多少人，那边也不加食品的。酒店应该重视一下这个问题了。房间本身很好。</td>\n",
              "    </tr>\n",
              "    <tr>\n",
              "      <th>3</th>\n",
              "      <td>1</td>\n",
              "      <td>宾馆在小街道上，不大好找，但还好北京热心同胞很多~宾馆设施跟介绍的差不多，房间很小，确实挺小...</td>\n",
              "    </tr>\n",
              "    <tr>\n",
              "      <th>4</th>\n",
              "      <td>1</td>\n",
              "      <td>CBD中心,周围没什么店铺,说5星有点勉强.不知道为什么卫生间没有电吹风</td>\n",
              "    </tr>\n",
              "    <tr>\n",
              "      <th>...</th>\n",
              "      <td>...</td>\n",
              "      <td>...</td>\n",
              "    </tr>\n",
              "    <tr>\n",
              "      <th>5317</th>\n",
              "      <td>1</td>\n",
              "      <td>绝对是超三星标准，地处商业区，购物还是很方便的，对门有家羊杂店，绝对正宗。除了价格稍贵，总体...</td>\n",
              "    </tr>\n",
              "    <tr>\n",
              "      <th>5318</th>\n",
              "      <td>1</td>\n",
              "      <td>前台服务较差，不为客户着想。房间有朋友来需要打扫，呼叫了两个小时也未打扫。房间下水道臭气熏天...</td>\n",
              "    </tr>\n",
              "    <tr>\n",
              "      <th>5319</th>\n",
              "      <td>1</td>\n",
              "      <td>1.设施一般,在北京不算好.2.服务还可以.3.出入还是比较方便的.</td>\n",
              "    </tr>\n",
              "    <tr>\n",
              "      <th>5320</th>\n",
              "      <td>1</td>\n",
              "      <td>总的来说可以，总是再这里住，公司客人还算满意。就是离公司超近，上楼上班下楼回家</td>\n",
              "    </tr>\n",
              "    <tr>\n",
              "      <th>5321</th>\n",
              "      <td>1</td>\n",
              "      <td>房间设施难以够得上五星级，服务还不错，有送水果。</td>\n",
              "    </tr>\n",
              "  </tbody>\n",
              "</table>\n",
              "<p>5322 rows × 2 columns</p>\n",
              "</div>"
            ],
            "text/plain": [
              "      label                                             review\n",
              "0         1  距离川沙公路较近,但是公交指示不对,如果是\"蔡陆线\"的话,会非常麻烦.建议用别的路线.房间较...\n",
              "1         1                       商务大床房，房间很大，床有2M宽，整体感觉经济实惠不错!\n",
              "2         1         早餐太差，无论去多少人，那边也不加食品的。酒店应该重视一下这个问题了。房间本身很好。\n",
              "3         1  宾馆在小街道上，不大好找，但还好北京热心同胞很多~宾馆设施跟介绍的差不多，房间很小，确实挺小...\n",
              "4         1               CBD中心,周围没什么店铺,说5星有点勉强.不知道为什么卫生间没有电吹风\n",
              "...     ...                                                ...\n",
              "5317      1  绝对是超三星标准，地处商业区，购物还是很方便的，对门有家羊杂店，绝对正宗。除了价格稍贵，总体...\n",
              "5318      1  前台服务较差，不为客户着想。房间有朋友来需要打扫，呼叫了两个小时也未打扫。房间下水道臭气熏天...\n",
              "5319      1                 1.设施一般,在北京不算好.2.服务还可以.3.出入还是比较方便的.\n",
              "5320      1            总的来说可以，总是再这里住，公司客人还算满意。就是离公司超近，上楼上班下楼回家\n",
              "5321      1                           房间设施难以够得上五星级，服务还不错，有送水果。\n",
              "\n",
              "[5322 rows x 2 columns]"
            ]
          },
          "metadata": {
            "tags": []
          },
          "execution_count": 11
        }
      ]
    },
    {
      "cell_type": "code",
      "metadata": {
        "colab": {
          "base_uri": "https://localhost:8080/"
        },
        "id": "zQlffmlIcZm9",
        "outputId": "637a0ab0-5100-4a62-e19a-9532a5bbb117"
      },
      "source": [
        "#確認所有留言,正評價(label=1)與負評價數量(label=0)\n",
        "###<your code>###\n",
        "pd_positive = pd_corpus.loc[pd_corpus['label'] == 1]\n",
        "pd_negative = pd_corpus.loc[pd_corpus['label'] == 0]\n",
        "\n",
        "print(f'Total: {len(pd_corpus)}, Positive: {len(pd_positive)}, Negative: {len(pd_negative)}')"
      ],
      "execution_count": 12,
      "outputs": [
        {
          "output_type": "stream",
          "text": [
            "Total: 7766, Positive: 5322, Negative: 2444\n"
          ],
          "name": "stdout"
        }
      ]
    },
    {
      "cell_type": "code",
      "metadata": {
        "id": "QIrNSSv4cZm9"
      },
      "source": [
        "#移除缺失值\n",
        "###<your code>###\n",
        "pd_corpus.dropna(inplace = True)"
      ],
      "execution_count": 13,
      "outputs": []
    },
    {
      "cell_type": "markdown",
      "metadata": {
        "id": "jctyQjMIcZm9"
      },
      "source": [
        "### 建構結巴斷詞Function\n",
        "\n",
        "建構可將讀入的Pandas DataFrame的文本資料，外加一欄名為`cut`的review欄位斷詞結果"
      ]
    },
    {
      "cell_type": "code",
      "metadata": {
        "id": "QZ4W4iIVcZm9"
      },
      "source": [
        "import jieba"
      ],
      "execution_count": 14,
      "outputs": []
    },
    {
      "cell_type": "code",
      "metadata": {
        "id": "aro7wn-ucZm9"
      },
      "source": [
        "class JiebaCutingClass(object):\n",
        "    '''Class to use jeiba to parse corpus from dataframe and cut the corpus\n",
        "    \n",
        "    Parameters\n",
        "    -----------\n",
        "    key_to_cut: str\n",
        "        the dataframe key to parse the sentence for jieba cutting\n",
        "    dic: str\n",
        "        the dictionary to use for jieba, default is None (use default dictionary)\n",
        "    userdict: str\n",
        "        the user defined dictionary to use for jieba, default is None\n",
        "    '''\n",
        "    \n",
        "    def __init__(self, key_to_cut:str, dic:str=None, userdict:str=None):\n",
        "        \n",
        "        if dic is not None:\n",
        "            jieba.set_dictionary(dic)\n",
        "        \n",
        "        if userdict is not None:\n",
        "            jieba.load_userdict(userdict)\n",
        "        \n",
        "        self.key_to_cut = key_to_cut\n",
        "        \n",
        "        #將paddle 功能開啟\n",
        "        ###<your code>###\n",
        "        jieba.enable_paddle()\n",
        "        \n",
        "    @staticmethod\n",
        "    def cut_single_sentence(sentence, use_paddle=False, use_full=False, use_search=False):\n",
        "        \n",
        "        if use_search:\n",
        "            # hint:使用收尋引擎模式進行斷詞\n",
        "            ###<your code>###\n",
        "            out = jieba.cut_for_search(sentence)\n",
        "        else:\n",
        "            # hint:非收尋引擎模式斷詞，請注意有精確模式、全模式與paddle模式\n",
        "            ###<your code>###\n",
        "            out = jieba.cut(sentence, use_paddle=use_paddle, cut_all = use_full)\n",
        "        \n",
        "        return out\n",
        "            \n",
        "    \n",
        "    def cut_corpus(self, corpus: pd.DataFrame, mode: str) -> pd.DataFrame:\n",
        "        '''Method to read and cut sentence from dataframe and append another column named cut\n",
        "        \n",
        "        Paremeters\n",
        "        --------------\n",
        "        corpus: pd.DataFrame\n",
        "            Input corpus in dataframe\n",
        "        mode: str\n",
        "            Jieba mode to be used\n",
        "        \n",
        "        Return\n",
        "        ----------------\n",
        "        out: pd.Dataframe\n",
        "            Output corpus in dataframe\n",
        "        '''\n",
        "        \n",
        "        # checking valid mode\n",
        "        if mode not in ['paddle', 'full', 'precise', 'search']:\n",
        "            raise TypeError(f'only support `paddle`, `full`, `precise`, and `search` mode, but get {mode}')\n",
        "            \n",
        "        # cut the corpus based on mode\n",
        "        # hint: 根據mode來呼叫相對應的斷詞method\n",
        "        if mode == 'paddle':\n",
        "            ###<your code>###\n",
        "            out = self._paddle_cut(corpus)\n",
        "        elif mode == 'full':\n",
        "            ###<your code>###\n",
        "            out = self._full_cut(corpus)\n",
        "        elif mode == 'precise':\n",
        "            ###<your code>###\n",
        "            out = self._precise_cut(corpus)\n",
        "        elif mode == 'search':\n",
        "            ###<your code>###\n",
        "            out = self._search_cut(corpus)\n",
        "\n",
        "        return out\n",
        "    \n",
        "    def _paddle_cut(self, corpus):\n",
        "        '''paddle mode\n",
        "        '''\n",
        "        #enable paddle\n",
        "        #hint:先啟用paddle mode\n",
        "        ### <your code> ###\n",
        "        jieba.enable_paddle()\n",
        "        \n",
        "        out = []\n",
        "        # hint:將讀進的文本進行斷詞，並將結果append回out的陣列中\n",
        "        for single_review in corpus[self.key_to_cut]:\n",
        "          out.append([word for word in JiebaCutingClass.cut_single_sentence(single_review, use_paddle = True)])\n",
        "            ###<your code>###\n",
        "        \n",
        "        corpus['cut'] = out\n",
        "        \n",
        "        return corpus\n",
        "    \n",
        "    def _full_cut(self, corpus):\n",
        "        '''full mode\n",
        "        '''\n",
        "        \n",
        "        out = []\n",
        "        # hint:將讀進的文本進行斷詞，並將結果append回out的陣列中\n",
        "        for single_review in corpus[self.key_to_cut]:\n",
        "            ###<your code>###\n",
        "            out.append([word for word in JiebaCutingClass.cut_single_sentence(single_review, use_full = True)])\n",
        "        corpus['cut'] = out\n",
        "        \n",
        "        return corpus\n",
        "    \n",
        "    def _precise_cut(self, corpus):\n",
        "        '''precise mode\n",
        "        '''\n",
        "        \n",
        "        out = []\n",
        "        # hint:將讀進的文本進行斷詞，並將結果append回out的陣列中\n",
        "        for single_review in corpus[self.key_to_cut]:\n",
        "            ###<your code>###\n",
        "            out.append([word for word in JiebaCutingClass.cut_single_sentence(single_review)])\n",
        "        \n",
        "        corpus['cut'] = out\n",
        "        \n",
        "        return corpus\n",
        "    \n",
        "    def _search_cut(self, corpus):\n",
        "        '''search mode\n",
        "        '''\n",
        "        \n",
        "        out = []\n",
        "        # hint:將讀進的文本進行斷詞，並將結果append回out的陣列中\n",
        "        for single_review in corpus[self.key_to_cut]:\n",
        "            ###<your code>###\n",
        "            out.append([word for word in JiebaCutingClass.cut_single_sentence(single_review, use_search = True)])\n",
        "        \n",
        "        corpus['cut'] = out\n",
        "        \n",
        "        return corpus"
      ],
      "execution_count": 15,
      "outputs": []
    },
    {
      "cell_type": "markdown",
      "metadata": {
        "id": "64OLBD9VcZm9"
      },
      "source": [
        "### 使用建構好的斷詞物件對文本進行斷詞"
      ]
    },
    {
      "cell_type": "code",
      "metadata": {
        "colab": {
          "base_uri": "https://localhost:8080/",
          "height": 496
        },
        "id": "MUzFxNJOcZm9",
        "outputId": "c50f7de2-c851-4956-8917-00bb51b1d445"
      },
      "source": [
        "### 請使用精確模式與預設字典對文本進行斷詞\n",
        "\n",
        "# hint:請先實例化JiebaCutingClass，再進行斷詞\n",
        "###<your code>###\n",
        "###<your code>### #為了避免處理時間過久, 這裡我們只使用前50個進行斷詞\n",
        "jieba_cut = JiebaCutingClass(key_to_cut='review')\n",
        "pd_cut = jieba_cut.cut_corpus(pd_corpus.loc[:50, :], mode = 'precise')\n",
        "\n",
        "pd_cut.head()"
      ],
      "execution_count": 16,
      "outputs": [
        {
          "output_type": "stream",
          "text": [
            "Installing paddle-tiny, please wait a minute......\n",
            "Paddle enabled successfully......\n",
            "Building prefix dict from the default dictionary ...\n",
            "Dumping model to file cache /tmp/jieba.cache\n",
            "Loading model cost 0.955 seconds.\n",
            "Prefix dict has been built successfully.\n",
            "/usr/local/lib/python3.6/dist-packages/ipykernel_launcher.py:121: SettingWithCopyWarning: \n",
            "A value is trying to be set on a copy of a slice from a DataFrame.\n",
            "Try using .loc[row_indexer,col_indexer] = value instead\n",
            "\n",
            "See the caveats in the documentation: https://pandas.pydata.org/pandas-docs/stable/user_guide/indexing.html#returning-a-view-versus-a-copy\n"
          ],
          "name": "stderr"
        },
        {
          "output_type": "execute_result",
          "data": {
            "text/html": [
              "<div>\n",
              "<style scoped>\n",
              "    .dataframe tbody tr th:only-of-type {\n",
              "        vertical-align: middle;\n",
              "    }\n",
              "\n",
              "    .dataframe tbody tr th {\n",
              "        vertical-align: top;\n",
              "    }\n",
              "\n",
              "    .dataframe thead th {\n",
              "        text-align: right;\n",
              "    }\n",
              "</style>\n",
              "<table border=\"1\" class=\"dataframe\">\n",
              "  <thead>\n",
              "    <tr style=\"text-align: right;\">\n",
              "      <th></th>\n",
              "      <th>label</th>\n",
              "      <th>review</th>\n",
              "      <th>cut</th>\n",
              "    </tr>\n",
              "  </thead>\n",
              "  <tbody>\n",
              "    <tr>\n",
              "      <th>0</th>\n",
              "      <td>1</td>\n",
              "      <td>距离川沙公路较近,但是公交指示不对,如果是\"蔡陆线\"的话,会非常麻烦.建议用别的路线.房间较...</td>\n",
              "      <td>[距离, 川沙, 公路, 较近, ,, 但是, 公交, 指示, 不, 对, ,, 如果, 是...</td>\n",
              "    </tr>\n",
              "    <tr>\n",
              "      <th>1</th>\n",
              "      <td>1</td>\n",
              "      <td>商务大床房，房间很大，床有2M宽，整体感觉经济实惠不错!</td>\n",
              "      <td>[商务, 大床, 房, ，, 房间, 很大, ，, 床有, 2M, 宽, ，, 整体, 感觉...</td>\n",
              "    </tr>\n",
              "    <tr>\n",
              "      <th>2</th>\n",
              "      <td>1</td>\n",
              "      <td>早餐太差，无论去多少人，那边也不加食品的。酒店应该重视一下这个问题了。房间本身很好。</td>\n",
              "      <td>[早餐, 太, 差, ，, 无论, 去, 多少, 人, ，, 那边, 也, 不加, 食品, ...</td>\n",
              "    </tr>\n",
              "    <tr>\n",
              "      <th>3</th>\n",
              "      <td>1</td>\n",
              "      <td>宾馆在小街道上，不大好找，但还好北京热心同胞很多~宾馆设施跟介绍的差不多，房间很小，确实挺小...</td>\n",
              "      <td>[宾馆, 在, 小, 街道, 上, ，, 不大好, 找, ，, 但, 还好, 北京, 热心,...</td>\n",
              "    </tr>\n",
              "    <tr>\n",
              "      <th>4</th>\n",
              "      <td>1</td>\n",
              "      <td>CBD中心,周围没什么店铺,说5星有点勉强.不知道为什么卫生间没有电吹风</td>\n",
              "      <td>[CBD, 中心, ,, 周围, 没什么, 店铺, ,, 说, 5, 星, 有点, 勉强, ...</td>\n",
              "    </tr>\n",
              "  </tbody>\n",
              "</table>\n",
              "</div>"
            ],
            "text/plain": [
              "   label  ...                                                cut\n",
              "0      1  ...  [距离, 川沙, 公路, 较近, ,, 但是, 公交, 指示, 不, 对, ,, 如果, 是...\n",
              "1      1  ...  [商务, 大床, 房, ，, 房间, 很大, ，, 床有, 2M, 宽, ，, 整体, 感觉...\n",
              "2      1  ...  [早餐, 太, 差, ，, 无论, 去, 多少, 人, ，, 那边, 也, 不加, 食品, ...\n",
              "3      1  ...  [宾馆, 在, 小, 街道, 上, ，, 不大好, 找, ，, 但, 还好, 北京, 热心,...\n",
              "4      1  ...  [CBD, 中心, ,, 周围, 没什么, 店铺, ,, 说, 5, 星, 有点, 勉强, ...\n",
              "\n",
              "[5 rows x 3 columns]"
            ]
          },
          "metadata": {
            "tags": []
          },
          "execution_count": 16
        }
      ]
    },
    {
      "cell_type": "markdown",
      "metadata": {
        "id": "4SDq8FeycZm-"
      },
      "source": [
        "### 載入繁中字典為指定的字詞進行斷詞"
      ]
    },
    {
      "cell_type": "code",
      "metadata": {
        "colab": {
          "base_uri": "https://localhost:8080/"
        },
        "id": "H7fBkhWycZm-",
        "outputId": "b713841e-bbc6-4fa2-e6b3-4eb30dd78822"
      },
      "source": [
        "test_string = '我愛cupoy自然語言處理馬拉松課程'\n",
        "#jieba_cut = JiebaCutingClass(key_to_cut='', dic='./../dict.txt.big')\n",
        "jieba_cut = JiebaCutingClass(key_to_cut='')\n",
        "\n",
        "out_string = jieba_cut.cut_single_sentence(test_string, use_paddle=True)\n",
        "print(f'Paddle模式: {[string for string in out_string]}')\n",
        "\n",
        "out_string = jieba_cut.cut_single_sentence(test_string, use_full=True)\n",
        "print(f'全模式: {[string for string in out_string]}')\n",
        "\n",
        "out_string = jieba_cut.cut_single_sentence(test_string, use_search=True)\n",
        "print(f'搜尋模式: {[string for string in out_string]}')\n",
        "\n",
        "out_string = jieba_cut.cut_single_sentence(test_string)\n",
        "print(f'精確模式: {[string for string in out_string]}')"
      ],
      "execution_count": 19,
      "outputs": [
        {
          "output_type": "stream",
          "text": [
            "Paddle enabled successfully......\n"
          ],
          "name": "stderr"
        },
        {
          "output_type": "stream",
          "text": [
            "Paddle模式: ['我', '愛', 'cupoy', '自然', '語言', '處理', '馬拉松', '課程']\n",
            "全模式: ['我', '愛', 'cupoy', '自然', '語', '言', '處', '理', '馬', '拉', '松', '課', '程']\n",
            "搜尋模式: ['我', '愛', 'cupoy', '自然', '語言處', '理馬拉松', '課程']\n",
            "精確模式: ['我', '愛', 'cupoy', '自然', '語言處', '理馬拉松', '課程']\n"
          ],
          "name": "stdout"
        }
      ]
    },
    {
      "cell_type": "code",
      "metadata": {
        "colab": {
          "base_uri": "https://localhost:8080/"
        },
        "id": "m3bS7s3GtNX4",
        "outputId": "94b6f3af-a445-4441-c189-10725f5cbcbc"
      },
      "source": [
        "test_string = '我愛cupoy自然語言處理馬拉松課程'\n",
        "jieba_cut = JiebaCutingClass(key_to_cut='', dic='./dict.txt.big')\n",
        "#jieba_cut = JiebaCutingClass(key_to_cut='')\n",
        "\n",
        "out_string = jieba_cut.cut_single_sentence(test_string, use_paddle=True)\n",
        "print(f'Paddle模式: {[string for string in out_string]}')\n",
        "\n",
        "out_string = jieba_cut.cut_single_sentence(test_string, use_full=True)\n",
        "print(f'全模式: {[string for string in out_string]}')\n",
        "\n",
        "out_string = jieba_cut.cut_single_sentence(test_string, use_search=True)\n",
        "print(f'搜尋模式: {[string for string in out_string]}')\n",
        "\n",
        "out_string = jieba_cut.cut_single_sentence(test_string)\n",
        "print(f'精確模式: {[string for string in out_string]}')"
      ],
      "execution_count": 21,
      "outputs": [
        {
          "output_type": "stream",
          "text": [
            "Paddle enabled successfully......\n",
            "Building prefix dict from /content/dict.txt.big ...\n"
          ],
          "name": "stderr"
        },
        {
          "output_type": "stream",
          "text": [
            "Paddle模式: ['我', '愛', 'cupoy', '自然', '語言', '處理', '馬拉松', '課程']\n"
          ],
          "name": "stdout"
        },
        {
          "output_type": "stream",
          "text": [
            "Dumping model to file cache /tmp/jieba.u501edca284da514cb68b53a20324f4e3.cache\n",
            "Loading model cost 1.659 seconds.\n",
            "Prefix dict has been built successfully.\n"
          ],
          "name": "stderr"
        },
        {
          "output_type": "stream",
          "text": [
            "全模式: ['我', '愛', 'cupoy', '自然', '自然語言', '語言', '處理', '馬拉', '馬拉松', '課程']\n",
            "搜尋模式: ['我', '愛', 'cupoy', '自然', '語言', '自然語言', '處理', '馬拉', '馬拉松', '課程']\n",
            "精確模式: ['我', '愛', 'cupoy', '自然語言', '處理', '馬拉松', '課程']\n"
          ],
          "name": "stdout"
        }
      ]
    },
    {
      "cell_type": "code",
      "metadata": {
        "id": "HTIodL6jt-hC"
      },
      "source": [
        ""
      ],
      "execution_count": null,
      "outputs": []
    }
  ]
}