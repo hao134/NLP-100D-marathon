{
  "nbformat": 4,
  "nbformat_minor": 0,
  "metadata": {
    "colab": {
      "name": "article_modifier_自動文件修改器(作業解答).ipynb",
      "provenance": []
    },
    "kernelspec": {
      "name": "python3",
      "display_name": "Python 3"
    }
  },
  "cells": [
    {
      "cell_type": "code",
      "metadata": {
        "id": "2O2RisOVepM3"
      },
      "source": [
        "# 使用三連詞 trigrams 練習簡易文件產生器\n",
        "from __future__ import print_function, division\n",
        "from future.utils import iteritems\n",
        "from builtins import range\n",
        "\n",
        "\n",
        "\n",
        "import nltk\n",
        "import random\n",
        "import numpy as np\n",
        "\n",
        "from bs4 import BeautifulSoup"
      ],
      "execution_count": 1,
      "outputs": []
    },
    {
      "cell_type": "code",
      "metadata": {
        "id": "OHz8Fmexe1Ty",
        "outputId": "b76db412-cf98-44c9-9259-7c68844117cd",
        "colab": {
          "base_uri": "https://localhost:8080/"
        }
      },
      "source": [
        "# load the reviews\n",
        "positive_reviews = BeautifulSoup(open('./sample_data/electronics/positive.review', encoding='ISO-8859-1').read(), \"lxml\")\n",
        "positive_reviews = positive_reviews.findAll('review_text')\n",
        "nltk.download('punkt')\n",
        "\n",
        "# 提出 三連詞 並置入字典\n",
        "# (w1, w3) 當作 key, [ w2 ] 當作值\n",
        "trigrams = {}\n",
        "for review in positive_reviews:\n",
        "    s = review.text.lower()\n",
        "    tokens = nltk.tokenize.word_tokenize(s)\n",
        "    for i in range(len(tokens) - 2):\n",
        "        k = (tokens[i], tokens[i+2])\n",
        "        if k not in trigrams:\n",
        "            trigrams[k] = []\n",
        "        trigrams[k].append(tokens[i+1])"
      ],
      "execution_count": 4,
      "outputs": [
        {
          "output_type": "stream",
          "text": [
            "[nltk_data] Downloading package punkt to /root/nltk_data...\n",
            "[nltk_data]   Unzipping tokenizers/punkt.zip.\n"
          ],
          "name": "stdout"
        }
      ]
    },
    {
      "cell_type": "code",
      "metadata": {
        "id": "J-xo1z8gfdJO"
      },
      "source": [
        "# 將中間字矩陣變成或然率向量\n",
        "trigram_probabilities = {}\n",
        "for k, words in iteritems(trigrams):\n",
        "    # 產生一個  word -> count 字典\n",
        "    if len(set(words)) > 1:\n",
        "        # 如果中間字middle word不只有一個機率 \n",
        "        d = {}\n",
        "        n = 0\n",
        "        for w in words:\n",
        "            if w not in d:\n",
        "                d[w] = 0\n",
        "            d[w] += 1\n",
        "            n += 1\n",
        "        for w, c in iteritems(d):\n",
        "          d[w] = float(c) / n\n",
        "        trigram_probabilities[k] = d\n"
      ],
      "execution_count": 5,
      "outputs": []
    },
    {
      "cell_type": "code",
      "metadata": {
        "id": "De04aXAvek3D",
        "outputId": "bf917b67-fdba-40ca-8724-37639e3f0dd8",
        "colab": {
          "base_uri": "https://localhost:8080/"
        }
      },
      "source": [
        "\n",
        "def random_sample(d):\n",
        "    # 從字典隨機選出一個帶機率值的樣本，回傳累積機率值最大的字\n",
        "    r = random.random()\n",
        "    cumulative = 0\n",
        "    for w, p in iteritems(d):\n",
        "        cumulative += p\n",
        "        if r < cumulative:\n",
        "            return w\n",
        "\n",
        "\n",
        "def test_spinner():\n",
        "    review = random.choice(positive_reviews)\n",
        "    s = review.text.lower()\n",
        "    print(\"Original:\", s)\n",
        "    tokens = nltk.tokenize.word_tokenize(s)\n",
        "    for i in range(len(tokens) - 2):\n",
        "        if random.random() < 0.2: # 20% chance of replacement\n",
        "            k = (tokens[i], tokens[i+2])\n",
        "            if k in trigram_probabilities:\n",
        "                w = random_sample(trigram_probabilities[k])\n",
        "                tokens[i+1] = w\n",
        "    print(\"Spun:\")\n",
        "    print(\" \".join(tokens).replace(\" .\", \".\").replace(\" '\", \"'\").replace(\" ,\", \",\").replace(\"$ \", \"$\").replace(\" !\", \"!\"))\n",
        "\n",
        "\n",
        "if __name__ == '__main__':\n",
        "    test_spinner()\n"
      ],
      "execution_count": 6,
      "outputs": [
        {
          "output_type": "stream",
          "text": [
            "Original: \n",
            "these headphones are lightweight, fairly comfortable, and sound head and shoulders better than any pair of $20 headphones i've ever heard.  here are the aspects people always want to know about:\n",
            "\n",
            "bass: these don't pound your eardrums in, but the bass that is there is infinitely cleaner and snappier than some of those boomy headphones i've heard.  you can really follow the bass line with these, rather than just having your eyeballs fuzz out from vibration.\n",
            "\n",
            "mids/highs: this is the reason to buy these headphones.  not too bright, but very clear, warm, smooth, soothing, and musical.  the first time i listened to music on these i was able to pick out the click of the pick against the guitar string, something i'd never heard before on that song.  in fact, i blame these headphones on my new addiction to, well, headphones.\n",
            "\n",
            "these obviously can't play as loudly as $200 headphones, and lack a little of the very lowest and very highest reach, but everything in the middle is very good.  i don't think you can find headphones that are this nice to listen to for under $100.  and being under $20, you can buy a pair to try without feeling like you might be wasting a lot of money.  i should go work for these guys or something =)\n",
            "\n",
            "Spun:\n",
            "these headphones are lightweight, fairly comfortable, and sound, and shoulders better than any pair of $20 so you've ever heard. here are the aspects people always want to know about : bass : these do n't lose your eardrums in, but the micro that is there is infinitely cleaner and costlier than some of those boomy headphones i've tried. you can really follow the bass line with these, raher than just having your eyeballs fuzz out from vibration. mids/highs : this is no reason to buy new headphones. not too bright, but very good, warm, squeeze, yes, and canada. the first time i listened to music through these i was going to pick out the click of the pick against the guitar string, something i'd never heard before on that position. in fact, i ordered these headphones on a new addiction to, well, headphones. these obviously ca n't matter as loudly as $200 headphones, and lack a little of the very lowest and very highest reach, but, in the middle is very good. i do n't think you can find headphones that are this nice to listen to for under $100. and being under $20, you can buy another pair to try without feeling like you might be wasting a lot of money. i should go work for these ( or something = )\n"
          ],
          "name": "stdout"
        }
      ]
    }
  ]
}