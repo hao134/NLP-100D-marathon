{
  "nbformat": 4,
  "nbformat_minor": 0,
  "metadata": {
    "kernelspec": {
      "display_name": "cupoy_env",
      "language": "python",
      "name": "cupoy_env"
    },
    "language_info": {
      "codemirror_mode": {
        "name": "ipython",
        "version": 3
      },
      "file_extension": ".py",
      "mimetype": "text/x-python",
      "name": "python",
      "nbconvert_exporter": "python",
      "pygments_lexer": "ipython3",
      "version": "3.7.3"
    },
    "colab": {
      "name": "實作TreeBase模型_作業.ipynb",
      "provenance": [],
      "toc_visible": true
    }
  },
  "cells": [
    {
      "cell_type": "markdown",
      "metadata": {
        "id": "SaDxwasFt5R8"
      },
      "source": [
        "### 作業目的: 使用樹型模型進行文章分類\n",
        "\n",
        "本次作業主利用[Amazon Review data中的All Beauty](https://nijianmo.github.io/amazon/index.html)來進行review評價分類(文章分類)\n",
        "\n",
        "資料中將review分為1,2,3,4,5分，而在這份作業，我們將評論改分為差評價、普通評價、優良評價(1,2-->1差評、3-->2普通評價、4,5-->3優良評價)"
      ]
    },
    {
      "cell_type": "markdown",
      "metadata": {
        "id": "skalOArjt5R_"
      },
      "source": [
        "### 載入套件"
      ]
    },
    {
      "cell_type": "code",
      "metadata": {
        "id": "bhDAnNYkt5SA"
      },
      "source": [
        "import json\n",
        "import re\n",
        "from sklearn.tree import DecisionTreeClassifier\n",
        "from sklearn.ensemble import AdaBoostClassifier, RandomForestClassifier\n",
        "from sklearn.metrics import classification_report, confusion_matrix\n",
        "from sklearn.model_selection import train_test_split\n",
        "from sklearn.feature_extraction.text import CountVectorizer, TfidfVectorizer, TfidfTransformer"
      ],
      "execution_count": 24,
      "outputs": []
    },
    {
      "cell_type": "markdown",
      "metadata": {
        "id": "n7p_5rdst5SA"
      },
      "source": [
        "### 資料前處理\n",
        "文本資料較為龐大，這裡我們取前10000筆資料來進行作業練習"
      ]
    },
    {
      "cell_type": "code",
      "metadata": {
        "colab": {
          "base_uri": "https://localhost:8080/"
        },
        "id": "w7IR9giMCetj",
        "outputId": "16ac2ed4-0925-4250-969e-2fe18bb16ddd"
      },
      "source": [
        "all_reviews = []\n",
        "with open(\"./All_Beauty_5.json\", \"r\") as f:\n",
        "    for review in f:\n",
        "        all_reviews.append(json.loads(review))\n",
        "        \n",
        "all_reviews[0]"
      ],
      "execution_count": 26,
      "outputs": [
        {
          "output_type": "execute_result",
          "data": {
            "text/plain": [
              "{'asin': 'B0000530HU',\n",
              " 'overall': 5.0,\n",
              " 'reviewText': 'As advertised. Reasonably priced',\n",
              " 'reviewTime': '09 1, 2016',\n",
              " 'reviewerID': 'A3CIUOJXQ5VDQ2',\n",
              " 'reviewerName': 'Shelly F',\n",
              " 'style': {'Flavor:': ' Classic Ice Blue', 'Size:': ' 7.0 oz'},\n",
              " 'summary': 'Five Stars',\n",
              " 'unixReviewTime': 1472688000,\n",
              " 'verified': True}"
            ]
          },
          "metadata": {
            "tags": []
          },
          "execution_count": 26
        }
      ]
    },
    {
      "cell_type": "code",
      "metadata": {
        "colab": {
          "base_uri": "https://localhost:8080/"
        },
        "id": "HZjUvRIpC5GX",
        "outputId": "250846d8-fe8e-41b1-cc1c-8b368f47b486"
      },
      "source": [
        "len(all_reviews)"
      ],
      "execution_count": 27,
      "outputs": [
        {
          "output_type": "execute_result",
          "data": {
            "text/plain": [
              "5269"
            ]
          },
          "metadata": {
            "tags": []
          },
          "execution_count": 27
        }
      ]
    },
    {
      "cell_type": "code",
      "metadata": {
        "id": "VLC1e8MXt5SC"
      },
      "source": [
        "#parse label(overall) and corpus(reviewText)\n",
        "corpus = []\n",
        "labels = []\n",
        "\n",
        "###<your code>###\n",
        "for review in all_reviews[:5000]:\n",
        "  if review.get(\"reviewText\", False) and review.get(\"overall\", False):\n",
        "    corpus.append(review[\"reviewText\"])\n",
        "    labels.append(review[\"overall\"])\n",
        "        \n",
        "#transform labels: 1,2 --> 1 and 3 --> 2 and 4,5 --> 3\n",
        "\n",
        "###<your code>###\n",
        "# for i, label in enumerate(labels):\n",
        "#   if label == 1 or label == 2:\n",
        "#     labels[i] = 1\n",
        "#   elif label == 3:\n",
        "#     labels[i] = 2\n",
        "#   else:\n",
        "#     labels[i] = 3"
      ],
      "execution_count": 28,
      "outputs": []
    },
    {
      "cell_type": "code",
      "metadata": {
        "id": "_yVKEujVt5SD"
      },
      "source": [
        "#preprocessing data\n",
        "#remove email address, punctuations, and change line symbol(\\n)\n",
        "###<your code>###\n",
        "pattern = r\"\\S*@\\S*|\\\\n|[^a-zA-Z0-9 ]\"\n",
        "for i, review in enumerate(corpus):\n",
        "  fil_review = [w for w in re.sub(pattern, \" \", review).split(\" \") if w != \"\"]\n",
        "  corpus[i] = \" \".join(fil_review)"
      ],
      "execution_count": 29,
      "outputs": []
    },
    {
      "cell_type": "code",
      "metadata": {
        "colab": {
          "base_uri": "https://localhost:8080/"
        },
        "id": "We3ttqNHt5SD",
        "outputId": "5b4ef620-b22c-4d43-af27-1c53a8ae58b3"
      },
      "source": [
        "#split corpus and label into train and test\n",
        "###<your code>###\n",
        "x_train, x_test, y_train, y_test = train_test_split(corpus, labels, test_size=0.2, random_state=0)\n",
        "\n",
        "len(x_train), len(x_test), len(y_train), len(y_test)"
      ],
      "execution_count": 30,
      "outputs": [
        {
          "output_type": "execute_result",
          "data": {
            "text/plain": [
              "(3996, 999, 3996, 999)"
            ]
          },
          "metadata": {
            "tags": []
          },
          "execution_count": 30
        }
      ]
    },
    {
      "cell_type": "code",
      "metadata": {
        "id": "HrI62p6ct5SE"
      },
      "source": [
        "#change corpus into vector\n",
        "#you can use tfidf or BoW here\n",
        "\n",
        "###<your code>###\n",
        "tfidf_vec = TfidfVectorizer()\n",
        "tfidf_vec.fit(x_train)\n",
        "\n",
        "#transform training and testing corpus into vector form\n",
        "x_train = tfidf_vec.transform(x_train).toarray()\n",
        "x_test = tfidf_vec.transform(x_test).toarray()"
      ],
      "execution_count": 31,
      "outputs": []
    },
    {
      "cell_type": "markdown",
      "metadata": {
        "id": "T5v3oLXEt5SF"
      },
      "source": [
        "### 訓練與預測"
      ]
    },
    {
      "cell_type": "code",
      "metadata": {
        "colab": {
          "base_uri": "https://localhost:8080/"
        },
        "id": "EelQzVMzt5SG",
        "outputId": "9bafa386-7a8a-4b57-89c7-817523af8e66"
      },
      "source": [
        "#build classification model (decision tree, random forest, or adaboost)\n",
        "#start training\n",
        "\n",
        "###<your code>###\n",
        "tree = DecisionTreeClassifier(max_depth = 6, criterion='entropy')\n",
        "tree.fit(x_train, y_train)"
      ],
      "execution_count": 32,
      "outputs": [
        {
          "output_type": "execute_result",
          "data": {
            "text/plain": [
              "DecisionTreeClassifier(ccp_alpha=0.0, class_weight=None, criterion='entropy',\n",
              "                       max_depth=6, max_features=None, max_leaf_nodes=None,\n",
              "                       min_impurity_decrease=0.0, min_impurity_split=None,\n",
              "                       min_samples_leaf=1, min_samples_split=2,\n",
              "                       min_weight_fraction_leaf=0.0, presort='deprecated',\n",
              "                       random_state=None, splitter='best')"
            ]
          },
          "metadata": {
            "tags": []
          },
          "execution_count": 32
        }
      ]
    },
    {
      "cell_type": "code",
      "metadata": {
        "id": "XcDWKcAdt5SG"
      },
      "source": [
        "#start inference\n",
        "y_pred = tree.predict(x_test)"
      ],
      "execution_count": 33,
      "outputs": []
    },
    {
      "cell_type": "code",
      "metadata": {
        "colab": {
          "base_uri": "https://localhost:8080/"
        },
        "id": "HJFw3qPft5SH",
        "outputId": "d887a1b7-0dcd-41c2-9e2c-f8b0a177722d"
      },
      "source": [
        "#calculate accuracy\n",
        "###<your code>###\n",
        "print(f\"Accuracy: {tree.score(x_test, y_test)}\")"
      ],
      "execution_count": 34,
      "outputs": [
        {
          "output_type": "stream",
          "text": [
            "Accuracy: 0.9129129129129129\n"
          ],
          "name": "stdout"
        }
      ]
    },
    {
      "cell_type": "code",
      "metadata": {
        "colab": {
          "base_uri": "https://localhost:8080/"
        },
        "id": "1ff1XVseIFgj",
        "outputId": "b4e33ecc-f9c6-41fe-a713-ebb8f5da2285"
      },
      "source": [
        "#calculate confusion matrix, precision, recall, and f1-score\n",
        "print(classification_report(y_test, y_pred))\n",
        "print(confusion_matrix(y_test, y_pred))"
      ],
      "execution_count": 35,
      "outputs": [
        {
          "output_type": "stream",
          "text": [
            "              precision    recall  f1-score   support\n",
            "\n",
            "         1.0       1.00      0.67      0.80        24\n",
            "         2.0       1.00      0.45      0.62        11\n",
            "         3.0       0.60      0.15      0.24        20\n",
            "         4.0       0.75      0.19      0.30        64\n",
            "         5.0       0.92      1.00      0.95       880\n",
            "\n",
            "    accuracy                           0.91       999\n",
            "   macro avg       0.85      0.49      0.58       999\n",
            "weighted avg       0.90      0.91      0.89       999\n",
            "\n",
            "[[ 16   0   0   1   7]\n",
            " [  0   5   0   1   5]\n",
            " [  0   0   3   0  17]\n",
            " [  0   0   0  12  52]\n",
            " [  0   0   2   2 876]]\n"
          ],
          "name": "stdout"
        }
      ]
    },
    {
      "cell_type": "markdown",
      "metadata": {
        "id": "8UtZOqzvt5SI"
      },
      "source": [
        "由上述資訊可以發現, 模型在好評的準確度高(precision, recall都高), 而在差評的部分表現較不理想, 在普通評價的部分大部分跟差評搞混,\n",
        "同學可以試著學習到的各種方法來提升模型的表現"
      ]
    },
    {
      "cell_type": "code",
      "metadata": {
        "id": "R2W6jzCQt5SJ"
      },
      "source": [
        ""
      ],
      "execution_count": null,
      "outputs": []
    }
  ]
}