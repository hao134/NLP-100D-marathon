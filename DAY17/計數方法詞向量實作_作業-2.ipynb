{
  "nbformat": 4,
  "nbformat_minor": 0,
  "metadata": {
    "kernelspec": {
      "display_name": "cupoy_env",
      "language": "python",
      "name": "cupoy_env"
    },
    "language_info": {
      "codemirror_mode": {
        "name": "ipython",
        "version": 3
      },
      "file_extension": ".py",
      "mimetype": "text/x-python",
      "name": "python",
      "nbconvert_exporter": "python",
      "pygments_lexer": "ipython3",
      "version": "3.7.3"
    },
    "colab": {
      "name": "計數方法詞向量實作_作業.ipynb",
      "provenance": [],
      "toc_visible": true
    }
  },
  "cells": [
    {
      "cell_type": "markdown",
      "metadata": {
        "id": "M2KpuyQrvfSu"
      },
      "source": [
        "### 載入所需的Libraries"
      ]
    },
    {
      "cell_type": "code",
      "metadata": {
        "id": "AtqDKwSEvfSy"
      },
      "source": [
        "import re\n",
        "import pandas as pd\n",
        "import numpy as np\n",
        "import matplotlib.pyplot as plt\n",
        "from sklearn.model_selection import train_test_split\n",
        "from sklearn.feature_extraction.text import TfidfVectorizer\n",
        "from sklearn.decomposition import TruncatedSVD\n",
        "from typing import List"
      ],
      "execution_count": 2,
      "outputs": []
    },
    {
      "cell_type": "markdown",
      "metadata": {
        "id": "yDu34lRDvfSz"
      },
      "source": [
        "### 載入資料"
      ]
    },
    {
      "cell_type": "code",
      "metadata": {
        "colab": {
          "base_uri": "https://localhost:8080/",
          "height": 204
        },
        "id": "rMZpE2buvfS0",
        "outputId": "761ab7d9-7395-4dda-adc7-ffa0eda27e69"
      },
      "source": [
        "# read data from spam.csv\n",
        "\n",
        "###<your code>###\n",
        "sms_data = pd.read_csv('./spam.csv',usecols = [0,1], encoding = 'latin-1')\n",
        "sms_data.columns = [\"label\", \"content\"]\n",
        "sms_data.head()"
      ],
      "execution_count": 14,
      "outputs": [
        {
          "output_type": "execute_result",
          "data": {
            "text/html": [
              "<div>\n",
              "<style scoped>\n",
              "    .dataframe tbody tr th:only-of-type {\n",
              "        vertical-align: middle;\n",
              "    }\n",
              "\n",
              "    .dataframe tbody tr th {\n",
              "        vertical-align: top;\n",
              "    }\n",
              "\n",
              "    .dataframe thead th {\n",
              "        text-align: right;\n",
              "    }\n",
              "</style>\n",
              "<table border=\"1\" class=\"dataframe\">\n",
              "  <thead>\n",
              "    <tr style=\"text-align: right;\">\n",
              "      <th></th>\n",
              "      <th>label</th>\n",
              "      <th>content</th>\n",
              "    </tr>\n",
              "  </thead>\n",
              "  <tbody>\n",
              "    <tr>\n",
              "      <th>0</th>\n",
              "      <td>ham</td>\n",
              "      <td>Go until jurong point, crazy.. Available only ...</td>\n",
              "    </tr>\n",
              "    <tr>\n",
              "      <th>1</th>\n",
              "      <td>ham</td>\n",
              "      <td>Ok lar... Joking wif u oni...</td>\n",
              "    </tr>\n",
              "    <tr>\n",
              "      <th>2</th>\n",
              "      <td>spam</td>\n",
              "      <td>Free entry in 2 a wkly comp to win FA Cup fina...</td>\n",
              "    </tr>\n",
              "    <tr>\n",
              "      <th>3</th>\n",
              "      <td>ham</td>\n",
              "      <td>U dun say so early hor... U c already then say...</td>\n",
              "    </tr>\n",
              "    <tr>\n",
              "      <th>4</th>\n",
              "      <td>ham</td>\n",
              "      <td>Nah I don't think he goes to usf, he lives aro...</td>\n",
              "    </tr>\n",
              "  </tbody>\n",
              "</table>\n",
              "</div>"
            ],
            "text/plain": [
              "  label                                            content\n",
              "0   ham  Go until jurong point, crazy.. Available only ...\n",
              "1   ham                      Ok lar... Joking wif u oni...\n",
              "2  spam  Free entry in 2 a wkly comp to win FA Cup fina...\n",
              "3   ham  U dun say so early hor... U c already then say...\n",
              "4   ham  Nah I don't think he goes to usf, he lives aro..."
            ]
          },
          "metadata": {
            "tags": []
          },
          "execution_count": 14
        }
      ]
    },
    {
      "cell_type": "code",
      "metadata": {
        "colab": {
          "base_uri": "https://localhost:8080/",
          "height": 142
        },
        "id": "rXQ3fzA3vfS1",
        "outputId": "54d79a4d-d693-44cc-a23a-2eb8644179ae"
      },
      "source": [
        "# check how many spams and hams\n",
        "sms_data.groupby(\"label\").count()"
      ],
      "execution_count": 15,
      "outputs": [
        {
          "output_type": "execute_result",
          "data": {
            "text/html": [
              "<div>\n",
              "<style scoped>\n",
              "    .dataframe tbody tr th:only-of-type {\n",
              "        vertical-align: middle;\n",
              "    }\n",
              "\n",
              "    .dataframe tbody tr th {\n",
              "        vertical-align: top;\n",
              "    }\n",
              "\n",
              "    .dataframe thead th {\n",
              "        text-align: right;\n",
              "    }\n",
              "</style>\n",
              "<table border=\"1\" class=\"dataframe\">\n",
              "  <thead>\n",
              "    <tr style=\"text-align: right;\">\n",
              "      <th></th>\n",
              "      <th>content</th>\n",
              "    </tr>\n",
              "    <tr>\n",
              "      <th>label</th>\n",
              "      <th></th>\n",
              "    </tr>\n",
              "  </thead>\n",
              "  <tbody>\n",
              "    <tr>\n",
              "      <th>ham</th>\n",
              "      <td>4825</td>\n",
              "    </tr>\n",
              "    <tr>\n",
              "      <th>spam</th>\n",
              "      <td>747</td>\n",
              "    </tr>\n",
              "  </tbody>\n",
              "</table>\n",
              "</div>"
            ],
            "text/plain": [
              "       content\n",
              "label         \n",
              "ham       4825\n",
              "spam       747"
            ]
          },
          "metadata": {
            "tags": []
          },
          "execution_count": 15
        }
      ]
    },
    {
      "cell_type": "code",
      "metadata": {
        "colab": {
          "base_uri": "https://localhost:8080/",
          "height": 204
        },
        "id": "8N0oUiiuvfS2",
        "outputId": "43016cf5-25ef-4368-82b6-7bb0615b5e44"
      },
      "source": [
        "# change label to from string to number\n",
        "# \"ham\" --> 0, \"spam\" --> 1\n",
        "sms_data.loc[sms_data.loc[:,\"label\"] == \"spam\", \"label\"] = 1\n",
        "sms_data.loc[sms_data.loc[:,\"label\"] == \"ham\", \"label\"] = 0\n",
        "###<your code>###\n",
        "sms_data.head()"
      ],
      "execution_count": 17,
      "outputs": [
        {
          "output_type": "execute_result",
          "data": {
            "text/html": [
              "<div>\n",
              "<style scoped>\n",
              "    .dataframe tbody tr th:only-of-type {\n",
              "        vertical-align: middle;\n",
              "    }\n",
              "\n",
              "    .dataframe tbody tr th {\n",
              "        vertical-align: top;\n",
              "    }\n",
              "\n",
              "    .dataframe thead th {\n",
              "        text-align: right;\n",
              "    }\n",
              "</style>\n",
              "<table border=\"1\" class=\"dataframe\">\n",
              "  <thead>\n",
              "    <tr style=\"text-align: right;\">\n",
              "      <th></th>\n",
              "      <th>label</th>\n",
              "      <th>content</th>\n",
              "    </tr>\n",
              "  </thead>\n",
              "  <tbody>\n",
              "    <tr>\n",
              "      <th>0</th>\n",
              "      <td>0</td>\n",
              "      <td>Go until jurong point, crazy.. Available only ...</td>\n",
              "    </tr>\n",
              "    <tr>\n",
              "      <th>1</th>\n",
              "      <td>0</td>\n",
              "      <td>Ok lar... Joking wif u oni...</td>\n",
              "    </tr>\n",
              "    <tr>\n",
              "      <th>2</th>\n",
              "      <td>1</td>\n",
              "      <td>Free entry in 2 a wkly comp to win FA Cup fina...</td>\n",
              "    </tr>\n",
              "    <tr>\n",
              "      <th>3</th>\n",
              "      <td>0</td>\n",
              "      <td>U dun say so early hor... U c already then say...</td>\n",
              "    </tr>\n",
              "    <tr>\n",
              "      <th>4</th>\n",
              "      <td>0</td>\n",
              "      <td>Nah I don't think he goes to usf, he lives aro...</td>\n",
              "    </tr>\n",
              "  </tbody>\n",
              "</table>\n",
              "</div>"
            ],
            "text/plain": [
              "  label                                            content\n",
              "0     0  Go until jurong point, crazy.. Available only ...\n",
              "1     0                      Ok lar... Joking wif u oni...\n",
              "2     1  Free entry in 2 a wkly comp to win FA Cup fina...\n",
              "3     0  U dun say so early hor... U c already then say...\n",
              "4     0  Nah I don't think he goes to usf, he lives aro..."
            ]
          },
          "metadata": {
            "tags": []
          },
          "execution_count": 17
        }
      ]
    },
    {
      "cell_type": "markdown",
      "metadata": {
        "id": "MmlZOXCkvfS3"
      },
      "source": [
        "### 切分資料\n",
        "將資料依據label比例切分為training data與testing data"
      ]
    },
    {
      "cell_type": "code",
      "metadata": {
        "colab": {
          "base_uri": "https://localhost:8080/"
        },
        "id": "7eT-jubB1lG1",
        "outputId": "b5ac40a0-c240-4b11-a16b-06153f48fb60"
      },
      "source": [
        "###<your code>###\n",
        "sms_train, sms_test = train_test_split(sms_data, test_size = 0.2,stratify=sms_data.label)\n",
        "sms_train.reset_index(inplace=True, drop=True)\n",
        "sms_test.reset_index(inplace=True, drop=True)\n",
        "print(sms_train.groupby(\"label\").count())\n",
        "print(sms_test.groupby(\"label\").count())"
      ],
      "execution_count": 22,
      "outputs": [
        {
          "output_type": "stream",
          "text": [
            "       content\n",
            "label         \n",
            "0         3859\n",
            "1          598\n",
            "       content\n",
            "label         \n",
            "0          966\n",
            "1          149\n"
          ],
          "name": "stdout"
        }
      ]
    },
    {
      "cell_type": "markdown",
      "metadata": {
        "id": "NN3BdT9mvfS5"
      },
      "source": [
        "### 資料預處理\n",
        "* 將所有字詞轉為小寫\n",
        "* 移除所有數字、標點符號"
      ]
    },
    {
      "cell_type": "code",
      "metadata": {
        "scrolled": true,
        "colab": {
          "base_uri": "https://localhost:8080/"
        },
        "id": "ZhrtD6PkvfS6",
        "outputId": "f4404a41-3bfd-4518-cc4b-dbff0429cd9b"
      },
      "source": [
        "def preprocess(df: pd.DataFrame) -> pd.DataFrame:\n",
        "    \n",
        "    for i in range(len(df)):\n",
        "        # make all content to lowercase\n",
        "        ###<your code>###\n",
        "        content = df.loc[i, \"content\"].lower()\n",
        "\n",
        "        # remove all punctuations\n",
        "        ###<your code>###\n",
        "        content = ' '.join([word for word in re.findall(r\"[a-zA-Z]*\", content) if word != ''])\n",
        "        df.loc[i,'content'] = content\n",
        "    \n",
        "    return df\n",
        "\n",
        "processed_train = preprocess(sms_train)\n",
        "processed_test = preprocess(sms_test)\n",
        "\n",
        "print(\"Train:\")\n",
        "print(processed_train.head())\n",
        "print(\"Test:\")\n",
        "print(processed_test.head())"
      ],
      "execution_count": 23,
      "outputs": [
        {
          "output_type": "stream",
          "text": [
            "/usr/local/lib/python3.6/dist-packages/pandas/core/indexing.py:670: SettingWithCopyWarning: \n",
            "A value is trying to be set on a copy of a slice from a DataFrame\n",
            "\n",
            "See the caveats in the documentation: https://pandas.pydata.org/pandas-docs/stable/user_guide/indexing.html#returning-a-view-versus-a-copy\n",
            "  iloc._setitem_with_indexer(indexer, value)\n",
            "/usr/local/lib/python3.6/dist-packages/ipykernel_launcher.py:11: SettingWithCopyWarning: \n",
            "A value is trying to be set on a copy of a slice from a DataFrame\n",
            "\n",
            "See the caveats in the documentation: https://pandas.pydata.org/pandas-docs/stable/user_guide/indexing.html#returning-a-view-versus-a-copy\n",
            "  # This is added back by InteractiveShellApp.init_path()\n"
          ],
          "name": "stderr"
        },
        {
          "output_type": "stream",
          "text": [
            "Train:\n",
            "  label                                            content\n",
            "0     0                     hmmm still we dont have opener\n",
            "1     0                                        nothing can\n",
            "2     0  this message is from a great doctor in india d...\n",
            "3     0        i just lov this line hurt me with the truth\n",
            "4     0  good morning my dear have a great amp successf...\n",
            "Test:\n",
            "  label                                            content\n",
            "0     0                      gud mrng dear have a nice day\n",
            "1     0  i m so in love with you i m excited each day i...\n",
            "2     0  there s no point hangin on to mr not right if ...\n",
            "3     0  what you thinked about me first time you saw m...\n",
            "4     0                            we are both fine thanks\n"
          ],
          "name": "stdout"
        }
      ]
    },
    {
      "cell_type": "code",
      "metadata": {
        "colab": {
          "base_uri": "https://localhost:8080/"
        },
        "id": "XOcpjj_UvfS7",
        "outputId": "9d7e8539-aa57-41e6-adca-e25a247abcfb"
      },
      "source": [
        "# split data into x_train, y_train, x_test, y_test\n",
        "y_train, x_train = zip(*processed_train.values)\n",
        "y_test, x_test = zip(*processed_test.values)\n",
        "\n",
        "# check numbers of unique word in the corpus\n",
        "len(set(\" \".join(list(x_train + x_test)).split()))"
      ],
      "execution_count": 24,
      "outputs": [
        {
          "output_type": "execute_result",
          "data": {
            "text/plain": [
              "7708"
            ]
          },
          "metadata": {
            "tags": []
          },
          "execution_count": 24
        }
      ]
    },
    {
      "cell_type": "markdown",
      "metadata": {
        "id": "6NKKg40wvfS8"
      },
      "source": [
        "### TF-IDF\n",
        "可以發現種共有7708個字詞，這裡使用TF-IDF將來選取最高分的前2000個字詞\n",
        "(若忘記的學員可參考先前TF-IDF課程章節或[此篇教學](https://ithelp.ithome.com.tw/articles/10228815?sc=iThelpR))"
      ]
    },
    {
      "cell_type": "code",
      "metadata": {
        "colab": {
          "base_uri": "https://localhost:8080/"
        },
        "id": "dX9Sm76cvfS-",
        "outputId": "5316fe6f-000d-41f6-8c34-1383943d1280"
      },
      "source": [
        "###<your code>###\n",
        "vectorizer = TfidfVectorizer(max_features = 2000)\n",
        "vectorizer.fit(x_train)\n",
        "tfidf_train = vectorizer.transform(x_train)\n",
        "tfidf_test = vectorizer.transform(x_test)\n",
        "\n",
        "print(f\"Number of unique word: {len(vectorizer.vocabulary_)}\")\n",
        "(tfidf_train, tfidf_test)"
      ],
      "execution_count": 27,
      "outputs": [
        {
          "output_type": "stream",
          "text": [
            "Number of unique word: 2000\n"
          ],
          "name": "stdout"
        },
        {
          "output_type": "execute_result",
          "data": {
            "text/plain": [
              "(<4457x2000 sparse matrix of type '<class 'numpy.float64'>'\n",
              " \twith 51164 stored elements in Compressed Sparse Row format>,\n",
              " <1115x2000 sparse matrix of type '<class 'numpy.float64'>'\n",
              " \twith 12315 stored elements in Compressed Sparse Row format>)"
            ]
          },
          "metadata": {
            "tags": []
          },
          "execution_count": 27
        }
      ]
    },
    {
      "cell_type": "markdown",
      "metadata": {
        "id": "PKeDB9zOvfS_"
      },
      "source": [
        "### 建立共現矩陣"
      ]
    },
    {
      "cell_type": "code",
      "metadata": {
        "colab": {
          "base_uri": "https://localhost:8080/"
        },
        "id": "XCmUnnnFvfTA",
        "outputId": "562dd2b4-9b4a-4dcd-891b-c2cba810a00c"
      },
      "source": [
        "def create_co_matrix(corpus: List[str], vocab_list: List[str], word2idx: dict,\n",
        "                     window_size: int=1, use_weighting: bool=False, verbose: bool=False) -> np.ndarray:\n",
        "    '''Function to create co-occurrence matrix\n",
        "    '''\n",
        "    #initialize co-occurrence matrix\n",
        "    vocab_size = len(vocab_list)\n",
        "    co_matrix = np.zeros(shape=(vocab_size, vocab_size))\n",
        "    \n",
        "    for idx, sms in enumerate(corpus):\n",
        "        sms = sms.split()\n",
        "        sms_ids = [word2idx[word] for word in sms if word in vocab_list] #tokenize\n",
        "        \n",
        "        for center_i, center_word_id in enumerate(sms_ids):\n",
        "            context_ids = sms_ids[max(0, center_i - window_size):center_word_id]\n",
        "            content_len = len(context_ids)\n",
        "            \n",
        "            for left_i, left_word_id in enumerate(context_ids):\n",
        "                \n",
        "                if use_weighting:\n",
        "                    distance = content_len - left_i\n",
        "                    increment = 1./float(distance)\n",
        "                else:\n",
        "                    increment = 1\n",
        "                    \n",
        "                co_matrix[center_word_id, left_word_id] += increment\n",
        "                co_matrix[left_word_id, center_word_id] += increment\n",
        "        \n",
        "        if verbose:\n",
        "            if idx != 0 and idx%500 == 0:\n",
        "                    print(f\"finishing {idx+1}/{len(corpus)}\")\n",
        "    print(\"Done\")\n",
        "    if use_weighting:\n",
        "        # if use weighting, then we set the co-occurrence with the word itself to 1.0\n",
        "        np.fill_diagonal(co_matrix, 1.)\n",
        "        \n",
        "    return co_matrix\n",
        "\n",
        "co_matrix = create_co_matrix(x_train, vectorizer.get_feature_names(), vectorizer.vocabulary_,\n",
        "                            window_size=3, use_weighting=True, verbose=True)\n",
        "\n",
        "co_matrix"
      ],
      "execution_count": 28,
      "outputs": [
        {
          "output_type": "stream",
          "text": [
            "finishing 501/4457\n",
            "finishing 1001/4457\n",
            "finishing 1501/4457\n",
            "finishing 2001/4457\n",
            "finishing 2501/4457\n",
            "finishing 3001/4457\n",
            "finishing 3501/4457\n",
            "finishing 4001/4457\n",
            "Done\n"
          ],
          "name": "stdout"
        },
        {
          "output_type": "execute_result",
          "data": {
            "text/plain": [
              "array([[1., 0., 0., ..., 0., 0., 0.],\n",
              "       [0., 1., 0., ..., 0., 0., 0.],\n",
              "       [0., 0., 1., ..., 0., 0., 0.],\n",
              "       ...,\n",
              "       [0., 0., 0., ..., 1., 0., 0.],\n",
              "       [0., 0., 0., ..., 0., 1., 0.],\n",
              "       [0., 0., 0., ..., 0., 0., 1.]])"
            ]
          },
          "metadata": {
            "tags": []
          },
          "execution_count": 28
        }
      ]
    },
    {
      "cell_type": "markdown",
      "metadata": {
        "id": "b--epuIevfTB"
      },
      "source": [
        "### 建立PPMI矩陣"
      ]
    },
    {
      "cell_type": "code",
      "metadata": {
        "colab": {
          "base_uri": "https://localhost:8080/"
        },
        "id": "QhbBugzYvfTB",
        "outputId": "ecfd7c4a-262d-4ba2-8576-08f06c3142e6"
      },
      "source": [
        "#定義正向點間互資訊\n",
        "\n",
        "def ppmi(co_matrix: np.ndarray, eps: float=1e-8, verbose: bool=False):\n",
        "    ###<your code>###\n",
        "    M = np.zeros_like(co_matrix, dtype = np.float32)\n",
        "    N = np.sum(co_matrix)\n",
        "    S = np.sum(co_matrix, axis = 0)\n",
        "    total = co_matrix.shape[0] * co_matrix.shape[1]\n",
        "    \n",
        "    for i in range(co_matrix.shape[0]):\n",
        "        for j in range(co_matrix.shape[1]):\n",
        "            ###<your code>###\n",
        "            pmi = np.log2(co_matrix[i, j]* N /(S[i] * S[j] + eps))\n",
        "            M[i, j] = max(0, pmi)\n",
        "            \n",
        "            if verbose:\n",
        "                cnt += 1\n",
        "                if cnt % 10 == 0 or cnt == total:\n",
        "                    print(f\"{cnt}/{total} Done\")\n",
        "    \n",
        "    return M\n",
        "\n",
        "ppmi_matrix = ppmi(co_matrix, verbose=False)\n",
        "ppmi_matrix"
      ],
      "execution_count": 30,
      "outputs": [
        {
          "output_type": "stream",
          "text": [
            "/usr/local/lib/python3.6/dist-packages/ipykernel_launcher.py:13: RuntimeWarning: divide by zero encountered in log2\n",
            "  del sys.path[0]\n"
          ],
          "name": "stderr"
        },
        {
          "output_type": "execute_result",
          "data": {
            "text/plain": [
              "array([[13.309299 ,  0.       ,  0.       , ...,  0.       ,  0.       ,\n",
              "         0.       ],\n",
              "       [ 0.       ,  8.825641 ,  0.       , ...,  0.       ,  0.       ,\n",
              "         0.       ],\n",
              "       [ 0.       ,  0.       ,  3.3749177, ...,  0.       ,  0.       ,\n",
              "         0.       ],\n",
              "       ...,\n",
              "       [ 0.       ,  0.       ,  0.       , ...,  9.875028 ,  0.       ,\n",
              "         0.       ],\n",
              "       [ 0.       ,  0.       ,  0.       , ...,  0.       ,  5.184081 ,\n",
              "         0.       ],\n",
              "       [ 0.       ,  0.       ,  0.       , ...,  0.       ,  0.       ,\n",
              "         6.809149 ]], dtype=float32)"
            ]
          },
          "metadata": {
            "tags": []
          },
          "execution_count": 30
        }
      ]
    },
    {
      "cell_type": "markdown",
      "metadata": {
        "id": "wchY0vnnvfTC"
      },
      "source": [
        "### 使用SVD降維\n",
        "利用sklearn中的TruncatedSVD對co-occurrence matrix進行降維，並利用variance來找出最適合的維度\n",
        "[參考文獻](https://medium.com/swlh/truncated-singular-value-decomposition-svd-using-amazon-food-reviews-891d97af5d8d)\n",
        "\n",
        "(讀者可以嘗試使用SVD對PPMI進行降維)"
      ]
    },
    {
      "cell_type": "code",
      "metadata": {
        "colab": {
          "base_uri": "https://localhost:8080/",
          "height": 533
        },
        "id": "OEAmGXi9vfTD",
        "outputId": "b73b0bb2-267c-44b6-b309-ed042913e44b"
      },
      "source": [
        "# Program to find the optimal number of components for Truncated SVD\n",
        "n_comp = range(10,150,10) # list containing different values of components\n",
        "variance_sum = [] # explained variance ratio for each component of Truncated SVD\n",
        "\n",
        "for dim in n_comp:\n",
        "    svd = TruncatedSVD(n_components=dim)\n",
        "    svd.fit(co_matrix)\n",
        "    variance_sum.append(svd.explained_variance_ratio_.sum())\n",
        "    print(f\"Number of components = {dim} and explained variance = {svd.explained_variance_ratio_.sum()}\")\n",
        "    \n",
        "plt.plot(n_comp, variance_sum)\n",
        "plt.xlabel('Number of components')\n",
        "plt.ylabel(\"Explained Variance\")\n",
        "plt.title(\"Plot of Number of components v/s explained variance\")\n",
        "plt.show()"
      ],
      "execution_count": 31,
      "outputs": [
        {
          "output_type": "stream",
          "text": [
            "Number of components = 10 and explained variance = 0.8624161095012128\n",
            "Number of components = 20 and explained variance = 0.8975229031078445\n",
            "Number of components = 30 and explained variance = 0.9154787656238721\n",
            "Number of components = 40 and explained variance = 0.9278792637712245\n",
            "Number of components = 50 and explained variance = 0.9370881301923357\n",
            "Number of components = 60 and explained variance = 0.9443024385404734\n",
            "Number of components = 70 and explained variance = 0.9502747400453734\n",
            "Number of components = 80 and explained variance = 0.9551859541216445\n",
            "Number of components = 90 and explained variance = 0.9593933368584774\n",
            "Number of components = 100 and explained variance = 0.9628811823187486\n",
            "Number of components = 110 and explained variance = 0.9659607904014358\n",
            "Number of components = 120 and explained variance = 0.9686498396636286\n",
            "Number of components = 130 and explained variance = 0.9710322679784674\n",
            "Number of components = 140 and explained variance = 0.9731647870779\n"
          ],
          "name": "stdout"
        },
        {
          "output_type": "display_data",
          "data": {
            "image/png": "[encoded data removed]",
            "text/plain": [
              "<Figure size 432x288 with 1 Axes>"
            ]
          },
          "metadata": {
            "tags": [],
            "needs_background": "light"
          }
        }
      ]
    },
    {
      "cell_type": "code",
      "metadata": {
        "id": "6Y70QQBZvfTE"
      },
      "source": [
        "# choose 140 as final dimension to reduce to \n",
        "# 利用上述找到的最適合dimension來對co-occurrence matrix進行降維\n",
        "###<your code>###\n",
        "svd = TruncatedSVD(n_components=140)\n",
        "svd.fit(co_matrix)\n",
        "re_co_matrix = svd.transform(co_matrix)"
      ],
      "execution_count": 33,
      "outputs": []
    },
    {
      "cell_type": "markdown",
      "metadata": {
        "id": "jzQFui7_vfTF"
      },
      "source": [
        "### 使用KNN模型進行分類\n",
        "在進行分類之前，先利用簡單的詞向量平均來計算文本向量\n",
        "\n",
        "[參考文獻](https://medium.com/ai-academy-taiwan/nlp-%E4%B8%8D%E5%90%8C%E8%A9%9E%E5%90%91%E9%87%8F%E5%9C%A8%E6%96%87%E6%9C%AC%E5%88%86%E9%A1%9E%E4%B8%8A%E7%9A%84%E8%A1%A8%E7%8F%BE%E8%88%87%E5%AF%A6%E4%BD%9C-e72a2daecfc)"
      ]
    },
    {
      "cell_type": "code",
      "metadata": {
        "scrolled": true,
        "colab": {
          "base_uri": "https://localhost:8080/"
        },
        "id": "4XB8IuenvfTF",
        "outputId": "1c0c7c9c-922f-4035-d6c9-23804a0f66e2"
      },
      "source": [
        "# get doc vector via take mean of all word vectors inside the corresponding document\n",
        "\n",
        "def make_doc_vectors(corpus: List[str], word2idx: dict, vocab_list: List) -> List[np.ndarray]:\n",
        "    \n",
        "    # vectorizing data \n",
        "    # and make document vector by take mean to all word vecto\n",
        "    doc_vec = []\n",
        "    empty_doc_list = []\n",
        "    for i, sms_msg in enumerate(corpus):\n",
        "        sms_msg = [word2idx[word] for word in sms_msg.split() if word in vocab_list] #tokenize\n",
        "        if len(sms_msg) > 0:\n",
        "            sms_msg = np.array([re_co_matrix[ids] for ids in sms_msg]) #vectorize\n",
        "            doc_vec.append(sms_msg.mean(axis=0))\n",
        "        else:\n",
        "            empty_doc_list.append(i)\n",
        "            print(f\"document {i} doesn't contain word in vocab_list\")\n",
        "            print(corpus[i])\n",
        "            print(\"\\n\")\n",
        "        \n",
        "    return np.vstack(doc_vec), empty_doc_list\n",
        "\n",
        "word2idx = vectorizer.vocabulary_\n",
        "vocab_list = vectorizer.get_feature_names()\n",
        "\n",
        "doc_vec_train, missing_train_list = make_doc_vectors(x_train, word2idx, vocab_list)\n",
        "print(\"=\"*50)\n",
        "doc_vec_test, missing_test_list = make_doc_vectors(x_test, word2idx, vocab_list)"
      ],
      "execution_count": 34,
      "outputs": [
        {
          "output_type": "stream",
          "text": [
            "document 35 doesn't contain word in vocab_list\n",
            "raviyog peripherals bhayandar east\n",
            "\n",
            "\n",
            "document 108 doesn't contain word in vocab_list\n",
            "audrie lousy autocorrect\n",
            "\n",
            "\n",
            "document 233 doesn't contain word in vocab_list\n",
            "beerage\n",
            "\n",
            "\n",
            "document 294 doesn't contain word in vocab_list\n",
            "tf p\n",
            "\n",
            "\n",
            "document 900 doesn't contain word in vocab_list\n",
            "east coast\n",
            "\n",
            "\n",
            "document 1408 doesn't contain word in vocab_list\n",
            "hanks lotsly\n",
            "\n",
            "\n",
            "document 2499 doesn't contain word in vocab_list\n",
            "\n",
            "\n",
            "\n",
            "document 2696 doesn't contain word in vocab_list\n",
            "u\n",
            "\n",
            "\n",
            "document 3136 doesn't contain word in vocab_list\n",
            "g w r\n",
            "\n",
            "\n",
            "document 3435 doesn't contain word in vocab_list\n",
            "ultimately tor motive tui achieve korli\n",
            "\n",
            "\n",
            "document 3854 doesn't contain word in vocab_list\n",
            "garbage bags eggs jam bread hannaford wheat chex\n",
            "\n",
            "\n",
            "==================================================\n",
            "document 101 doesn't contain word in vocab_list\n",
            "\n",
            "\n",
            "\n",
            "document 269 doesn't contain word in vocab_list\n",
            "erutupalam thandiyachu\n",
            "\n",
            "\n",
            "document 589 doesn't contain word in vocab_list\n",
            "k k congratulation\n",
            "\n",
            "\n",
            "document 773 doesn't contain word in vocab_list\n",
            "ringtoneking\n",
            "\n",
            "\n",
            "document 936 doesn't contain word in vocab_list\n",
            "\n",
            "\n",
            "\n"
          ],
          "name": "stdout"
        }
      ]
    },
    {
      "cell_type": "code",
      "metadata": {
        "id": "xOHzdns5vfTG"
      },
      "source": [
        "from sklearn.neighbors import KNeighborsClassifier\n",
        "\n",
        "# training\n",
        "y_train_filter = np.delete(np.array(y_train), missing_train_list)\n",
        "\n",
        "knn = KNeighborsClassifier(n_neighbors=5)\n",
        "knn.fit(doc_vec_train, y_train_filter)\n",
        "train_pred = knn.predict(doc_vec_train)\n",
        "\n",
        "# testing\n",
        "y_test_filter = np.delete(np.array(y_test), missing_test_list)\n",
        "test_pred = knn.predict(doc_vec_test)"
      ],
      "execution_count": 35,
      "outputs": []
    },
    {
      "cell_type": "code",
      "metadata": {
        "colab": {
          "base_uri": "https://localhost:8080/"
        },
        "id": "Uw5xRE7pvfTH",
        "outputId": "be541c9d-8725-45bc-b4df-55f7c266054e"
      },
      "source": [
        "print(f\"train acc: {np.sum(train_pred == y_train_filter) / len(y_train_filter)}\")\n",
        "print(f\"train acc: {np.sum(test_pred == y_test_filter) / len(y_test_filter)}\")"
      ],
      "execution_count": 36,
      "outputs": [
        {
          "output_type": "stream",
          "text": [
            "train acc: 0.9741340530814215\n",
            "train acc: 0.9621621621621622\n"
          ],
          "name": "stdout"
        }
      ]
    },
    {
      "cell_type": "code",
      "metadata": {
        "id": "i7TB9bji9J4G"
      },
      "source": [
        ""
      ],
      "execution_count": null,
      "outputs": []
    }
  ]
}