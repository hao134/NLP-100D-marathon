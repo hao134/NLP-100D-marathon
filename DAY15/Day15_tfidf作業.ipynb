{
  "nbformat": 4,
  "nbformat_minor": 0,
  "metadata": {
    "kernelspec": {
      "display_name": "Python 3",
      "language": "python",
      "name": "python3"
    },
    "language_info": {
      "codemirror_mode": {
        "name": "ipython",
        "version": 3
      },
      "file_extension": ".py",
      "mimetype": "text/x-python",
      "name": "python",
      "nbconvert_exporter": "python",
      "pygments_lexer": "ipython3",
      "version": "3.7.4"
    },
    "colab": {
      "name": "Day15- tfidf作業.ipynb",
      "provenance": []
    }
  },
  "cells": [
    {
      "cell_type": "markdown",
      "metadata": {
        "id": "5DMAw8_u62VN"
      },
      "source": [
        "## 作業目標：搭建一個TFIDF 模型"
      ]
    },
    {
      "cell_type": "markdown",
      "metadata": {
        "id": "F6eJ-rCj62VO"
      },
      "source": [
        "---"
      ]
    },
    {
      "cell_type": "markdown",
      "metadata": {
        "id": "57oiYk2w62VO"
      },
      "source": [
        "#### Reference:https://towardsdatascience.com/natural-language-processing-feature-engineering-using-tf-idf-e8b9d00e7e76"
      ]
    },
    {
      "cell_type": "code",
      "metadata": {
        "colab": {
          "base_uri": "https://localhost:8080/"
        },
        "id": "O2aMb1Ds62VO",
        "outputId": "be57f7e0-6679-4b3e-c764-d56dd8712c25"
      },
      "source": [
        "import nltk\n",
        "nltk.download('punkt')\n",
        "documentA = 'the man went out for a walk'\n",
        "documentB = 'the children sat around the fire'"
      ],
      "execution_count": 3,
      "outputs": [
        {
          "output_type": "stream",
          "text": [
            "[nltk_data] Downloading package punkt to /root/nltk_data...\n",
            "[nltk_data]   Unzipping tokenizers/punkt.zip.\n"
          ],
          "name": "stdout"
        }
      ]
    },
    {
      "cell_type": "markdown",
      "metadata": {
        "id": "3be5eRLp62VO"
      },
      "source": [
        "## 首先我們做tokenize，並取出所有文件中的單詞"
      ]
    },
    {
      "cell_type": "code",
      "metadata": {
        "id": "4uo8r6Tk62VO"
      },
      "source": [
        "tokenize_A = nltk.word_tokenize(documentA)\n",
        "tokenize_B = nltk.word_tokenize(documentB)\n",
        "\n",
        "uniqueWords = set(tokenize_A).union(set(tokenize_B)) ##所有文件中的單詞"
      ],
      "execution_count": 4,
      "outputs": []
    },
    {
      "cell_type": "markdown",
      "metadata": {
        "id": "Kigmy-6Z62VO"
      },
      "source": [
        "## 計算每個文件中，所有uniqueWords出現的次數"
      ]
    },
    {
      "cell_type": "code",
      "metadata": {
        "id": "WbAshESU62VO"
      },
      "source": [
        "numOfWordsA = dict.fromkeys(uniqueWords, 0)\n",
        "for word in tokenize_A:\n",
        "    numOfWordsA[word] += 1\n",
        "numOfWordsB = dict.fromkeys(uniqueWords, 0)\n",
        "for word in tokenize_B:\n",
        "    numOfWordsB[word] += 1"
      ],
      "execution_count": 7,
      "outputs": []
    },
    {
      "cell_type": "code",
      "metadata": {
        "colab": {
          "base_uri": "https://localhost:8080/"
        },
        "id": "FJu2-GVd62VP",
        "outputId": "77cd632b-f215-49e4-c8ca-f570a340cd91"
      },
      "source": [
        "numOfWordsA"
      ],
      "execution_count": 8,
      "outputs": [
        {
          "output_type": "execute_result",
          "data": {
            "text/plain": [
              "{'a': 1,\n",
              " 'around': 0,\n",
              " 'children': 0,\n",
              " 'fire': 0,\n",
              " 'for': 1,\n",
              " 'man': 1,\n",
              " 'out': 1,\n",
              " 'sat': 0,\n",
              " 'the': 1,\n",
              " 'walk': 1,\n",
              " 'went': 1}"
            ]
          },
          "metadata": {
            "tags": []
          },
          "execution_count": 8
        }
      ]
    },
    {
      "cell_type": "code",
      "metadata": {
        "colab": {
          "base_uri": "https://localhost:8080/"
        },
        "id": "3Wf5qigW62VP",
        "outputId": "c0a9183f-f379-4aea-8bd1-8e4dd250651a"
      },
      "source": [
        "numOfWordsB"
      ],
      "execution_count": 9,
      "outputs": [
        {
          "output_type": "execute_result",
          "data": {
            "text/plain": [
              "{'a': 0,\n",
              " 'around': 1,\n",
              " 'children': 1,\n",
              " 'fire': 1,\n",
              " 'for': 0,\n",
              " 'man': 0,\n",
              " 'out': 0,\n",
              " 'sat': 1,\n",
              " 'the': 2,\n",
              " 'walk': 0,\n",
              " 'went': 0}"
            ]
          },
          "metadata": {
            "tags": []
          },
          "execution_count": 9
        }
      ]
    },
    {
      "cell_type": "markdown",
      "metadata": {
        "id": "qzAhp9l362VP"
      },
      "source": [
        "## 定義function:計算TF"
      ]
    },
    {
      "cell_type": "code",
      "metadata": {
        "id": "GT3zeO_F62VQ"
      },
      "source": [
        "def computeTF(wordDict, tokenize_item):\n",
        "    \"\"\"\n",
        "    wordDict : 文件內單詞對應出現數量的字典\n",
        "    tokenize_item : 文件tokenize後的輸出\n",
        "    \"\"\"\n",
        "    tfDict = {}\n",
        "    bagOfWordsCount = len(tokenize_item) ## tokenize_item單詞數量\n",
        "    for word, count in wordDict.items():\n",
        "        tfDict[word] = count / float(bagOfWordsCount) ##單詞在該文件出現的次數/該文件擁有的所有單詞數量\n",
        "    return tfDict"
      ],
      "execution_count": 10,
      "outputs": []
    },
    {
      "cell_type": "markdown",
      "metadata": {
        "id": "DB9aRSBX62VQ"
      },
      "source": [
        "## 定義function:計算IDF"
      ]
    },
    {
      "cell_type": "code",
      "metadata": {
        "id": "j6PKdiHb62VQ"
      },
      "source": [
        "def computeIDF(documentsDict):\n",
        "    \"\"\"\n",
        "    documentsDict:為一個list，包含所有文件的wordDict\n",
        "    \"\"\"\n",
        "    import math\n",
        "    N = len(documentsDict)\n",
        "    \n",
        "    idfDict = dict.fromkeys(documentsDict[0].keys(), 0)\n",
        "    for document in documentsDict:\n",
        "        for word, val in document.items():\n",
        "            if val > 0:\n",
        "                idfDict[word] += 1 ## 計算單詞在多少文件中出現過\n",
        "    \n",
        "    for word, val in idfDict.items():\n",
        "        idfDict[word] = math.log(N/float(val)) ## 計算IDF，Log (所有文件的數目/包含這個單詞的文件數目)\n",
        "    return idfDict"
      ],
      "execution_count": 12,
      "outputs": []
    },
    {
      "cell_type": "markdown",
      "metadata": {
        "id": "JX_q_ckC62VQ"
      },
      "source": [
        "## 定義function:計算TFIDF"
      ]
    },
    {
      "cell_type": "code",
      "metadata": {
        "id": "fqLcaOnG62VQ"
      },
      "source": [
        "def computeTFIDF(tf_item, idfs):\n",
        "    tfidf = {}\n",
        "    for word, val in tf_item.items():\n",
        "        tfidf[word] = val * idfs[word]\n",
        "    return tfidf\n",
        "\n"
      ],
      "execution_count": 13,
      "outputs": []
    },
    {
      "cell_type": "code",
      "metadata": {
        "id": "eyTcIowV62VQ"
      },
      "source": [
        "tfA = computeTF(numOfWordsA, tokenize_A)\n",
        "tfB = computeTF(numOfWordsB, tokenize_B)\n",
        "\n",
        "idfs = computeIDF([numOfWordsA, numOfWordsB])\n",
        "\n",
        "\n",
        "tfidfA = computeTFIDF(tfA, idfs)\n",
        "tfidfB = computeTFIDF(tfB, idfs)"
      ],
      "execution_count": 14,
      "outputs": []
    },
    {
      "cell_type": "code",
      "metadata": {
        "colab": {
          "base_uri": "https://localhost:8080/"
        },
        "id": "Vzp4THka62VQ",
        "outputId": "bb2c87f9-851a-476d-e6c5-b97ade808cc4"
      },
      "source": [
        "tfidfA"
      ],
      "execution_count": 15,
      "outputs": [
        {
          "output_type": "execute_result",
          "data": {
            "text/plain": [
              "{'a': 0.09902102579427789,\n",
              " 'around': 0.0,\n",
              " 'children': 0.0,\n",
              " 'fire': 0.0,\n",
              " 'for': 0.09902102579427789,\n",
              " 'man': 0.09902102579427789,\n",
              " 'out': 0.09902102579427789,\n",
              " 'sat': 0.0,\n",
              " 'the': 0.0,\n",
              " 'walk': 0.09902102579427789,\n",
              " 'went': 0.09902102579427789}"
            ]
          },
          "metadata": {
            "tags": []
          },
          "execution_count": 15
        }
      ]
    },
    {
      "cell_type": "code",
      "metadata": {
        "colab": {
          "base_uri": "https://localhost:8080/"
        },
        "id": "y4BUIwHQ62VQ",
        "outputId": "fb69fd3c-6ae0-44c3-b00b-a6bda05cabc0"
      },
      "source": [
        "tfidfB"
      ],
      "execution_count": 16,
      "outputs": [
        {
          "output_type": "execute_result",
          "data": {
            "text/plain": [
              "{'a': 0.0,\n",
              " 'around': 0.11552453009332421,\n",
              " 'children': 0.11552453009332421,\n",
              " 'fire': 0.11552453009332421,\n",
              " 'for': 0.0,\n",
              " 'man': 0.0,\n",
              " 'out': 0.0,\n",
              " 'sat': 0.11552453009332421,\n",
              " 'the': 0.0,\n",
              " 'walk': 0.0,\n",
              " 'went': 0.0}"
            ]
          },
          "metadata": {
            "tags": []
          },
          "execution_count": 16
        }
      ]
    },
    {
      "cell_type": "code",
      "metadata": {
        "id": "FdiG0H0s62VR"
      },
      "source": [
        ""
      ],
      "execution_count": null,
      "outputs": []
    }
  ]
}