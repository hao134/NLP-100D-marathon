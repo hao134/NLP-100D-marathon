{
  "nbformat": 4,
  "nbformat_minor": 0,
  "metadata": {
    "kernelspec": {
      "display_name": "Python 3",
      "language": "python",
      "name": "python3"
    },
    "language_info": {
      "codemirror_mode": {
        "name": "ipython",
        "version": 3
      },
      "file_extension": ".py",
      "mimetype": "text/x-python",
      "name": "python",
      "nbconvert_exporter": "python",
      "pygments_lexer": "ipython3",
      "version": "3.7.4"
    },
    "colab": {
      "name": "Day2- String operation作業.ipynb",
      "provenance": []
    }
  },
  "cells": [
    {
      "cell_type": "markdown",
      "metadata": {
        "id": "2_2Mx1bWRYyi"
      },
      "source": [
        "# 作業目標：運用課程所學，操作字串達到預期輸出"
      ]
    },
    {
      "cell_type": "markdown",
      "metadata": {
        "id": "ByoiiqwERYyo"
      },
      "source": [
        "---"
      ]
    },
    {
      "cell_type": "markdown",
      "metadata": {
        "id": "y4vht_CYRYyr"
      },
      "source": [
        "### isnumeric(), isdigit(), isdecimal() 各有幾個"
      ]
    },
    {
      "cell_type": "code",
      "metadata": {
        "id": "vMxwpU8mRYyy"
      },
      "source": [
        "test_string = ['5.9', '30', '½', '³', '⑬']"
      ],
      "execution_count": 1,
      "outputs": []
    },
    {
      "cell_type": "code",
      "metadata": {
        "id": "IZXS2yMARYy-"
      },
      "source": [
        "def spam(s, isnumeric_count, isdigit_count, isdecimal_count):\n",
        "  for attr in ['isnumeric', 'isdecimal', 'isdigit']:\n",
        "    if attr == 'isnumeric':\n",
        "      isnumeric_count += getattr(s, attr)()\n",
        "    elif attr == 'isdecimal':\n",
        "      isdecimal_count += getattr(s, attr)()\n",
        "    elif attr == 'isdigit':\n",
        "      isdigit_count += getattr(s, attr)()\n",
        "  return isnumeric_count, isdecimal_count, isdigit_count\n",
        "\n",
        "        "
      ],
      "execution_count": 7,
      "outputs": []
    },
    {
      "cell_type": "code",
      "metadata": {
        "id": "o0Yy80H7RYzI",
        "outputId": "ada661ae-39c7-465a-bfd3-7f509fdde641",
        "colab": {
          "base_uri": "https://localhost:8080/"
        }
      },
      "source": [
        "isnumeric_count = 0\n",
        "isdigit_count = 0\n",
        "isdecimal_count = 0\n",
        "\n",
        "for string_item in test_string:\n",
        "  isnumeric_count, isdecimal_count, isdigit_count = spam(string_item, isnumeric_count, isdigit_count, isdecimal_count)\n",
        "\n",
        "print('isnumeric_count: {}'.format(isnumeric_count))     \n",
        "print('isdigit_count: {}'.format(isdigit_count))     \n",
        "print('isdecimal_count: {}'.format(isdecimal_count))  "
      ],
      "execution_count": 8,
      "outputs": [
        {
          "output_type": "stream",
          "text": [
            "isnumeric_count: 4\n",
            "isdigit_count: 2\n",
            "isdecimal_count: 1\n"
          ],
          "name": "stdout"
        }
      ]
    },
    {
      "cell_type": "markdown",
      "metadata": {
        "id": "p7RatqO9RYzS"
      },
      "source": [
        "---"
      ]
    },
    {
      "cell_type": "markdown",
      "metadata": {
        "id": "8aU7j-R8RYzT"
      },
      "source": [
        "## 運用formatting 技巧 output\n",
        "    * Accuracy: 98.13%, Recall: 94.88%, Precision: 96.29%"
      ]
    },
    {
      "cell_type": "code",
      "metadata": {
        "id": "ZSox5LkrRYzU"
      },
      "source": [
        "accuracy = 98.129393\n",
        "recall =   94.879583\n",
        "precision =96.294821"
      ],
      "execution_count": 9,
      "outputs": []
    },
    {
      "cell_type": "code",
      "metadata": {
        "id": "RVajG7rsRYzb",
        "outputId": "3b8a98c5-3a0d-48e9-8ca2-7c7acb21199c",
        "colab": {
          "base_uri": "https://localhost:8080/"
        }
      },
      "source": [
        "print('Accuracy: {:.2f}%, Recall: {:.2f}%, Precision: {:.2f}%'.format(accuracy, recall, precision))"
      ],
      "execution_count": 10,
      "outputs": [
        {
          "output_type": "stream",
          "text": [
            "Accuracy: 98.13%, Recall: 94.88%, Precision: 96.29%\n"
          ],
          "name": "stdout"
        }
      ]
    },
    {
      "cell_type": "code",
      "metadata": {
        "id": "IbOYhRn9RYzj"
      },
      "source": [
        "accuracy = 0.98129393\n",
        "recall =   0.94879583\n",
        "precision =0.96294821"
      ],
      "execution_count": 11,
      "outputs": []
    },
    {
      "cell_type": "code",
      "metadata": {
        "id": "5BWoM0rGYFFq",
        "outputId": "37540679-f84b-4ad9-e07f-b1ed4fcfbf00",
        "colab": {
          "base_uri": "https://localhost:8080/"
        }
      },
      "source": [
        "print('Accuracy: {:.2f}%, Recall: {:.2f}%, Precision: {:.2f}%'.format(100* accuracy, 100* recall, 100 *precision))"
      ],
      "execution_count": 12,
      "outputs": [
        {
          "output_type": "stream",
          "text": [
            "Accuracy: 98.13%, Recall: 94.88%, Precision: 96.29%\n"
          ],
          "name": "stdout"
        }
      ]
    },
    {
      "cell_type": "markdown",
      "metadata": {
        "id": "sBEQLYrkRYzy"
      },
      "source": [
        "---"
      ]
    },
    {
      "cell_type": "markdown",
      "metadata": {
        "id": "HPup75XcRYzz"
      },
      "source": [
        "## 依照只是轉換number output format"
      ]
    },
    {
      "cell_type": "code",
      "metadata": {
        "id": "0aN3wvGpRYz0"
      },
      "source": [
        "number = 3.1415926"
      ],
      "execution_count": 13,
      "outputs": []
    },
    {
      "cell_type": "markdown",
      "metadata": {
        "id": "dRZDb3y-RYz7"
      },
      "source": [
        "#### 轉換為科學符號表示法 (小數點後兩位)"
      ]
    },
    {
      "cell_type": "code",
      "metadata": {
        "id": "F2o-7xsTYS4t",
        "outputId": "f857940b-c5a0-4cad-a20b-c32668a121d8",
        "colab": {
          "base_uri": "https://localhost:8080/"
        }
      },
      "source": [
        "print('{:.2e}'.format(number))"
      ],
      "execution_count": 14,
      "outputs": [
        {
          "output_type": "stream",
          "text": [
            "3.14e+00\n"
          ],
          "name": "stdout"
        }
      ]
    },
    {
      "cell_type": "code",
      "metadata": {
        "id": "CuLmvyOdRYz8",
        "outputId": "7811ed1a-cc14-4810-b591-32f919647bd8"
      },
      "source": [
        "print('練習部分')"
      ],
      "execution_count": null,
      "outputs": [
        {
          "output_type": "execute_result",
          "data": {
            "text/plain": [
              "'3.14e+00'"
            ]
          },
          "metadata": {
            "tags": []
          },
          "execution_count": 53
        }
      ]
    },
    {
      "cell_type": "markdown",
      "metadata": {
        "id": "4tnD5R8bRY0D"
      },
      "source": [
        "#### 轉換為%"
      ]
    },
    {
      "cell_type": "code",
      "metadata": {
        "id": "xqQn-QN1YlOj",
        "outputId": "65e15bd3-b472-41c6-9d58-89d07eddc3e5",
        "colab": {
          "base_uri": "https://localhost:8080/"
        }
      },
      "source": [
        "print('{:.2%}'.format(number))"
      ],
      "execution_count": 17,
      "outputs": [
        {
          "output_type": "stream",
          "text": [
            "314.16%\n"
          ],
          "name": "stdout"
        }
      ]
    },
    {
      "cell_type": "code",
      "metadata": {
        "id": "Mpzy0AxDRY0E",
        "outputId": "b8d939db-876b-47ca-e170-88872baf1930"
      },
      "source": [
        "print('練習部分')"
      ],
      "execution_count": null,
      "outputs": [
        {
          "output_type": "execute_result",
          "data": {
            "text/plain": [
              "'314.16%'"
            ]
          },
          "metadata": {
            "tags": []
          },
          "execution_count": 54
        }
      ]
    },
    {
      "cell_type": "markdown",
      "metadata": {
        "id": "O7GjOTgARY0I"
      },
      "source": [
        "#### 補零成為3.14159300"
      ]
    },
    {
      "cell_type": "code",
      "metadata": {
        "id": "vmq-rJc6ZxzI",
        "outputId": "4599aa46-fc47-4f4a-af0e-6b4af4924da7",
        "colab": {
          "base_uri": "https://localhost:8080/"
        }
      },
      "source": [
        "print('{:0<10f}'.format(number))"
      ],
      "execution_count": 23,
      "outputs": [
        {
          "output_type": "stream",
          "text": [
            "3.14159300\n"
          ],
          "name": "stdout"
        }
      ]
    },
    {
      "cell_type": "code",
      "metadata": {
        "id": "1phR1fU3RY0J",
        "outputId": "ff9468b6-c109-4215-92a4-267a3f08a52d"
      },
      "source": [
        "print('練習部分')"
      ],
      "execution_count": null,
      "outputs": [
        {
          "output_type": "execute_result",
          "data": {
            "text/plain": [
              "'3.14159300'"
            ]
          },
          "metadata": {
            "tags": []
          },
          "execution_count": 55
        }
      ]
    }
  ]
}