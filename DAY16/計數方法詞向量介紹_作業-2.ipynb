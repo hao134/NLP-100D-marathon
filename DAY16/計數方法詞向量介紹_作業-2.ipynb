{
  "nbformat": 4,
  "nbformat_minor": 0,
  "metadata": {
    "kernelspec": {
      "display_name": "cupoy_env",
      "language": "python",
      "name": "cupoy_env"
    },
    "language_info": {
      "codemirror_mode": {
        "name": "ipython",
        "version": 3
      },
      "file_extension": ".py",
      "mimetype": "text/x-python",
      "name": "python",
      "nbconvert_exporter": "python",
      "pygments_lexer": "ipython3",
      "version": "3.7.3"
    },
    "colab": {
      "name": "計數方法詞向量介紹_作業.ipynb",
      "provenance": []
    }
  },
  "cells": [
    {
      "cell_type": "markdown",
      "metadata": {
        "id": "WTfXBT_-gjkj"
      },
      "source": [
        "## 作業目標: 透過思考與回答以更加了解計數方法的詞向量"
      ]
    },
    {
      "cell_type": "markdown",
      "metadata": {
        "id": "RAtwgTVhgjkk"
      },
      "source": [
        "### 請問詞庫手法會有什麼樣的優缺點？\n",
        "\n",
        "詞庫手法為創建包含大量字詞的詞庫，將相同意思字詞(同義字)或相似意思字詞(相似字)分類在相同群組。\n",
        "\n",
        "優點:\n",
        "## 快速聚集，尋找類似字詞\n",
        "\n",
        "缺點:\n",
        "## 維護不易，當詞庫越來越大時，加入新字詞耗時"
      ]
    },
    {
      "cell_type": "markdown",
      "metadata": {
        "id": "2GGxl99Ngjkk"
      },
      "source": [
        "### 請問共現矩陣有什麼樣的優缺點？ \n",
        "\n",
        "根據分佈假說，相似的字詞會有類似的上下文，因此我們可以透過計數周圍(window)的字詞來表達特定字詞的向量。\n",
        "\n",
        "優點:\n",
        "## 因為考慮了上下文，特定字詞的表現會顯得一致\n",
        "\n",
        "缺點:\n",
        "## 表現的矩陣過於龐大，耗內存"
      ]
    },
    {
      "cell_type": "markdown",
      "metadata": {
        "id": "mKxs7p9Ygjkk"
      },
      "source": [
        "### 請問為何需要對共現矩陣或PPMI進行SVD降維?\n",
        "\n",
        "## PPMI --> 共現矩陣對於高頻詞表現不佳，用PPMI來改善，因為ppmi值越高代表關聯性越高\n",
        "## SVD --> 共現矩陣過於龐大，使用svd來降維"
      ]
    },
    {
      "cell_type": "markdown",
      "metadata": {
        "id": "jRKveCTEgjkk"
      },
      "source": [
        "### 實作cosine similarity\n",
        "\n",
        "在比較兩個詞向量的相似度時可以使用cosine similarity:\n",
        "$$\n",
        "similarity(x,y) = \\frac{x \\cdot y}{||x||||y||} = \\frac{x_1y_1+...+x_ny_n}{\\sqrt{x_1^2+...+x_n^2}\\sqrt{y_1^2+...+y_n^2}}\n",
        "$$\n",
        "\n",
        "請實作cosine similarity並計算共現矩陣課程範例中you向量([0,1,0,0,0,0,0])與I([0,1,0,1,0,0,0])向量的相似度"
      ]
    },
    {
      "cell_type": "code",
      "metadata": {
        "colab": {
          "base_uri": "https://localhost:8080/"
        },
        "id": "uZGRYzEGmVSC",
        "outputId": "ca5ef425-2e66-4b35-c348-d2f0cc12762b"
      },
      "source": [
        "import numpy as np\n",
        "I = np.array([0,1,0,0,0,0,0])\n",
        "You = np.array([0,1,0,1,0,0,0])\n",
        "\n",
        "def cos_similarity(x, y, eps=1e-8):\n",
        "  return (np.dot(x,y))/(np.linalg.norm(x+eps)*np.linalg.norm(y+eps)) \n",
        "  \n",
        "\n",
        "print(f\"Similarity: {cos_similarity(I, You)}\")"
      ],
      "execution_count": 15,
      "outputs": [
        {
          "output_type": "stream",
          "text": [
            "Similarity: 0.7071067670444122\n"
          ],
          "name": "stdout"
        }
      ]
    },
    {
      "cell_type": "code",
      "metadata": {
        "id": "he8E82J2gjkk",
        "outputId": "516de915-72a9-49c8-a081-7955c04ce3a1"
      },
      "source": [
        "import numpy as np\n",
        "I = np.array([0,1,0,0,0,0,0])\n",
        "You = np.array([0,1,0,1,0,0,0])\n",
        "\n",
        "def cos_similarity(x, y, eps=1e-8):\n",
        "  (np.dot(x,y))/(np.linalg.norm(x+eps)*np.linalg.norm(y+eps)) \n",
        "  \n",
        "\n",
        "print(f\"Similarity: {cos_similarity(I, You)}\")"
      ],
      "execution_count": null,
      "outputs": [
        {
          "output_type": "stream",
          "text": [
            "Similarity: 0.7071067811865475\n"
          ],
          "name": "stdout"
        }
      ]
    },
    {
      "cell_type": "code",
      "metadata": {
        "id": "_2ykVv2ymERd"
      },
      "source": [
        ""
      ],
      "execution_count": null,
      "outputs": []
    }
  ]
}